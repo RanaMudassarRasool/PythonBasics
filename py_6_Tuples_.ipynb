{
  "nbformat": 4,
  "nbformat_minor": 0,
  "metadata": {
    "colab": {
      "provenance": [],
      "authorship_tag": "ABX9TyN0ATGeBwwZcRRY5KrJ7dZV",
      "include_colab_link": true
    },
    "kernelspec": {
      "name": "python3",
      "display_name": "Python 3"
    },
    "language_info": {
      "name": "python"
    }
  },
  "cells": [
    {
      "cell_type": "markdown",
      "metadata": {
        "id": "view-in-github",
        "colab_type": "text"
      },
      "source": [
        "<a href=\"https://colab.research.google.com/github/ranamaddy/PythonBasics/blob/main/py_6_Tuples_.ipynb\" target=\"_parent\"><img src=\"https://colab.research.google.com/assets/colab-badge.svg\" alt=\"Open In Colab\"/></a>"
      ]
    },
    {
      "cell_type": "markdown",
      "source": [
        "# **Python Tuples: Understanding the Basics, Benefits, and Use Cases**\n",
        "\n",
        "Table of Contents\n",
        "Introduction\n",
        "What are Tuples?\n",
        "Declaring and Accessing Tuples\n",
        "Modifying Tuples\n",
        "Benefits of Using Tuples\n",
        "Use Cases for Tuples\n",
        "Conclusion\n",
        "FAQs\n",
        "**1. Introduction**\n",
        "In Python, a tuple is an ordered, immutable collection of elements. Tuples are similar to lists, but with one key difference: once a tuple is created, it cannot be modified. This makes tuples a useful tool for working with data that should not be altered, such as constants or settings.\n",
        "\n",
        "**2. What are Tuples?**\n",
        "Tuples are a data structure in Python that allow for the storage of a sequence of elements. Each element in a tuple is identified by its index, which begins at 0 for the first element. Tuples can contain any combination of data types, including numbers, strings, and even other tuples.\n",
        "\n",
        "**3. Declaring and Accessing Tuples**\n",
        "To declare a tuple in Python, simply separate the elements with commas and enclose the entire sequence in parentheses. For example:"
      ],
      "metadata": {
        "id": "rVpLT5Iq-OPX"
      }
    },
    {
      "cell_type": "code",
      "execution_count": null,
      "metadata": {
        "id": "a5z6mPz19Bf4"
      },
      "outputs": [],
      "source": [
        "my_tuple = (1, 2, \"three\", (4, 5))\n"
      ]
    },
    {
      "cell_type": "code",
      "source": [
        "#To access the elements of a tuple, simply use the index of the element. For example:\n",
        "print(my_tuple[2]) # Output: \"three\"\n",
        "print(my_tuple[3][1]) # Output: 5\n"
      ],
      "metadata": {
        "colab": {
          "base_uri": "https://localhost:8080/"
        },
        "id": "rDvwaQAI-wyu",
        "outputId": "cbd29260-1c83-40a7-cca8-4d6779bd2e96"
      },
      "execution_count": null,
      "outputs": [
        {
          "output_type": "stream",
          "name": "stdout",
          "text": [
            "three\n",
            "5\n"
          ]
        }
      ]
    },
    {
      "cell_type": "markdown",
      "source": [
        "# Features of Python Tuple\n",
        "**Tuples are an immutable data type, which means that once they have been generated, their elements cannot be changed.**\n",
        "\n",
        "**Since tuples are ordered sequences, each element has a specific order that will never change.**\n",
        "\n",
        "**Creating of Tuple:**\n",
        "\n",
        "To create a tuple, all the objects (or \"elements\") must be enclosed in parenthesis (), each one separated by a comma. Although it is not necessary to include parentheses, doing so is advised.\n",
        "\n",
        "A tuple can contain any number of items, including ones with different data types (dictionary, string, float, list, etc.)."
      ],
      "metadata": {
        "id": "2KRNmAa-mVFn"
      }
    },
    {
      "cell_type": "code",
      "source": [
        "# Python program to show how to create a tuple    \n",
        "# Creating an empty tuple  \n",
        "empty_tuple = ()\n",
        "empty_tuple  \n",
        "\n"
      ],
      "metadata": {
        "colab": {
          "base_uri": "https://localhost:8080/"
        },
        "id": "UpSZwRTAmUTZ",
        "outputId": "c39050d9-b7ac-4371-8c40-0ca9071fdaf4"
      },
      "execution_count": 2,
      "outputs": [
        {
          "output_type": "execute_result",
          "data": {
            "text/plain": [
              "()"
            ]
          },
          "metadata": {},
          "execution_count": 2
        }
      ]
    },
    {
      "cell_type": "code",
      "source": [
        "# Creating a tuple with elements\n",
        "my_tuple = (1, 2, \"three\", (4, 5))\n",
        "my_tuple"
      ],
      "metadata": {
        "colab": {
          "base_uri": "https://localhost:8080/"
        },
        "id": "W3ukYMYLnbig",
        "outputId": "8ddf6925-4fae-49f2-c264-4450c872fc51"
      },
      "execution_count": 3,
      "outputs": [
        {
          "output_type": "execute_result",
          "data": {
            "text/plain": [
              "(1, 2, 'three', (4, 5))"
            ]
          },
          "metadata": {},
          "execution_count": 3
        }
      ]
    },
    {
      "cell_type": "code",
      "source": [
        "# Adding elements to a tuple is not possible as tuples are immutable\n",
        "# Concatenating tuples\n",
        "new_tuple = my_tuple + (6, 7)\n",
        "my_tuple"
      ],
      "metadata": {
        "colab": {
          "base_uri": "https://localhost:8080/"
        },
        "id": "_scBv8_5nhaz",
        "outputId": "910849d1-b6bf-4eab-e1e4-0866af773bcc"
      },
      "execution_count": 4,
      "outputs": [
        {
          "output_type": "execute_result",
          "data": {
            "text/plain": [
              "(1, 2, 'three', (4, 5))"
            ]
          },
          "metadata": {},
          "execution_count": 4
        }
      ]
    },
    {
      "cell_type": "markdown",
      "source": [
        "# Accessing Tuple Elements\n",
        "We can access the objects of a tuple in a variety of ways.\n",
        "\n",
        "**Indexing**\n",
        "\n",
        "To access an object of a tuple, we can use the index operator [], where indexing in the tuple starts from 0.\n",
        "\n",
        "A tuple with 5 items will have indices ranging from 0 to 4. An IndexError will be raised if we try to access an index from the tuple that is outside the range of the tuple index. In this case, an index above 4 will be out of range.\n",
        "\n",
        "\n",
        "We cannot give an index of a floating data type or other kinds because the index in Python must be an integer. TypeError will appear as a result if we give a floating index.\n",
        "\n",
        "The example below illustrates how indexing is performed in nested tuples to access elements."
      ],
      "metadata": {
        "id": "C27ux4K9nwWw"
      }
    },
    {
      "cell_type": "code",
      "source": [
        "# Python program to show how to access tuple elements    \n",
        "# Creating a tuple   \n",
        "my_tuple = (1, 2, \"three\", (4, 5)) \n",
        "# Slicing a tuple\n",
        "print(my_tuple[1:3]) # Output: (2, \"three\")\n"
      ],
      "metadata": {
        "colab": {
          "base_uri": "https://localhost:8080/"
        },
        "id": "gJrXXPdVnujD",
        "outputId": "7ebc3572-674e-4586-a97d-c0d3f807aa4c"
      },
      "execution_count": 5,
      "outputs": [
        {
          "output_type": "stream",
          "name": "stdout",
          "text": [
            "(2, 'three')\n"
          ]
        }
      ]
    },
    {
      "cell_type": "code",
      "source": [
        "# Python program to show how to access tuple elements  with index\n",
        "# Creating a tuple\n",
        "my_tuple = (1, 2, \"three\", (4, 5))\n",
        "# Accessing tuple elements with index\n",
        "print(my_tuple[0]) # Output: 1\n"
      ],
      "metadata": {
        "colab": {
          "base_uri": "https://localhost:8080/"
        },
        "id": "3MD-DWgQoDFP",
        "outputId": "1d6f683b-ccdb-4b97-a91a-04cd008fa72c"
      },
      "execution_count": 6,
      "outputs": [
        {
          "output_type": "stream",
          "name": "stdout",
          "text": [
            "1\n"
          ]
        }
      ]
    },
    {
      "cell_type": "markdown",
      "source": [
        "# Negative Indexing"
      ],
      "metadata": {
        "id": "4Fjk9j7DoU4Q"
      }
    },
    {
      "cell_type": "code",
      "source": [
        "#Negative Indexing in tuple \n",
        "# Python program to show negative indexing in tuple\n",
        "# Creating a tuple\n",
        "my_tuple = (1, 2, \"three\", (4, 5))\n",
        "# Accessing tuple elements with negative indexing\n",
        "print(my_tuple[-1]) # Output: (4, 5)\n",
        "\n"
      ],
      "metadata": {
        "colab": {
          "base_uri": "https://localhost:8080/"
        },
        "id": "FkZUbXi-oUJV",
        "outputId": "8817ba26-01b7-4877-ddf3-80b25ae87655"
      },
      "execution_count": 7,
      "outputs": [
        {
          "output_type": "stream",
          "name": "stdout",
          "text": [
            "(4, 5)\n"
          ]
        }
      ]
    },
    {
      "cell_type": "code",
      "source": [
        "# Python program to show how to unpack a tuple\n",
        "# Creating a tuple\n",
        "my_tuple = (1, 2, \"three\", (4, 5))\n",
        "# Unpacking a tuple\n",
        "a, b, c, d = my_tuple\n",
        "# Printing the unpacked values\n",
        "print(a) # Output: 1\n"
      ],
      "metadata": {
        "colab": {
          "base_uri": "https://localhost:8080/"
        },
        "id": "5gEfp41VosRQ",
        "outputId": "fb094fd7-c973-455b-8be5-b415cf346858"
      },
      "execution_count": 8,
      "outputs": [
        {
          "output_type": "stream",
          "name": "stdout",
          "text": [
            "1\n"
          ]
        }
      ]
    },
    {
      "cell_type": "markdown",
      "source": [
        "# Deleting a Tuple\n",
        "A tuple's components cannot be altered, as was previously said. As a result, we are unable to get rid of or remove tuple components.\n",
        "\n",
        "However, a tuple can be totally deleted with the keyword del."
      ],
      "metadata": {
        "id": "_yoDSm82o-p9"
      }
    },
    {
      "cell_type": "code",
      "source": [
        "# Python program to show how to delete elements of a Python tuple    \n",
        "# Creating a tuple    \n",
        "my_tuple = (1, 2, \"three\", (4, 5))\n",
        "# Deleting elements of a tuple\n",
        "\n",
        "del my_tuple\n"
      ],
      "metadata": {
        "id": "zLk3oPyZpArl"
      },
      "execution_count": 9,
      "outputs": []
    },
    {
      "cell_type": "markdown",
      "source": [
        "**add new value in Tuple** "
      ],
      "metadata": {
        "id": "n36rHKR9pr-E"
      }
    },
    {
      "cell_type": "code",
      "source": [
        "# add new value in Tuple \n",
        "# Python program to show how to add a new value in a tuple\n",
        "# Creating a tuple\n",
        "my_tuple = (1, 2, \"three\", (4, 5))\n",
        "# Adding a new value in a tuple\n",
        "my_tuple = my_tuple + (\"six\",)\n",
        "# Python program to show how to check if an element exists in a tuple\n"
      ],
      "metadata": {
        "id": "qzvD8xsgpc8G"
      },
      "execution_count": 10,
      "outputs": []
    },
    {
      "cell_type": "code",
      "source": [
        "# change value in tuple \n",
        "# Python program to show how to change a value in a tuple\n",
        "# Creating a tuple\n",
        "my_tuple = (1, 2, \"three\", (4, 5))\n",
        "# Changing a value in a tuple\n",
        "my_tuple = my_tuple[:2] + (\"new value\",) + my_tuple[3:]\n",
        "my_tuple"
      ],
      "metadata": {
        "colab": {
          "base_uri": "https://localhost:8080/"
        },
        "id": "rAY-cLVRpt5R",
        "outputId": "a5d7b8e4-7eba-4ef7-9116-6615f1d333e4"
      },
      "execution_count": 12,
      "outputs": [
        {
          "output_type": "execute_result",
          "data": {
            "text/plain": [
              "(1, 2, 'new value', (4, 5))"
            ]
          },
          "metadata": {},
          "execution_count": 12
        }
      ]
    },
    {
      "cell_type": "markdown",
      "source": [
        "**Changing a Tuple**\n",
        "Tuples, as opposed to lists, are immutable objects.\n",
        "\n",
        "This suggests that we are unable to change a tuple's elements once they have been defined. The nested elements of an element can be changed, though, if the element itself is a changeable data type like a list.\n",
        "\n",
        "A tuple can be assigned to many values (reassignment)."
      ],
      "metadata": {
        "id": "uHnOEFB4raSk"
      }
    },
    {
      "cell_type": "code",
      "source": [
        "# change existing value in tuple \n",
        "# Python program to show how to change an existing value in a tuple\n",
        "# Creating a tuple\n",
        "my_tuple = (1, 2, \"three\", (4, 5))\n",
        "# Changing an existing value in a tuple\n",
        "my_list = list(my_tuple)\n",
        "# Changing an existing value in a tuple\n",
        "my_list[2] = \"new value\"\n",
        "# Converting the list back to a tuple\n",
        "my_tuple = tuple(my_list)\n",
        "my_tuple"
      ],
      "metadata": {
        "colab": {
          "base_uri": "https://localhost:8080/"
        },
        "id": "dcH8L-1nqP0K",
        "outputId": "4c513db8-4020-44b0-acdd-43c06058b851"
      },
      "execution_count": 13,
      "outputs": [
        {
          "output_type": "execute_result",
          "data": {
            "text/plain": [
              "(1, 2, 'new value', (4, 5))"
            ]
          },
          "metadata": {},
          "execution_count": 13
        }
      ]
    },
    {
      "cell_type": "code",
      "source": [
        "# use max() in tuple and show \n",
        "# Python program to show how to use max() in tuple\n",
        "# Creating a tuple\n",
        "my_tuple = (1, 5, 3, 9, 2)\n",
        "# Using max() in tuple\n",
        "print(max(my_tuple))\n"
      ],
      "metadata": {
        "colab": {
          "base_uri": "https://localhost:8080/"
        },
        "id": "83UoDoLFqnN2",
        "outputId": "3e7e45e2-43ec-4cfc-f4e8-9f859fdd7749"
      },
      "execution_count": 14,
      "outputs": [
        {
          "output_type": "stream",
          "name": "stdout",
          "text": [
            "9\n"
          ]
        }
      ]
    },
    {
      "cell_type": "markdown",
      "source": [
        "**Index() Method:**\n",
        "The first instance of the requested element from the tuple is returned by the Index() function.\n",
        "\n",
        "# **Parameters:**\n",
        "\n",
        "The element to be looked for.\n",
        "\n",
        "begin (Optional): the index used as the starting point for searching\n",
        "final (optional): The last index up until which the search is conducted\n",
        "Index() Method"
      ],
      "metadata": {
        "id": "SThXgVJRq5cs"
      }
    },
    {
      "cell_type": "code",
      "source": [
        "# Creating tuples  \n",
        "Tuple_data = (0, 1, 2, 3, 2, 3, 1, 3, 2)  \n",
        "# getting the index of 3  \n",
        "res = Tuple_data.index(3)  \n",
        "print('First occurrence of 1 is', res)  \n",
        "# getting the index of 3 after 4th  \n",
        "# index  \n",
        "res = Tuple_data.index(3, 4)  \n",
        "print('First occurrence of 1 after 4th index is:', res)  "
      ],
      "metadata": {
        "colab": {
          "base_uri": "https://localhost:8080/"
        },
        "id": "OGu6dVoVq9km",
        "outputId": "340a883d-77f6-4af4-8bf6-abc20564a971"
      },
      "execution_count": 15,
      "outputs": [
        {
          "output_type": "stream",
          "name": "stdout",
          "text": [
            "First occurrence of 1 is 3\n",
            "First occurrence of 1 after 4th index is: 5\n"
          ]
        }
      ]
    },
    {
      "cell_type": "markdown",
      "source": [
        "# Tuple Membership Test\n",
        "Using the in keyword, we can determine whether an item is present in the given tuple or not."
      ],
      "metadata": {
        "id": "xhHUhPVprEWo"
      }
    },
    {
      "cell_type": "code",
      "source": [
        "# Python program to show how to perform membership test for tuples    \n",
        "# Creating a tuple    \n",
        "tuple_ = (\"Python\", \"Tuple\", \"Ordered\", \"Immutable\", \"Collection\", \"Ordered\")    \n",
        "# In operator    \n",
        "print('Tuple' in tuple_)    \n",
        "print('Items' in tuple_)    \n",
        "# Not in operator    \n",
        "print('Immutable' not in tuple_)    \n",
        "print('Items' not in tuple_)    "
      ],
      "metadata": {
        "colab": {
          "base_uri": "https://localhost:8080/"
        },
        "id": "Ut_JMNYfrD0p",
        "outputId": "9dcbc4f4-a917-4137-b1ee-3b266caf0f14"
      },
      "execution_count": 16,
      "outputs": [
        {
          "output_type": "stream",
          "name": "stdout",
          "text": [
            "True\n",
            "False\n",
            "False\n",
            "True\n"
          ]
        }
      ]
    },
    {
      "cell_type": "markdown",
      "source": [
        "# Iterating Through a Tuple\n",
        "We can use a for loop to iterate through each element of a tuple."
      ],
      "metadata": {
        "id": "cU4UZazbrN-l"
      }
    },
    {
      "cell_type": "code",
      "source": [
        "# Python program to show how to iterate over tuple elements    \n",
        "# Creating a tuple    \n",
        "tuple_ = (\"Python\", \"Tuple\", \"Ordered\", \"Immutable\")    \n",
        "# Iterating over tuple elements using a for loop    \n",
        "for item in tuple_:    \n",
        "    print(item)    "
      ],
      "metadata": {
        "colab": {
          "base_uri": "https://localhost:8080/"
        },
        "id": "KAjfVaU6rP1y",
        "outputId": "188e7551-06d8-4544-d581-ae9fd125c7b0"
      },
      "execution_count": 17,
      "outputs": [
        {
          "output_type": "stream",
          "name": "stdout",
          "text": [
            "Python\n",
            "Tuple\n",
            "Ordered\n",
            "Immutable\n"
          ]
        }
      ]
    }
  ]
}