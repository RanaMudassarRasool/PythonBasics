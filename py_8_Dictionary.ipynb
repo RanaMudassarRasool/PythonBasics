{
  "nbformat": 4,
  "nbformat_minor": 0,
  "metadata": {
    "colab": {
      "provenance": [],
      "authorship_tag": "ABX9TyPqN0Uzr7vD55S9QQbfWaZq",
      "include_colab_link": true
    },
    "kernelspec": {
      "name": "python3",
      "display_name": "Python 3"
    },
    "language_info": {
      "name": "python"
    }
  },
  "cells": [
    {
      "cell_type": "markdown",
      "metadata": {
        "id": "view-in-github",
        "colab_type": "text"
      },
      "source": [
        "<a href=\"https://colab.research.google.com/github/ranamaddy/PythonBasics/blob/main/py_8_Dictionary.ipynb\" target=\"_parent\"><img src=\"https://colab.research.google.com/assets/colab-badge.svg\" alt=\"Open In Colab\"/></a>"
      ]
    },
    {
      "cell_type": "markdown",
      "source": [
        "# Python Dictionary\n",
        "\n",
        "Python dictionaries are an effective data structure used for storing and retrieving data in a key-value pair format. They allow you to simulate real-life data arrangements where specific values exist for particular keys.\n",
        "\n",
        "Some key characteristics of Python dictionaries include:\n",
        "\n",
        "- **Mutable:** Dictionaries are mutable, which means their values can be changed after they are created. This makes them useful for storing and manipulating data that needs to be updated or modified over time.\n",
        "\n",
        "- **Key-Value Pairs:** Dictionaries consist of key-value pairs, where each key is unique and associated with a value. The keys are used to access the corresponding values in the dictionary.\n",
        "\n",
        "- **Key and Value Types:** Keys in a dictionary must consist of just one element and be immutable, meaning they cannot be changed after they are created. Values, on the other hand, can be of any type such as lists, tuples, integers, etc. This flexibility allows dictionaries to store different types of data in a single data structure.\n",
        "\n",
        "- **Ordering of Dictionary Entries:** In Python 3.7 and later versions, dictionary entries are ordered based on the insertion order. This means that the order in which key-value pairs are added to the dictionary is preserved. However, in Python 3.6 and earlier versions, dictionaries are generally unordered, meaning the order of key-value pairs is arbitrary.\n",
        "\n",
        "Overall, Python dictionaries are a versatile and efficient data structure that allows you to store, retrieve, and manipulate data in a flexible and organized manner using key-value pairs.\n",
        "\n"
      ],
      "metadata": {
        "id": "wV30-KWRml4D"
      }
    },
    {
      "cell_type": "markdown",
      "source": [
        "**Creating the Dictionary**\n",
        "Creating a dictionary in Python is easy and can be done using curly brackets {}. You can define a dictionary by specifying key-value pairs enclosed within the curly brackets, where each key is separated from its corresponding value by a colon **(:)**. Here's the syntax for creating a dictionary:\n",
        "\n",
        "**my_dict = {key1: value1, key2: value2, key3: value3, ...}**\n",
        "\n",
        "In this syntax, my_dict is the name of the dictionary variable that you can choose, and **key1, key2, key3,** etc. are the keys that you define for your dictionary. Similarly, value1, value2, value3, etc. are the corresponding values associated with the keys.\n",
        "\n",
        "For example, let's create a dictionary called **student** with key-value pairs representing student information:\n"
      ],
      "metadata": {
        "id": "hukHeYdCnTji"
      }
    },
    {
      "cell_type": "code",
      "execution_count": 1,
      "metadata": {
        "id": "LNnVwKTBOn7n"
      },
      "outputs": [],
      "source": [
        "student = {'name': 'John', 'age': 20, 'gender': 'male', 'grade': 'A'}"
      ]
    },
    {
      "cell_type": "markdown",
      "source": [
        "In this dictionary, the keys are **'name', 'age', 'gender', and 'grade',** and the corresponding values are '**John', 20, 'male', and 'A',** respectively.\n",
        "\n",
        "**You can also create an empty dictionary by simply using empty curly brackets:**"
      ],
      "metadata": {
        "id": "-_M03-Kjn5fA"
      }
    },
    {
      "cell_type": "code",
      "source": [
        "my_dict = {}\n"
      ],
      "metadata": {
        "id": "OOvQS-smoBaT"
      },
      "execution_count": 2,
      "outputs": []
    },
    {
      "cell_type": "markdown",
      "source": [
        "Then, you can add key-value pairs to the dictionary using assignment statements, like this:"
      ],
      "metadata": {
        "id": "ai9K5U2doLJZ"
      }
    },
    {
      "cell_type": "code",
      "source": [
        "my_dict['key1'] = 'value1'\n",
        "my_dict['key2'] = 'value2'\n",
        "print(my_dict)\n"
      ],
      "metadata": {
        "colab": {
          "base_uri": "https://localhost:8080/"
        },
        "id": "Sts4MdFRoPPY",
        "outputId": "054d1537-7c23-46f9-d203-3502b0118fb8"
      },
      "execution_count": 4,
      "outputs": [
        {
          "output_type": "stream",
          "name": "stdout",
          "text": [
            "{'key1': 'value1', 'key2': 'value2'}\n"
          ]
        }
      ]
    },
    {
      "cell_type": "code",
      "source": [
        "print(my_dict['key1'])"
      ],
      "metadata": {
        "colab": {
          "base_uri": "https://localhost:8080/"
        },
        "id": "eVu_1nfaoW0W",
        "outputId": "79ff78d1-2033-4111-a4fd-f8fde4ccfd90"
      },
      "execution_count": 5,
      "outputs": [
        {
          "output_type": "stream",
          "name": "stdout",
          "text": [
            "value1\n"
          ]
        }
      ]
    },
    {
      "cell_type": "code",
      "source": [
        "student = {'name': 'John', 'age': 20, 'gender': 'male', 'grade': 'A'}\n",
        "print(student)\n",
        "print(student['name'])\n"
      ],
      "metadata": {
        "colab": {
          "base_uri": "https://localhost:8080/"
        },
        "id": "o9VxI20sobxP",
        "outputId": "5217415d-54a6-49b2-b028-75dff4f2eba8"
      },
      "execution_count": 9,
      "outputs": [
        {
          "output_type": "stream",
          "name": "stdout",
          "text": [
            "{'name': 'John', 'age': 20, 'gender': 'male', 'grade': 'A'}\n",
            "John\n"
          ]
        }
      ]
    },
    {
      "cell_type": "markdown",
      "source": [
        "# Accessing the dictionary values\n",
        "In Python dictionaries, you can access the values associated with specific keys using the keys themselves. You do not need to use indexing like in lists or tuples. Here's how you can access dictionary values:"
      ],
      "metadata": {
        "id": "SNQ178DNo9dH"
      }
    },
    {
      "cell_type": "code",
      "source": [
        "# Define a dictionary\n",
        "my_dict = {'name': 'John', 'age': 20, 'gender': 'male', 'grade': 'A'}\n",
        "\n",
        "# Access values using keys\n",
        "name = my_dict['name']     # Access value associated with key 'name'\n",
        "age = my_dict['age']       # Access value associated with key 'age'\n",
        "gender = my_dict['gender'] # Access value associated with key 'gender'\n",
        "grade = my_dict['grade']   # Access value associated with key 'grade'\n",
        "print(age)\n",
        "print(grade)\n"
      ],
      "metadata": {
        "colab": {
          "base_uri": "https://localhost:8080/"
        },
        "id": "0FQdNRdlpKOg",
        "outputId": "2296340c-deee-4ecc-d601-a72df1c3a832"
      },
      "execution_count": 12,
      "outputs": [
        {
          "output_type": "stream",
          "name": "stdout",
          "text": [
            "20\n",
            "A\n"
          ]
        }
      ]
    },
    {
      "cell_type": "markdown",
      "source": [
        "In this example, my_dict is the dictionary that contains key-value pairs. To access the values, you use the keys **'name', 'age', 'gender', and 'grade'** inside square **brackets []** after the dictionary name. The values associated with these keys are stored in the variables name, age, gender, and grade, respectively"
      ],
      "metadata": {
        "id": "mYFGMhZ5pZUs"
      }
    },
    {
      "cell_type": "markdown",
      "source": [
        "**It's important** to note that if you try to access a key that does not exist in the dictionary, Python will raise a **KeyError** exception. To avoid this, you can use the **get()** method, which allows you to specify a default value to be returned if the key is not found:"
      ],
      "metadata": {
        "id": "jn756hNGpkQd"
      }
    },
    {
      "cell_type": "code",
      "source": [
        "# Access values using get() method with default value\n",
        "name = my_dict.get('name', 'Unknown')     # Access value associated with key 'name' or return 'Unknown' if not found\n",
        "age = my_dict.get('age', 'Unknown')       # Access value associated with key 'age' or return 'Unknown' if not found\n",
        "gender = my_dict.get('gender', 'Unknown') # Access value associated with key 'gender' or return 'Unknown' if not found\n",
        "grade = my_dict.get('grade', 'Unknown')   # Access value associated with key 'grade' or return 'Unknown' if not found\n",
        "print(name)\n"
      ],
      "metadata": {
        "colab": {
          "base_uri": "https://localhost:8080/"
        },
        "id": "l7L6G15Upff2",
        "outputId": "3c0d322e-706e-4882-d075-2a24c2e6658d"
      },
      "execution_count": 14,
      "outputs": [
        {
          "output_type": "stream",
          "name": "stdout",
          "text": [
            "John\n"
          ]
        }
      ]
    },
    {
      "cell_type": "markdown",
      "source": [
        "Using the **get()** method with a default value helps to handle cases where the specified key may not exist in the dictionary, without raising an err"
      ],
      "metadata": {
        "id": "Bg8MN5ScpzGK"
      }
    },
    {
      "cell_type": "markdown",
      "source": [
        "# example \n",
        "Here's a **complete example of how you can access the values in a dictionary in Python and print them:**"
      ],
      "metadata": {
        "id": "7GZk162IqBfH"
      }
    },
    {
      "cell_type": "code",
      "source": [
        "# Define a dictionary\n",
        "student = {'name': 'John', 'age': 20, 'gender': 'male', 'grade': 'A'}\n",
        "\n",
        "# Access values using keys\n",
        "name = student['name']\n",
        "age = student['age']\n",
        "gender = student['gender']\n",
        "grade = student['grade']\n",
        "\n",
        "# Print the values\n",
        "print(\"Name: \", name)\n",
        "print(\"Age: \", age)\n",
        "print(\"Gender: \", gender)\n",
        "print(\"Grade: \", grade)\n"
      ],
      "metadata": {
        "colab": {
          "base_uri": "https://localhost:8080/"
        },
        "id": "Ts0hQw5qqHet",
        "outputId": "a013e528-8ed3-42fe-ed12-6ed2bf79fb25"
      },
      "execution_count": 15,
      "outputs": [
        {
          "output_type": "stream",
          "name": "stdout",
          "text": [
            "Name:  John\n",
            "Age:  20\n",
            "Gender:  male\n",
            "Grade:  A\n"
          ]
        }
      ]
    },
    {
      "cell_type": "markdown",
      "source": [
        "# example \n",
        "Here's an example of how you can use the **get()** method to access dictionary values with a default value in Python:"
      ],
      "metadata": {
        "id": "53Qha-4NqRB9"
      }
    },
    {
      "cell_type": "code",
      "source": [
        "# Define a dictionary\n",
        "student = {'name': 'John', 'age': 20, 'gender': 'male', 'grade': 'A'}\n",
        "\n",
        "# Access values using get() method with default value\n",
        "name = student.get('name', 'Unknown')\n",
        "age = student.get('age', 'Unknown')\n",
        "gender = student.get('gender', 'Unknown')\n",
        "grade = student.get('grade', 'Unknown')\n",
        "\n",
        "# Print the values\n",
        "print(\"Name: \", name)\n",
        "print(\"Age: \", age)\n",
        "print(\"Gender: \", gender)\n",
        "print(\"Grade: \", grade)\n"
      ],
      "metadata": {
        "colab": {
          "base_uri": "https://localhost:8080/"
        },
        "id": "Jiipbj33qeZ3",
        "outputId": "8913403c-adeb-410e-f1ef-11aa0d492c40"
      },
      "execution_count": 16,
      "outputs": [
        {
          "output_type": "stream",
          "name": "stdout",
          "text": [
            "Name:  John\n",
            "Age:  20\n",
            "Gender:  male\n",
            "Grade:  A\n"
          ]
        }
      ]
    },
    {
      "cell_type": "markdown",
      "source": [
        "**Problem Statement:** You are given a list of students and their corresponding grades. You need to calculate the average grade for each student and store the results in a dictionary."
      ],
      "metadata": {
        "id": "X_9VqpM5quJc"
      }
    },
    {
      "cell_type": "code",
      "source": [
        "# List of students and their grades\n",
        "students = {'John': [90, 85, 92], 'Alice': [88, 91, 89], 'Bob': [92, 87, 94]}\n",
        "\n",
        "# Dictionary to store average grades\n",
        "average_grades = {}\n",
        "\n",
        "# Iterate through the students dictionary\n",
        "for student, grades in students.items():\n",
        "    # Calculate average grade\n",
        "    average_grade = sum(grades) / len(grades)\n",
        "    # Store average grade in dictionary\n",
        "    average_grades[student] = average_grade\n",
        "\n",
        "# Print the average grades\n",
        "print(\"Average Grades:\")\n",
        "for student, average_grade in average_grades.items():\n",
        "    print(student + \": \" + str(average_grade))\n"
      ],
      "metadata": {
        "colab": {
          "base_uri": "https://localhost:8080/"
        },
        "id": "thr7o9xEqy0i",
        "outputId": "01008323-8c7b-4f00-f4d6-035977a58138"
      },
      "execution_count": 17,
      "outputs": [
        {
          "output_type": "stream",
          "name": "stdout",
          "text": [
            "Average Grades:\n",
            "John: 89.0\n",
            "Alice: 89.33333333333333\n",
            "Bob: 91.0\n"
          ]
        }
      ]
    },
    {
      "cell_type": "markdown",
      "source": [
        "In this example, we have a dictionary students where the keys represent the names of the students and the values are lists of grades for each student. We want to calculate the average grade for each student and store the results in a new dictionary average_grades with the student names as keys and the corresponding average grades as values.\n",
        "\n",
        "We iterate through the students dictionary using a for loop and access the grades for each student using the items() method. We then calculate the average grade by summing up the grades and dividing by the total number of grades using the sum() and len() functions, respectively.\n",
        "\n",
        "We store the average grade in the average_grades dictionary with the student name as the key and the average grade as the value. Finally, we use another for loop to print the average grades for each student using print() statements"
      ],
      "metadata": {
        "id": "NvMw6R3Rq_3G"
      }
    },
    {
      "cell_type": "markdown",
      "source": [
        "**Problem Statement:** You are building a movie recommendation system, and you have a list of movies with their ratings. You want to find the top-rated movie and display its details."
      ],
      "metadata": {
        "id": "iHc5IX78rHf4"
      }
    },
    {
      "cell_type": "code",
      "source": [
        "# List of movies with their ratings\n",
        "movies = {\n",
        "    'Interstellar': {'rating': 9.2, 'genre': 'Sci-Fi', 'year': 2014},\n",
        "    'The Shawshank Redemption': {'rating': 9.3, 'genre': 'Drama', 'year': 1994},\n",
        "    'Pulp Fiction': {'rating': 8.9, 'genre': 'Crime', 'year': 1994},\n",
        "    'The Godfather': {'rating': 9.2, 'genre': 'Crime', 'year': 1972},\n",
        "    'Forrest Gump': {'rating': 8.8, 'genre': 'Drama', 'year': 1994}\n",
        "}\n",
        "\n",
        "# Find the top-rated movie\n",
        "top_rated_movie = max(movies, key=lambda x: movies[x]['rating'])\n",
        "\n",
        "# Print the details of the top-rated movie\n",
        "print(\"Top-rated Movie Details:\")\n",
        "print(\"Title:\", top_rated_movie)\n",
        "print(\"Rating:\", movies[top_rated_movie]['rating'])\n",
        "print(\"Genre:\", movies[top_rated_movie]['genre'])\n",
        "print(\"Year:\", movies[top_rated_movie]['year'])\n"
      ],
      "metadata": {
        "colab": {
          "base_uri": "https://localhost:8080/"
        },
        "id": "n2B3RdslrKnX",
        "outputId": "f1d5692b-aedb-45c6-f920-7c680e3c26fb"
      },
      "execution_count": 18,
      "outputs": [
        {
          "output_type": "stream",
          "name": "stdout",
          "text": [
            "Top-rated Movie Details:\n",
            "Title: The Shawshank Redemption\n",
            "Rating: 9.3\n",
            "Genre: Drama\n",
            "Year: 1994\n"
          ]
        }
      ]
    },
    {
      "cell_type": "markdown",
      "source": [
        "In this example, we have a dictionary movies where the keys represent the movie titles and the values are inner dictionaries that store details like ratings, genre, and year. We want to find the movie with the highest rating and display its details.\n",
        "\n",
        "We use the max() function along with a lambda function as the key parameter to specify that we want to find the key (i.e., the movie title) with the maximum value of the 'rating' key in the inner dictionaries. This will give us the title of the top-rated movie.\n",
        "\n",
        "We then access the details of the top-rated movie using the retrieved title as the key to the movies dictionary. Finally, we use print() statements to display the details of the top-rated movie,"
      ],
      "metadata": {
        "id": "keLeuugsrT4c"
      }
    },
    {
      "cell_type": "markdown",
      "source": [
        "# Adding Dictionary Values\n",
        "\n",
        "To add a new key-value pair or update the value of an existing key in a Python dictionary, you can use either of the following methods:"
      ],
      "metadata": {
        "id": "F6q-JNGqrh7V"
      }
    },
    {
      "cell_type": "markdown",
      "source": [
        "**Using dictionary[key] = value:**\n",
        "You can directly assign a value to a key in the dictionary using the square bracket **notation ([])**. If the key already exists, its value will be updated, and if the key does not exist, a new key-value pair will be added to the dictionary. Here's an example:"
      ],
      "metadata": {
        "id": "JsczP5AbBmIN"
      }
    },
    {
      "cell_type": "code",
      "source": [
        "# Create a dictionary\n",
        "student = {'name': 'Alice', 'age': 21, 'gender': 'female'}\n",
        "\n",
        "# Add a new key-value pair\n",
        "student['grade'] = 'A+'\n",
        "\n",
        "# Update the value of an existing key\n",
        "student['age'] = 22\n",
        "\n",
        "# Print the updated dictionary\n",
        "print(student)\n"
      ],
      "metadata": {
        "colab": {
          "base_uri": "https://localhost:8080/"
        },
        "id": "CB9Cj-nzBgSG",
        "outputId": "b1f69b40-10fe-445f-a539-f456e37a615d"
      },
      "execution_count": 1,
      "outputs": [
        {
          "output_type": "stream",
          "name": "stdout",
          "text": [
            "{'name': 'Alice', 'age': 22, 'gender': 'female', 'grade': 'A+'}\n"
          ]
        }
      ]
    },
    {
      "cell_type": "markdown",
      "source": [
        "**Using the update() method:**\n",
        "You can also use the update() method to add or update values in a dictionary. The **update()** method takes a dictionary as an argument and merges its key-value pairs with the original dictionary. If a key already exists, its value will be updated, and if a key does not exist, a new key-value pair will be added. Here's an example:"
      ],
      "metadata": {
        "id": "a-ybSQApB14d"
      }
    },
    {
      "cell_type": "code",
      "source": [
        "# Create a dictionary\n",
        "student = {'name': 'Alice', 'age': 21, 'gender': 'female'}\n",
        "\n",
        "# Add/Update values using update() method\n",
        "student.update({'grade': 'A+', 'age': 22})\n",
        "\n",
        "# Print the updated dictionary\n",
        "print(student)\n"
      ],
      "metadata": {
        "colab": {
          "base_uri": "https://localhost:8080/"
        },
        "id": "_5iQ6v8yB6UB",
        "outputId": "c2dd4f5f-2688-4bea-fb6f-818364a40569"
      },
      "execution_count": 2,
      "outputs": [
        {
          "output_type": "stream",
          "name": "stdout",
          "text": [
            "{'name': 'Alice', 'age': 22, 'gender': 'female', 'grade': 'A+'}\n"
          ]
        }
      ]
    },
    {
      "cell_type": "markdown",
      "source": [
        "**Note: In both methods**, the dictionary is mutable, so the original dictionary is updated in place. If you want to create a new dictionary with the added or updated values, you can create a copy of the original dictionary and then add or update values in the copy."
      ],
      "metadata": {
        "id": "N_S_IG3KB9iU"
      }
    },
    {
      "cell_type": "markdown",
      "source": [
        "# Deleting Elements using del Keyword\n",
        "\n",
        "Deleting Elements using del Keyword:\n",
        "To remove a key-value pair from a Python dictionary, you can use the **del**keyword followed by the dictionary name and the key you want to delete. Here's an example:"
      ],
      "metadata": {
        "id": "CtV6XubtCDzQ"
      }
    },
    {
      "cell_type": "code",
      "source": [
        "# Create a dictionary\n",
        "student = {'name': 'Alice', 'age': 22, 'gender': 'female', 'grade': 'A+'}\n",
        "\n",
        "# Delete a key-value pair using del keyword\n",
        "del student['grade']\n",
        "\n",
        "# Print the updated dictionary\n",
        "print(student)\n"
      ],
      "metadata": {
        "colab": {
          "base_uri": "https://localhost:8080/"
        },
        "id": "JKh_H2eUCPqI",
        "outputId": "75263312-ec60-4ae9-a28f-aa92588466a0"
      },
      "execution_count": 3,
      "outputs": [
        {
          "output_type": "stream",
          "name": "stdout",
          "text": [
            "{'name': 'Alice', 'age': 22, 'gender': 'female'}\n"
          ]
        }
      ]
    },
    {
      "cell_type": "markdown",
      "source": [
        "**Note:** If you try to delete a key that does not exist in the dictionary using the del keyword, it will raise a KeyError. To avoid this, you can use the dict.pop() method, which allows you to specify a default value to be returned if the key does not exist in the dictionary. Alternatively, you can use the dict.popitem() method to remove and return an arbitrary key-value pair from the dictionary."
      ],
      "metadata": {
        "id": "ShSnYwrzCTBf"
      }
    },
    {
      "cell_type": "markdown",
      "source": [
        "# Deleting Elements using pop() Method\n",
        "Here's an explanation of how you can delete elements from a dictionary in Python using the pop() method:\n",
        "\n",
        "Deleting Elements using pop() Method:\n",
        "The pop() method is a built-in dictionary method in Python that removes a key-value pair from a dictionary and returns the value associated with the given key. Here's an example"
      ],
      "metadata": {
        "id": "-FvXsZyFCS7S"
      }
    },
    {
      "cell_type": "code",
      "source": [
        "# Create a dictionary\n",
        "student = {'name': 'Alice', 'age': 22, 'gender': 'female', 'grade': 'A+'}\n",
        "\n",
        "# Remove a key-value pair using pop() method\n",
        "grade = student.pop('grade')\n",
        "\n",
        "# Print the removed value and the updated dictionary\n",
        "print(\"Removed Grade:\", grade)\n",
        "print(\"Updated Dictionary:\", student)\n"
      ],
      "metadata": {
        "colab": {
          "base_uri": "https://localhost:8080/"
        },
        "id": "JlobX4P5DhQJ",
        "outputId": "2f243085-665b-4b4e-b52b-677dc9b70bd6"
      },
      "execution_count": 4,
      "outputs": [
        {
          "output_type": "stream",
          "name": "stdout",
          "text": [
            "Removed Grade: A+\n",
            "Updated Dictionary: {'name': 'Alice', 'age': 22, 'gender': 'female'}\n"
          ]
        }
      ]
    },
    {
      "cell_type": "markdown",
      "source": [
        "Note: If you try to remove a key that does not exist in the dictionary using the **pop()** method, it will raise a KeyError. To avoid this, you can specify a default value to be returned if the key does not exist by passing it as an argument to the **pop()** method, like this: **student.pop('grade', 'N/A')**, where **'N/A'** is the default value to be returned if the key 'grade' does not exist in the dictionary."
      ],
      "metadata": {
        "id": "Dq0YnovKDlDe"
      }
    },
    {
      "cell_type": "markdown",
      "source": [
        "\n",
        "**example** that combines the last two topics: \"Adding Dictionary Values\" and \"Deleting Elements using del Keyword\"\n",
        "\n"
      ],
      "metadata": {
        "id": "0-WRVZwaD7Yh"
      }
    },
    {
      "cell_type": "code",
      "source": [
        "# Create a dictionary\n",
        "student = {'name': 'Alice', 'age': 22, 'gender': 'female', 'grade': 'A+'}\n",
        "\n",
        "# Print the original dictionary\n",
        "print(\"Original Dictionary:\", student)\n",
        "\n",
        "# Add a new key-value pair\n",
        "student['city'] = 'New York'\n",
        "\n",
        "# Print the dictionary after adding a new key-value pair\n",
        "print(\"Dictionary after Adding Key-Value Pair:\", student)\n",
        "\n",
        "# Update an existing value\n",
        "student['age'] = 23\n",
        "\n",
        "# Print the dictionary after updating a value\n",
        "print(\"Dictionary after Updating Value:\", student)\n",
        "\n",
        "# Delete a key-value pair using del keyword\n",
        "del student['grade']\n",
        "\n",
        "# Print the dictionary after deleting a key-value pair\n",
        "print(\"Dictionary after Deleting Key-Value Pair using del Keyword:\", student)\n",
        "\n",
        "# Remove a key-value pair using pop() method\n",
        "gender = student.pop('gender')\n",
        "\n",
        "# Print the removed value and the updated dictionary\n",
        "print(\"Removed Gender:\", gender)\n",
        "print(\"Updated Dictionary after Removing Key-Value Pair using pop() Method:\", student)\n"
      ],
      "metadata": {
        "colab": {
          "base_uri": "https://localhost:8080/"
        },
        "id": "Yp_vd4TvD73s",
        "outputId": "c7c5c773-89f4-4f67-d098-50b71647221e"
      },
      "execution_count": 5,
      "outputs": [
        {
          "output_type": "stream",
          "name": "stdout",
          "text": [
            "Original Dictionary: {'name': 'Alice', 'age': 22, 'gender': 'female', 'grade': 'A+'}\n",
            "Dictionary after Adding Key-Value Pair: {'name': 'Alice', 'age': 22, 'gender': 'female', 'grade': 'A+', 'city': 'New York'}\n",
            "Dictionary after Updating Value: {'name': 'Alice', 'age': 23, 'gender': 'female', 'grade': 'A+', 'city': 'New York'}\n",
            "Dictionary after Deleting Key-Value Pair using del Keyword: {'name': 'Alice', 'age': 23, 'gender': 'female', 'city': 'New York'}\n",
            "Removed Gender: female\n",
            "Updated Dictionary after Removing Key-Value Pair using pop() Method: {'name': 'Alice', 'age': 23, 'city': 'New York'}\n"
          ]
        }
      ]
    },
    {
      "cell_type": "markdown",
      "source": [
        "# Iterating Dictionary\n",
        "\n",
        "Here's an example that demonstrates how to iterate through a dictionary using a **for loop **in Python:"
      ],
      "metadata": {
        "id": "JG_Hb4j2ERsy"
      }
    },
    {
      "cell_type": "code",
      "source": [
        "# Create a dictionary\n",
        "student = {'name': 'Alice', 'age': 22, 'gender': 'female', 'city': 'New York'}\n",
        "\n",
        "# Iterate through the dictionary using for loop\n",
        "print(\"Dictionary Items:\")\n",
        "for key, value in student.items():\n",
        "    print(key, \":\", value)\n"
      ],
      "metadata": {
        "colab": {
          "base_uri": "https://localhost:8080/"
        },
        "id": "Qs5LsrKoEXnC",
        "outputId": "9018066a-f35f-491a-c882-ecf567f12bac"
      },
      "execution_count": 6,
      "outputs": [
        {
          "output_type": "stream",
          "name": "stdout",
          "text": [
            "Dictionary Items:\n",
            "name : Alice\n",
            "age : 22\n",
            "gender : female\n",
            "city : New York\n"
          ]
        }
      ]
    },
    {
      "cell_type": "markdown",
      "source": [
        "# Built-in Dictionary Functions\n"
      ],
      "metadata": {
        "id": "tOoyl5xWEnAA"
      }
    },
    {
      "cell_type": "markdown",
      "source": [
        "**len(dict):** Returns the number of items (key-value pairs) in the dictionary."
      ],
      "metadata": {
        "id": "O2L6zMPNErVe"
      }
    },
    {
      "cell_type": "code",
      "source": [
        "# Example:\n",
        "student = {'name': 'Alice', 'age': 22, 'gender': 'female', 'city': 'New York'}\n",
        "print(len(student))  # Output: 4\n"
      ],
      "metadata": {
        "colab": {
          "base_uri": "https://localhost:8080/"
        },
        "id": "T081pS26Eu1A",
        "outputId": "480da0e6-f8ab-4167-e914-4b8d013a1ae6"
      },
      "execution_count": 7,
      "outputs": [
        {
          "output_type": "stream",
          "name": "stdout",
          "text": [
            "4\n"
          ]
        }
      ]
    },
    {
      "cell_type": "markdown",
      "source": [
        "**dict.keys()**: Returns a view object that displays a list of all the keys in the dictionary."
      ],
      "metadata": {
        "id": "_SF2eTNZEyFQ"
      }
    },
    {
      "cell_type": "code",
      "source": [
        "# Example:\n",
        "student = {'name': 'Alice', 'age': 22, 'gender': 'female', 'city': 'New York'}\n",
        "print(student.keys())  # Output: dict_keys(['name', 'age', 'gender', 'city'])\n"
      ],
      "metadata": {
        "colab": {
          "base_uri": "https://localhost:8080/"
        },
        "id": "lD1IDO1DE3tP",
        "outputId": "2db57183-fd64-4f38-a4c4-a2caea90125b"
      },
      "execution_count": 8,
      "outputs": [
        {
          "output_type": "stream",
          "name": "stdout",
          "text": [
            "dict_keys(['name', 'age', 'gender', 'city'])\n"
          ]
        }
      ]
    },
    {
      "cell_type": "markdown",
      "source": [
        "**dict.values()**: Returns a view object that displays a list of all the values in the dictionary."
      ],
      "metadata": {
        "id": "L0zU9MeQE9iM"
      }
    },
    {
      "cell_type": "code",
      "source": [
        "# Example:\n",
        "student = {'name': 'Alice', 'age': 22, 'gender': 'female', 'city': 'New York'}\n",
        "print(student.values())  # Output: dict_values(['Alice', 22, 'female', 'New York'])\n"
      ],
      "metadata": {
        "colab": {
          "base_uri": "https://localhost:8080/"
        },
        "id": "nA_FC7MZE_pb",
        "outputId": "7f3fe2e5-2228-4ce1-a6b0-543dbcb07249"
      },
      "execution_count": 9,
      "outputs": [
        {
          "output_type": "stream",
          "name": "stdout",
          "text": [
            "dict_values(['Alice', 22, 'female', 'New York'])\n"
          ]
        }
      ]
    },
    {
      "cell_type": "markdown",
      "source": [
        "**dict.items():** Returns a view object that displays a list of all the key-value pairs in the dictionary."
      ],
      "metadata": {
        "id": "gUAwXftOFCXc"
      }
    },
    {
      "cell_type": "code",
      "source": [
        "# Example:\n",
        "student = {'name': 'Alice', 'age': 22, 'gender': 'female', 'city': 'New York'}\n",
        "print(student.items())  # Output: dict_items([('name', 'Alice'), ('age', 22), ('gender', 'female'), ('city', 'New York')])\n"
      ],
      "metadata": {
        "colab": {
          "base_uri": "https://localhost:8080/"
        },
        "id": "-SVzgqmiFFGl",
        "outputId": "bc7a7c3b-301f-4486-913e-aaee6de19a32"
      },
      "execution_count": 10,
      "outputs": [
        {
          "output_type": "stream",
          "name": "stdout",
          "text": [
            "dict_items([('name', 'Alice'), ('age', 22), ('gender', 'female'), ('city', 'New York')])\n"
          ]
        }
      ]
    },
    {
      "cell_type": "markdown",
      "source": [
        "**dict.copy()**: Returns a shallow copy of the dictionary"
      ],
      "metadata": {
        "id": "eryiMP_iFJQ4"
      }
    },
    {
      "cell_type": "code",
      "source": [
        "# Example:\n",
        "student = {'name': 'Alice', 'age': 22, 'gender': 'female', 'city': 'New York'}\n",
        "student_copy = student.copy()\n",
        "print(student_copy)  # Output: {'name': 'Alice', 'age': 22, 'gender': 'female', 'city': 'New York'}\n"
      ],
      "metadata": {
        "colab": {
          "base_uri": "https://localhost:8080/"
        },
        "id": "VOre8A_5FLqv",
        "outputId": "18a01253-6709-41ac-faaf-c72fb05a9b44"
      },
      "execution_count": 11,
      "outputs": [
        {
          "output_type": "stream",
          "name": "stdout",
          "text": [
            "{'name': 'Alice', 'age': 22, 'gender': 'female', 'city': 'New York'}\n"
          ]
        }
      ]
    },
    {
      "cell_type": "markdown",
      "source": [
        "**dict.clear():** Removes all the items from the dictionary."
      ],
      "metadata": {
        "id": "jUDLt3liFPud"
      }
    },
    {
      "cell_type": "code",
      "source": [
        "# Example:\n",
        "student = {'name': 'Alice', 'age': 22, 'gender': 'female', 'city': 'New York'}\n",
        "student.clear()\n",
        "print(student)  # Output: {}\n"
      ],
      "metadata": {
        "colab": {
          "base_uri": "https://localhost:8080/"
        },
        "id": "4tsnBtROFSF-",
        "outputId": "c31632f2-aefd-47ed-9db1-3fa10747e9ae"
      },
      "execution_count": 12,
      "outputs": [
        {
          "output_type": "stream",
          "name": "stdout",
          "text": [
            "{}\n"
          ]
        }
      ]
    },
    {
      "cell_type": "markdown",
      "source": [
        "**Python Dictionary popitem() Method**\n",
        "The popitem() method in Python dictionaries removes an arbitrary item (key-value pair) from the dictionary and returns its value. It does not take any arguments. If the dictionary is empty, it raises a KeyError. The syntax of the popitem() method is as follows:"
      ],
      "metadata": {
        "id": "4G1hH69kGMAk"
      }
    },
    {
      "cell_type": "code",
      "source": [
        "# Example dictionary\n",
        "fruits = {'apple': 3, 'banana': 5, 'cherry': 2, 'date': 4}\n",
        "\n",
        "# Remove an arbitrary item from the dictionary and get its key-value pair\n",
        "removed_item = fruits.popitem()\n",
        "\n",
        "# Print the updated dictionary and the removed item\n",
        "print(fruits)          # Output: {'apple': 3, 'banana': 5, 'cherry': 2}\n",
        "print(removed_item)    # Output: ('date', 4)\n"
      ],
      "metadata": {
        "colab": {
          "base_uri": "https://localhost:8080/"
        },
        "id": "ef1zvjLsGSUR",
        "outputId": "4ee64064-bd90-45ca-bd2d-9d173c4ed8d6"
      },
      "execution_count": 14,
      "outputs": [
        {
          "output_type": "stream",
          "name": "stdout",
          "text": [
            "{'apple': 3, 'banana': 5, 'cherry': 2}\n",
            "('date', 4)\n"
          ]
        }
      ]
    },
    {
      "cell_type": "markdown",
      "source": [
        "# all()\n",
        "Certainly! The all() function in Python is used to check if all the values in a dictionary (or any iterable) are True. It returns True only if all the values in the dictionary are evaluated as True using boolean logic.\n",
        "\n",
        "Here's an example of using the all() function with a dictionary:"
      ],
      "metadata": {
        "id": "1tMf8lO4Fev2"
      }
    },
    {
      "cell_type": "code",
      "source": [
        "# Example dictionary\n",
        "grades = {'Alice': 80, 'Bob': 90, 'Charlie': 85, 'Dave': 88}\n",
        "\n",
        "# Check if all values are greater than or equal to 80\n",
        "result = all(grade >= 80 for grade in grades.values())\n",
        "\n",
        "# Print the result\n",
        "print(result)  # Output: True\n"
      ],
      "metadata": {
        "colab": {
          "base_uri": "https://localhost:8080/"
        },
        "id": "MDg2RGLcFlGv",
        "outputId": "9518faaf-bedd-49c2-a01d-ff269576a554"
      },
      "execution_count": 13,
      "outputs": [
        {
          "output_type": "stream",
          "name": "stdout",
          "text": [
            "True\n"
          ]
        }
      ]
    },
    {
      "cell_type": "markdown",
      "source": [
        "In this example, the **all()** function is used to check if all the values in the grades dictionary are greater than or equal to 80. Since all the values satisfy this condition, the **all()** function returns True.\n",
        "\n",
        "Note that if any of the values in the dictionary were less than 80, the **all()** function would return False. This is because **all()** requires all the values to be True for it to return True."
      ],
      "metadata": {
        "id": "yoDOGp0BFqjX"
      }
    },
    {
      "cell_type": "markdown",
      "source": [
        "# Programs"
      ],
      "metadata": {
        "id": "0qwQrEaVGtcV"
      }
    },
    {
      "cell_type": "markdown",
      "source": [
        " Creating a dictionary and adding key-value pairs.\n",
        "Problem Statement: Create a dictionary to store the details of employees, including their names, ages, and salaries. Add multiple employees to the dictionary with their respective details"
      ],
      "metadata": {
        "id": "bhYvWNE3GymQ"
      }
    },
    {
      "cell_type": "code",
      "source": [
        "# Creating an empty dictionary\n",
        "employee_dict = {}\n",
        "\n",
        "# Adding employee details to the dictionary\n",
        "employee_dict[\"John\"] = {\"age\": 25, \"salary\": 5000}\n",
        "employee_dict[\"Alice\"] = {\"age\": 30, \"salary\": 6000}\n",
        "employee_dict[\"Bob\"] = {\"age\": 28, \"salary\": 5500}\n",
        "\n",
        "# Displaying the dictionary\n",
        "print(\"Employee Dictionary:\")\n",
        "print(employee_dict)\n"
      ],
      "metadata": {
        "colab": {
          "base_uri": "https://localhost:8080/"
        },
        "id": "nVRpYdbvG2P8",
        "outputId": "dda4007c-0534-41fc-81ca-f1e8917ae6d6"
      },
      "execution_count": 15,
      "outputs": [
        {
          "output_type": "stream",
          "name": "stdout",
          "text": [
            "Employee Dictionary:\n",
            "{'John': {'age': 25, 'salary': 5000}, 'Alice': {'age': 30, 'salary': 6000}, 'Bob': {'age': 28, 'salary': 5500}}\n"
          ]
        }
      ]
    },
    {
      "cell_type": "markdown",
      "source": [
        "Accessing dictionary values using keys and the get() method.\n",
        "Problem Statement: Create a dictionary to store the details of students, including their roll numbers, names, and grades. Access the grade of a specific student using their roll number as the key. Use the get() method to access the grade of a student, and handle cases where the roll number is not found in the dictionary"
      ],
      "metadata": {
        "id": "qLnYoK5GG8b7"
      }
    },
    {
      "cell_type": "code",
      "source": [
        "# Dictionary of student details\n",
        "student_dict = {\n",
        "    \"101\": {\"name\": \"Alice\", \"grade\": \"A\"},\n",
        "    \"102\": {\"name\": \"Bob\", \"grade\": \"B\"},\n",
        "    \"103\": {\"name\": \"Charlie\", \"grade\": \"C\"}\n",
        "}\n",
        "\n",
        "# Accessing grade of a student using key\n",
        "roll_number = input(\"Enter roll number of student: \")\n",
        "grade = student_dict.get(roll_number, {}).get(\"grade\", \"Roll number not found\")\n",
        "print(\"Grade of student with roll number\", roll_number, \"is:\", grade)\n"
      ],
      "metadata": {
        "colab": {
          "base_uri": "https://localhost:8080/"
        },
        "id": "Rp_Te5CNG9Y6",
        "outputId": "6cf2fe36-c829-42de-f60a-2e420eb78df6"
      },
      "execution_count": 16,
      "outputs": [
        {
          "output_type": "stream",
          "name": "stdout",
          "text": [
            "Enter roll number of student: 12\n",
            "Grade of student with roll number 12 is: Roll number not found\n"
          ]
        }
      ]
    },
    {
      "cell_type": "markdown",
      "source": [
        "Updating dictionary values.\n",
        "Problem Statement: Create a dictionary to store the prices of various items. Update the price of a specific item in the dictionary based on user input."
      ],
      "metadata": {
        "id": "HTcHEcRoHHB_"
      }
    },
    {
      "cell_type": "code",
      "source": [
        "# Dictionary of item prices\n",
        "item_prices = {\n",
        "    \"item1\": 100,\n",
        "    \"item2\": 200,\n",
        "    \"item3\": 300\n",
        "}\n",
        "\n",
        "# Updating price of an item\n",
        "item_name = input(\"Enter name of item to update: \")\n",
        "if item_name in item_prices:\n",
        "    new_price = float(input(\"Enter new price for \" + item_name + \": \"))\n",
        "    item_prices[item_name] = new_price\n",
        "    print(\"Price of\", item_name, \"updated successfully!\")\n",
        "else:\n",
        "    print(item_name, \"not found in dictionary\")\n"
      ],
      "metadata": {
        "colab": {
          "base_uri": "https://localhost:8080/"
        },
        "id": "PWPljrRCHMWT",
        "outputId": "cb0a7726-2bdb-4e20-8b98-30dbccef8805"
      },
      "execution_count": 19,
      "outputs": [
        {
          "output_type": "stream",
          "name": "stdout",
          "text": [
            "Enter name of item to update: item1\n",
            "Enter new price for item1: 2000\n",
            "Price of item1 updated successfully!\n"
          ]
        }
      ]
    },
    {
      "cell_type": "markdown",
      "source": [
        "Deleting dictionary elements using keys and the del keyword.\n",
        "Problem Statement: Create a dictionary to store the contact details of friends, including their names and phone numbers. Delete a specific friend's contact details from the dictionary using their name as the key."
      ],
      "metadata": {
        "id": "zZ8rvezKHdzU"
      }
    },
    {
      "cell_type": "code",
      "source": [
        "# Dictionary of friend contacts\n",
        "friend_contacts = {\n",
        "    \"Alice\": \"1234567890\",\n",
        "    \"Bob\": \"9876543210\",\n",
        "    \"Charlie\": \"7890123456\"\n",
        "}\n",
        "\n",
        "# Deleting a friend's contact\n",
        "friend_name = input(\"Enter name of friend to delete contact: \")\n",
        "if friend_name in friend_contacts:\n",
        "    del friend_contacts[friend_name]\n",
        "    print(\"Contact of\", friend_name, \"deleted successfully!\")\n",
        "else:\n",
        "    print(friend_name, \"not found in dictionary\")\n"
      ],
      "metadata": {
        "colab": {
          "base_uri": "https://localhost:8080/"
        },
        "id": "mCVBdC_1HgZR",
        "outputId": "f2856340-cb2f-4e39-bfe6-3ca8076a793c"
      },
      "execution_count": 21,
      "outputs": [
        {
          "output_type": "stream",
          "name": "stdout",
          "text": [
            "Enter name of friend to delete contact: Bob\n",
            "Contact of Bob deleted successfully!\n"
          ]
        }
      ]
    },
    {
      "cell_type": "markdown",
      "source": [
        "Deleting dictionary elements using the pop() method.\n",
        "Problem Statement: Create a dictionary to store the details of books, including their titles, authors, and publication years. Use the pop() method to remove a specific book from the dictionary based on user input."
      ],
      "metadata": {
        "id": "J8tHOR4zHpLp"
      }
    },
    {
      "cell_type": "code",
      "source": [
        "# Dictionary of book details\n",
        "book_details = {\n",
        "    \"book1\": {\"title\": \"Python Programming\", \"author\": \"John Smith\", \"year\": 2021},\n",
        "    \"book2\": {\"title\": \"Data Science\", \"author\": \"Alice Johnson\", \"year\": 2020},\n",
        "    \"book3\": {\"title\": \"Web Development\", \"author\": \"Bob Brown\", \"year\": 2019}\n",
        "}\n",
        "\n",
        "# Deleting a book from dictionary\n",
        "book_id = input(\"Enter ID of book to delete: \")\n",
        "deleted_book = book_details.pop(book_id, None)\n",
        "if deleted_book:\n",
        "    print(\"Book with ID\", book_id, \"deleted successfully!\")\n",
        "else:\n",
        "    print(\"Book with ID\", book_id, \"not found in dictionary\")\n"
      ],
      "metadata": {
        "colab": {
          "base_uri": "https://localhost:8080/"
        },
        "id": "ak9jLN01HtXp",
        "outputId": "7cf45911-0677-4e42-ee66-5455a2f07988"
      },
      "execution_count": 23,
      "outputs": [
        {
          "output_type": "stream",
          "name": "stdout",
          "text": [
            "Enter ID of book to delete: book2\n",
            "Book with ID book2 deleted successfully!\n"
          ]
        }
      ]
    },
    {
      "cell_type": "markdown",
      "source": [
        "Iterating through a dictionary using a for loop.\n",
        "Problem Statement: Create a dictionary to store the marks of students in a class for a specific subject. Use a for loop to iterate through the dictionary and calculate the average marks of the class"
      ],
      "metadata": {
        "id": "nvo6l0JMH9hG"
      }
    },
    {
      "cell_type": "code",
      "source": [
        "# Dictionary of student marks\n",
        "student_marks = {\n",
        "    \"Alice\": 90,\n",
        "    \"Bob\": 85,\n",
        "    \"Charlie\": 92,\n",
        "    \"Dave\": 88,\n",
        "    \"Eve\": 95\n",
        "}\n",
        "\n",
        "# Calculating average marks of class\n",
        "total_marks = sum(student_marks.values())\n",
        "total_students = len(student_marks)\n",
        "average_marks = total_marks / total_students\n",
        "print(\"Total students:\", total_students)\n",
        "print(\"Total marks:\", total_marks)\n",
        "print(\"Average marks:\", average_marks)\n"
      ],
      "metadata": {
        "colab": {
          "base_uri": "https://localhost:8080/"
        },
        "id": "YGa2u6W0IGb1",
        "outputId": "ab4650d2-09f7-43fa-bb36-8c83e7c8bcd6"
      },
      "execution_count": 25,
      "outputs": [
        {
          "output_type": "stream",
          "name": "stdout",
          "text": [
            "Total students: 5\n",
            "Total marks: 450\n",
            "Average marks: 90.0\n"
          ]
        }
      ]
    },
    {
      "cell_type": "markdown",
      "source": [
        "Using the all() function with a dictionary.\n",
        "Problem Statement: Create a dictionary to store the attendance status of students in a class, where the keys are the student names and the values are Boolean values indicating their attendance (True or False). Use the all() function to check if all students have attended the class."
      ],
      "metadata": {
        "id": "dGg53Sw6IS2n"
      }
    },
    {
      "cell_type": "code",
      "source": [
        "# Dictionary of boolean values\n",
        "bool_dict1 = {\"a\": True, \"b\": True, \"c\": True}\n",
        "bool_dict2 = {\"a\": True, \"b\": False, \"c\": True}\n",
        "\n",
        "# Checking if all values are True using all()\n",
        "if all(bool_dict1.values()):\n",
        "    print(\"All values in bool_dict1 are True\")\n",
        "else:\n",
        "    print(\"Not all values in bool_dict1 are True\")\n",
        "\n",
        "if all(bool_dict2.values()):\n",
        "    print(\"All values in bool_dict2 are True\")\n",
        "else:\n",
        "    print(\"Not all values in bool_dict2 are True\")\n"
      ],
      "metadata": {
        "colab": {
          "base_uri": "https://localhost:8080/"
        },
        "id": "QGoRJgeAIVO2",
        "outputId": "b1520ba5-71e3-4056-e566-e4017fde0382"
      },
      "execution_count": 26,
      "outputs": [
        {
          "output_type": "stream",
          "name": "stdout",
          "text": [
            "All values in bool_dict1 are True\n",
            "Not all values in bool_dict2 are True\n"
          ]
        }
      ]
    },
    {
      "cell_type": "markdown",
      "source": [
        " Using the popitem() method.\n",
        "Problem Statement: Create a dictionary to store the details of items in a shopping cart, including their names, prices, and quantities. Use the popitem() method to remove an item from the cart and display the removed item's details"
      ],
      "metadata": {
        "id": "fpTyJ-nXIXKZ"
      }
    },
    {
      "cell_type": "code",
      "source": [
        "# Dictionary of colors and their RGB values\n",
        "colors_dict = {\n",
        "    \"red\": (255, 0, 0),\n",
        "    \"green\": (0, 255, 0),\n",
        "    \"blue\": (0, 0, 255),\n",
        "    \"yellow\": (255, 255, 0)\n",
        "}\n",
        "\n",
        "# Removing an arbitrary color from the dictionary\n",
        "removed_color, rgb_values = colors_dict.popitem()\n",
        "print(\"Removed color:\", removed_color)\n",
        "print(\"RGB values:\", rgb_values)\n"
      ],
      "metadata": {
        "colab": {
          "base_uri": "https://localhost:8080/"
        },
        "id": "pHjfTOHvIXlv",
        "outputId": "92eac6a3-a82c-4635-abc7-eca8d31f8620"
      },
      "execution_count": 27,
      "outputs": [
        {
          "output_type": "stream",
          "name": "stdout",
          "text": [
            "Removed color: yellow\n",
            "RGB values: (255, 255, 0)\n"
          ]
        }
      ]
    },
    {
      "cell_type": "markdown",
      "source": [
        " Using the len() function with a dictionary.\n",
        "Problem Statement: Create a dictionary to store the details of countries, including their names, capitals, and populations. Use the len() function to calculate the number of countries in the dictionary."
      ],
      "metadata": {
        "id": "u3uh7_M5Ihra"
      }
    },
    {
      "cell_type": "code",
      "source": [
        "# Dictionary of country capitals\n",
        "country_capitals = {\n",
        "    \"USA\": \"Washington D.C.\",\n",
        "    \"UK\": \"London\",\n",
        "    \"France\": \"Paris\",\n",
        "    \"India\": \"New Delhi\"\n",
        "}\n",
        "\n",
        "# Retrieving keys and values from the dictionary\n",
        "print(\"Keys in country_capitals dictionary:\", country_capitals.keys())\n",
        "print(\"Values in country_capitals dictionary:\", country_capitals.values())\n"
      ],
      "metadata": {
        "colab": {
          "base_uri": "https://localhost:8080/"
        },
        "id": "2g9DeaMJIisH",
        "outputId": "bc0ba475-f22e-4533-a1f5-bf2d22a625be"
      },
      "execution_count": 28,
      "outputs": [
        {
          "output_type": "stream",
          "name": "stdout",
          "text": [
            "Keys in country_capitals dictionary: dict_keys(['USA', 'UK', 'France', 'India'])\n",
            "Values in country_capitals dictionary: dict_values(['Washington D.C.', 'London', 'Paris', 'New Delhi'])\n"
          ]
        }
      ]
    },
    {
      "cell_type": "markdown",
      "source": [
        "Using the keys() and values() methods to get keys and values from a dictionary.\n",
        "Problem Statement: Create a dictionary to store the marks of students in a class for different subjects. Use the keys() and values() methods to get the list of subjects and the list of marks from the dictionary, respectively."
      ],
      "metadata": {
        "id": "4ykPxKdJImP2"
      }
    },
    {
      "cell_type": "code",
      "source": [
        "# Dictionary of user details\n",
        "user_details = {\n",
        "    \"name\": \"Alice\",\n",
        "    \"age\": 25,\n",
        "    \"gender\": \"female\",\n",
        "    \"city\": \"New York\"\n",
        "}\n",
        "\n",
        "# Removing all elements from the dictionary using clear()\n",
        "user_details.clear()\n",
        "print(\"user_details dictionary after clearing all elements:\", user_details)\n"
      ],
      "metadata": {
        "colab": {
          "base_uri": "https://localhost:8080/"
        },
        "id": "7_P0kQquIsBC",
        "outputId": "73fc960f-4570-4437-a027-38b98fa5819e"
      },
      "execution_count": 29,
      "outputs": [
        {
          "output_type": "stream",
          "name": "stdout",
          "text": [
            "user_details dictionary after clearing all elements: {}\n"
          ]
        }
      ]
    },
    {
      "cell_type": "markdown",
      "source": [
        "# Problem Statement: Student Record Management System\n",
        "\n",
        "A school wants to create a student record management system to keep track of student details, such as name, age, grade, and subjects. The school wants to perform various operations on the student records, including adding new students, updating existing student details, deleting students, retrieving student information, calculating average marks, and checking if all students have passed.\n",
        "\n",
        "The school decides to use Python dictionaries to store and manage the student records. They define a dictionary called \"student_records\" with the following structure:"
      ],
      "metadata": {
        "id": "qRnhn9ABI7jI"
      }
    },
    {
      "cell_type": "code",
      "source": [
        "student_records = {\n",
        "    \"Alice\": {\n",
        "        \"age\": 16,\n",
        "        \"grade\": \"10th\",\n",
        "        \"subjects\": [\"Math\", \"Science\", \"English\"],\n",
        "        \"marks\": {\"Math\": 95, \"Science\": 88, \"English\": 92}\n",
        "    },\n",
        "    \"Bob\": {\n",
        "        \"age\": 15,\n",
        "        \"grade\": \"9th\",\n",
        "        \"subjects\": [\"Science\", \"History\", \"English\"],\n",
        "        \"marks\": {\"Science\": 92, \"History\": 85, \"English\": 90}\n",
        "    },\n",
        "    # ... more student records ...\n",
        "}\n"
      ],
      "metadata": {
        "id": "MdkcVeC1JB3u"
      },
      "execution_count": 30,
      "outputs": []
    },
    {
      "cell_type": "markdown",
      "source": [
        "Using this dictionary, the school can perform various operations:\n",
        "\n",
        "Adding new students: New student records can be added to the dictionary using dictionary assignment and specifying the student details, such as name, age, grade, subjects, and marks."
      ],
      "metadata": {
        "id": "NRJfd467JFVU"
      }
    },
    {
      "cell_type": "code",
      "source": [
        "# Adding a new student\n",
        "new_student = {\n",
        "    \"age\": 17,\n",
        "    \"grade\": \"11th\",\n",
        "    \"subjects\": [\"Math\", \"Science\", \"History\"],\n",
        "    \"marks\": {\"Math\": 88, \"Science\": 92, \"History\": 78}\n",
        "}\n",
        "student_records[\"Charlie\"] = new_student\n"
      ],
      "metadata": {
        "id": "hqPYPTRGJHNq"
      },
      "execution_count": 31,
      "outputs": []
    },
    {
      "cell_type": "markdown",
      "source": [
        "Updating student details: Existing student details can be updated by modifying the dictionary values using dictionary assignment or the update() method"
      ],
      "metadata": {
        "id": "e8DVT14ZJLPS"
      }
    },
    {
      "cell_type": "code",
      "source": [
        "# Updating student details\n",
        "student_records[\"Alice\"][\"age\"] = 17\n",
        "student_records[\"Alice\"][\"marks\"][\"English\"] = 95\n"
      ],
      "metadata": {
        "id": "RIwNymi-JNCy"
      },
      "execution_count": 32,
      "outputs": []
    },
    {
      "cell_type": "markdown",
      "source": [
        "Deleting students: Student records can be deleted from the dictionary using the del keyword or the pop() method."
      ],
      "metadata": {
        "id": "DIPLn3SqJPYD"
      }
    },
    {
      "cell_type": "code",
      "source": [
        "# Deleting a student\n",
        "del student_records[\"Bob\"]\n"
      ],
      "metadata": {
        "id": "ulQQ4UcJJTj7"
      },
      "execution_count": 33,
      "outputs": []
    },
    {
      "cell_type": "markdown",
      "source": [
        "Retrieving student information: Student details can be retrieved from the dictionary using dictionary indexing and keys() or values() methods."
      ],
      "metadata": {
        "id": "E6qIq8PlJiOT"
      }
    },
    {
      "cell_type": "code",
      "source": [
        "# Retrieving student information\n",
        "print(\"Subjects of Alice:\", student_records[\"Alice\"][\"subjects\"])\n",
        "print(\"Marks of Charlie:\", student_records[\"Charlie\"][\"marks\"])\n"
      ],
      "metadata": {
        "colab": {
          "base_uri": "https://localhost:8080/"
        },
        "id": "y_T5C8N0JjyW",
        "outputId": "82ce3158-7ad4-4507-b329-999b8f5c728b"
      },
      "execution_count": 34,
      "outputs": [
        {
          "output_type": "stream",
          "name": "stdout",
          "text": [
            "Subjects of Alice: ['Math', 'Science', 'English']\n",
            "Marks of Charlie: {'Math': 88, 'Science': 92, 'History': 78}\n"
          ]
        }
      ]
    },
    {
      "cell_type": "markdown",
      "source": [
        "Calculating average marks: Average marks of a student can be calculated by iterating through the marks using a for loop and summing the marks."
      ],
      "metadata": {
        "id": "G_Ov643uJnnB"
      }
    },
    {
      "cell_type": "code",
      "source": [
        "# Calculating average marks of a student\n",
        "student_name = \"Alice\"\n",
        "marks = student_records[student_name][\"marks\"].values()\n",
        "average_marks = sum(marks) / len(marks)\n",
        "print(\"Average marks of\", student_name + \":\", average_marks)\n"
      ],
      "metadata": {
        "colab": {
          "base_uri": "https://localhost:8080/"
        },
        "id": "owVr1UpnJpbO",
        "outputId": "747f2960-6601-44c4-b479-1d0b0ee85db4"
      },
      "execution_count": 35,
      "outputs": [
        {
          "output_type": "stream",
          "name": "stdout",
          "text": [
            "Average marks of Alice: 92.66666666666667\n"
          ]
        }
      ]
    },
    {
      "cell_type": "markdown",
      "source": [
        "Checking if all students have passed: The all() function can be used to check if all students have passed by iterating through the marks and checking if all marks are above a passing threshold"
      ],
      "metadata": {
        "id": "ukyADNrVJtXV"
      }
    },
    {
      "cell_type": "code",
      "source": [
        "# Checking if all students have passed\n",
        "passing_threshold = 60\n",
        "all_passed = all(mark >= passing_threshold for student in student_records.values() for mark in student[\"marks\"].values())\n",
        "if all_passed:\n",
        "    print(\"All students have passed\")\n",
        "else:\n",
        "    print(\"Not all students have passed\")\n"
      ],
      "metadata": {
        "colab": {
          "base_uri": "https://localhost:8080/"
        },
        "id": "I7x4B2jBJvgl",
        "outputId": "5fa57b2f-b1e3-4f60-c436-43c91c49e16e"
      },
      "execution_count": 36,
      "outputs": [
        {
          "output_type": "stream",
          "name": "stdout",
          "text": [
            "All students have passed\n"
          ]
        }
      ]
    }
  ]
}