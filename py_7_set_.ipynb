{
  "nbformat": 4,
  "nbformat_minor": 0,
  "metadata": {
    "colab": {
      "provenance": [],
      "authorship_tag": "ABX9TyMAaB28rCZKafiVNH/lzjBa",
      "include_colab_link": true
    },
    "kernelspec": {
      "name": "python3",
      "display_name": "Python 3"
    },
    "language_info": {
      "name": "python"
    }
  },
  "cells": [
    {
      "cell_type": "markdown",
      "metadata": {
        "id": "view-in-github",
        "colab_type": "text"
      },
      "source": [
        "<a href=\"https://colab.research.google.com/github/ranamaddy/PythonBasics/blob/main/py_7_set_.ipynb\" target=\"_parent\"><img src=\"https://colab.research.google.com/assets/colab-badge.svg\" alt=\"Open In Colab\"/></a>"
      ]
    },
    {
      "cell_type": "markdown",
      "source": [
        "# Python Set\n",
        "A Python set is a collection of items that are unordered, meaning they have no specific order. Each element in a set must be unique, meaning it cannot be repeated, and immutable, meaning it cannot be changed after it is added to the set. Sets are mutable, which means their contents can be modified after they are created.\n",
        "\n",
        "One key feature of sets is that they automatically remove duplicate elements. If you try to add an element that already exists in the set, it will not be added again. This makes sets useful for tasks where you need to keep track of unique values.\n",
        "\n",
        "Unlike other collections in Python, such as lists or tuples, sets do not have an index associated with their elements. This means you cannot directly access elements in a set using an index like you can with a list. However, you can loop through the set to access all the elements, or you can print them all together using appropriate methods provided by sets.\n",
        "\n",
        "# Creating a set\n",
        "Certainly! You can create a set in Python by enclosing a comma-separated list of immutable items within curly **braces {}**. Python also provides a built-in **set()** method that can be used to create a set from a sequence of items passed as an argument."
      ],
      "metadata": {
        "id": "8oUimYOcDL3J"
      }
    },
    {
      "cell_type": "markdown",
      "source": [
        "# Using curly braces {}:"
      ],
      "metadata": {
        "id": "ojMYOatKDycW"
      }
    },
    {
      "cell_type": "code",
      "execution_count": 4,
      "metadata": {
        "id": "hCmVLbiOtZMi",
        "colab": {
          "base_uri": "https://localhost:8080/"
        },
        "outputId": "4df1066d-f289-408a-bf17-6ec201bc5b3d"
      },
      "outputs": [
        {
          "output_type": "stream",
          "name": "stdout",
          "text": [
            "{1, 2, 3, 4, 5}\n"
          ]
        },
        {
          "output_type": "execute_result",
          "data": {
            "text/plain": [
              "{'apple', 'banana', 'cherry'}"
            ]
          },
          "metadata": {},
          "execution_count": 4
        }
      ],
      "source": [
        "# Create a set of integers\n",
        "my_set = {1, 2, 3, 4, 5}\n",
        "print(my_set)\n",
        "\n",
        "# Create a set of strings\n",
        "my_set = {'apple', 'banana', 'cherry'}\n",
        "my_set\n"
      ]
    },
    {
      "cell_type": "markdown",
      "source": [
        "**Using the set() method:**"
      ],
      "metadata": {
        "id": "oBt-ZGNfEHmm"
      }
    },
    {
      "cell_type": "code",
      "source": [
        "# Create a set from a list of integers\n",
        "my_list = [1, 2, 3, 4, 5]\n",
        "my_set = set(my_list)\n",
        "\n",
        "print(my_set)\n",
        "print(type(my_set))\n",
        "\n",
        "# Create a set from a tuple of strings\n",
        "my_tuple = ('apple', 'banana', 'cherry')\n",
        "my_set = set(my_tuple)\n",
        "\n",
        "print(my_set)\n",
        "print(type(my_set))\n"
      ],
      "metadata": {
        "colab": {
          "base_uri": "https://localhost:8080/"
        },
        "id": "VWwq9B8HEJO0",
        "outputId": "50690570-5d45-4e84-f2ba-55f6a51c4dfd"
      },
      "execution_count": 7,
      "outputs": [
        {
          "output_type": "stream",
          "name": "stdout",
          "text": [
            "{1, 2, 3, 4, 5}\n",
            "<class 'set'>\n",
            "{'apple', 'banana', 'cherry'}\n",
            "<class 'set'>\n"
          ]
        }
      ]
    },
    {
      "cell_type": "markdown",
      "source": [
        "**Note that** sets only allow immutable items, such as numbers, strings, or tuples (if they only contain immutable items) to be included as elements. Mutable items like lists or other sets cannot be used as elements in a set."
      ],
      "metadata": {
        "id": "X_w8iPvQEegw"
      }
    },
    {
      "cell_type": "markdown",
      "source": [
        "# Adding items to the set\n",
        "Certainly! In Python, you can add items to a set using the **add()** method or the **update()** method.\n"
      ],
      "metadata": {
        "id": "aTmcaSbeEu0B"
      }
    },
    {
      "cell_type": "markdown",
      "source": [
        "# add() method:\n",
        " This method is used to add a single element to a set."
      ],
      "metadata": {
        "id": "nIxkhJiLE-IW"
      }
    },
    {
      "cell_type": "code",
      "source": [
        "# Create a set\n",
        "my_set = {1, 2, 3, 4}\n",
        "\n",
        "# Add an element to the set\n",
        "my_set.add(5)\n",
        "\n",
        "# Print the updated set\n",
        "print(my_set)  # Output: {1, 2, 3, 4, 5}\n"
      ],
      "metadata": {
        "colab": {
          "base_uri": "https://localhost:8080/"
        },
        "id": "171b2mjnFHRr",
        "outputId": "95fb1d34-84ce-4139-9aeb-d9f1d5516abf"
      },
      "execution_count": 8,
      "outputs": [
        {
          "output_type": "stream",
          "name": "stdout",
          "text": [
            "{1, 2, 3, 4, 5}\n"
          ]
        }
      ]
    },
    {
      "cell_type": "markdown",
      "source": [
        "# update() method:\n",
        " This method is used to add multiple elements to a set. You can pass a sequence (such as a list or another set) as an argument to update() to add multiple elements at once."
      ],
      "metadata": {
        "id": "DO2AZIKCFLhO"
      }
    },
    {
      "cell_type": "code",
      "source": [
        "# Create a set\n",
        "my_set = {1, 2, 3}\n",
        "\n",
        "# Add multiple elements to the set\n",
        "my_set.update([3, 4, 5, 6])\n",
        "\n",
        "# Print the updated set\n",
        "print(my_set)  # Output: {1, 2, 3, 4, 5, 6}\n"
      ],
      "metadata": {
        "colab": {
          "base_uri": "https://localhost:8080/"
        },
        "id": "GptCoLaKFRlo",
        "outputId": "8904f97f-3152-4436-cbf1-b232217b43e1"
      },
      "execution_count": 9,
      "outputs": [
        {
          "output_type": "stream",
          "name": "stdout",
          "text": [
            "{1, 2, 3, 4, 5, 6}\n"
          ]
        }
      ]
    },
    {
      "cell_type": "markdown",
      "source": [
        "**Note that sets** automatically remove duplicate elements, so if you try to add an element that already exists in the set, it will not be added again."
      ],
      "metadata": {
        "id": "jIu-7-4QFflz"
      }
    },
    {
      "cell_type": "markdown",
      "source": [
        "# Removing items from the set\n",
        "Certainly! In Python, you can remove items from a set using the **discard()** method or the **remove()** method\n"
      ],
      "metadata": {
        "id": "3ecMJyRlFa9n"
      }
    },
    {
      "cell_type": "markdown",
      "source": [
        "# discard() method:\n",
        " This method is used to remove an item from a set. If the item does not exist in the set, the set remains unchanged and no error is raised."
      ],
      "metadata": {
        "id": "r3v6bSEyFqBQ"
      }
    },
    {
      "cell_type": "code",
      "source": [
        "# Create a set\n",
        "my_set = {1, 2, 3, 4, 5}\n",
        "\n",
        "# Remove an item from the set\n",
        "my_set.discard(3)\n",
        "\n",
        "# Print the updated set\n",
        "print(my_set)  # Output: {1, 2, 4, 5}\n"
      ],
      "metadata": {
        "colab": {
          "base_uri": "https://localhost:8080/"
        },
        "id": "58EMJpu-FxXG",
        "outputId": "38b6253e-fb76-4d4e-c4ce-7a448704ee85"
      },
      "execution_count": 10,
      "outputs": [
        {
          "output_type": "stream",
          "name": "stdout",
          "text": [
            "{1, 2, 4, 5}\n"
          ]
        }
      ]
    },
    {
      "cell_type": "markdown",
      "source": [
        "# remove() method: \n",
        "This method is used to remove an item from a set. If the item does not exist in the set, a KeyError is raised."
      ],
      "metadata": {
        "id": "_trtNkDYF1bx"
      }
    },
    {
      "cell_type": "code",
      "source": [
        "# Create a set\n",
        "my_set = {1, 2, 3, 4, 5}\n",
        "\n",
        "# Remove an item from the set\n",
        "my_set.remove(3)\n",
        "\n",
        "# Print the updated set\n",
        "print(my_set)  # Output: {1, 2, 4, 5}\n"
      ],
      "metadata": {
        "colab": {
          "base_uri": "https://localhost:8080/"
        },
        "id": "8L0mN3D4F31I",
        "outputId": "b2b3fd58-07d1-4aa7-ee59-d941939a94b5"
      },
      "execution_count": 11,
      "outputs": [
        {
          "output_type": "stream",
          "name": "stdout",
          "text": [
            "{1, 2, 4, 5}\n"
          ]
        }
      ]
    },
    {
      "cell_type": "markdown",
      "source": [
        "**Note that** when using **remove()**, it is important to ensure that the item you are trying to remove actually exists in the set, otherwise a KeyError will be raised. On the other hand, **discard()** is more lenient and does not raise an error if the item does not exist in the set"
      ],
      "metadata": {
        "id": "WLzvbsGNF8e9"
      }
    },
    {
      "cell_type": "markdown",
      "source": [
        "# Difference between discard() and remove()\n",
        "\n",
        "Certainly! The main difference between the discard() and remove() methods in Python is how they handle the situation when the item being removed is not found in the set:\n",
        "\n",
        "**discard()** method: If the item being removed does not exist in the set, discard() will simply do nothing and the set remains unchanged. No error is raised."
      ],
      "metadata": {
        "id": "Q6NuApCsGHvt"
      }
    },
    {
      "cell_type": "code",
      "source": [
        "# Create a set\n",
        "my_set = {1, 2, 3, 4, 5}\n",
        "\n",
        "# Try to remove an item using discard()\n",
        "my_set.discard(6)\n",
        "\n",
        "# Print the set (unchanged)\n",
        "print(my_set)  # Output: {1, 2, 3, 4, 5}\n"
      ],
      "metadata": {
        "colab": {
          "base_uri": "https://localhost:8080/"
        },
        "id": "CcwMiVPLGPlo",
        "outputId": "cea1aa3e-4618-45cb-dc88-b79e978de9ac"
      },
      "execution_count": 12,
      "outputs": [
        {
          "output_type": "stream",
          "name": "stdout",
          "text": [
            "{1, 2, 3, 4, 5}\n"
          ]
        }
      ]
    },
    {
      "cell_type": "markdown",
      "source": [
        "**remove() method**: If the item being removed does not exist in the set, remove() will raise a KeyError."
      ],
      "metadata": {
        "id": "PJJMT5XPGU3I"
      }
    },
    {
      "cell_type": "code",
      "source": [
        "# Create a set\n",
        "my_set = {1, 2, 3, 4, 5}\n",
        "\n",
        "# Try to remove an item using remove()\n",
        "my_set.remove(6)  # Raises KeyError: 6\n",
        "\n",
        "# Print the set (unchanged)\n",
        "print(my_set)  # This line will not be executed due to the error above\n"
      ],
      "metadata": {
        "colab": {
          "base_uri": "https://localhost:8080/",
          "height": 235
        },
        "id": "3BwD_jVuGZkv",
        "outputId": "3cf2ea63-4469-4ced-944b-33ca42bf4571"
      },
      "execution_count": 13,
      "outputs": [
        {
          "output_type": "error",
          "ename": "KeyError",
          "evalue": "ignored",
          "traceback": [
            "\u001b[0;31m---------------------------------------------------------------------------\u001b[0m",
            "\u001b[0;31mKeyError\u001b[0m                                  Traceback (most recent call last)",
            "\u001b[0;32m<ipython-input-13-a4b811de22bf>\u001b[0m in \u001b[0;36m<cell line: 5>\u001b[0;34m()\u001b[0m\n\u001b[1;32m      3\u001b[0m \u001b[0;34m\u001b[0m\u001b[0m\n\u001b[1;32m      4\u001b[0m \u001b[0;31m# Try to remove an item using remove()\u001b[0m\u001b[0;34m\u001b[0m\u001b[0;34m\u001b[0m\u001b[0m\n\u001b[0;32m----> 5\u001b[0;31m \u001b[0mmy_set\u001b[0m\u001b[0;34m.\u001b[0m\u001b[0mremove\u001b[0m\u001b[0;34m(\u001b[0m\u001b[0;36m6\u001b[0m\u001b[0;34m)\u001b[0m  \u001b[0;31m# Raises KeyError: 6\u001b[0m\u001b[0;34m\u001b[0m\u001b[0;34m\u001b[0m\u001b[0m\n\u001b[0m\u001b[1;32m      6\u001b[0m \u001b[0;34m\u001b[0m\u001b[0m\n\u001b[1;32m      7\u001b[0m \u001b[0;31m# Print the set (unchanged)\u001b[0m\u001b[0;34m\u001b[0m\u001b[0;34m\u001b[0m\u001b[0m\n",
            "\u001b[0;31mKeyError\u001b[0m: 6"
          ]
        }
      ]
    },
    {
      "cell_type": "markdown",
      "source": [
        "**In summary**, **discard()** is more lenient and does not raise an error if the item being removed is not found in the set, while **remove()** raises a **KeyError** in such cases. It's recommended to use **discard() **if you want to avoid errors when removing items that may or may not exist in the set"
      ],
      "metadata": {
        "id": "cGarerspGgm4"
      }
    },
    {
      "cell_type": "markdown",
      "source": [
        "# Python Set Operations\n",
        "Certainly! In Python, sets support various mathematical operations such as union, intersection, difference, and symmetric difference. These operations can be performed using operators or methods provided by Python. Here's a brief description of these operations:\n"
      ],
      "metadata": {
        "id": "WWHsWdOmG05K"
      }
    },
    {
      "cell_type": "markdown",
      "source": [
        "**Union:** The union of two sets consists of all unique elements from both sets. In Python, you can use the **| (pipe)** operator or the **union()** method to perform the union operation.\n",
        "![python-set.png](data:image/png;base64,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)"
      ],
      "metadata": {
        "id": "Je8ARTDiG6E2"
      }
    },
    {
      "cell_type": "code",
      "source": [
        "# Example of union operation\n",
        "set1 = {1, 2, 3}\n",
        "set2 = {3, 4, 5}\n",
        "\n",
        "# Using the | operator\n",
        "union_set = set1 | set2\n",
        "print(union_set)  # Output: {1, 2, 3, 4, 5}\n",
        "\n",
        "# Using the union() method\n",
        "union_set = set1.union(set2)\n",
        "print(union_set)  # Output: {1, 2, 3, 4, 5}\n"
      ],
      "metadata": {
        "colab": {
          "base_uri": "https://localhost:8080/"
        },
        "id": "9po-ymHJG_b8",
        "outputId": "b6390a8d-d6b3-46a3-cea4-f9a31db16602"
      },
      "execution_count": 14,
      "outputs": [
        {
          "output_type": "stream",
          "name": "stdout",
          "text": [
            "{1, 2, 3, 4, 5}\n",
            "{1, 2, 3, 4, 5}\n"
          ]
        }
      ]
    },
    {
      "cell_type": "markdown",
      "source": [
        "**Intersection:** The intersection of two sets consists of all elements that are common to both sets. In Python, you can use the **& (ampersand)** operator or the **intersection()** method to perform the intersection operation.\n",
        "\n",
        "![python-set2.png](data:image/png;base64,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)"
      ],
      "metadata": {
        "id": "npVePNshHEaV"
      }
    },
    {
      "cell_type": "code",
      "source": [
        "# Example of intersection operation\n",
        "set1 = {1, 2, 3}\n",
        "set2 = {3, 4, 5}\n",
        "\n",
        "# Using the & operator\n",
        "intersection_set = set1 & set2\n",
        "print(intersection_set)  # Output: {3}\n",
        "\n",
        "# Using the intersection() method\n",
        "intersection_set = set1.intersection(set2)\n",
        "print(intersection_set)  # Output: {3}\n"
      ],
      "metadata": {
        "colab": {
          "base_uri": "https://localhost:8080/"
        },
        "id": "_V7fMpAFHHDx",
        "outputId": "7e529685-4322-4879-8cce-1f471083363a"
      },
      "execution_count": 15,
      "outputs": [
        {
          "output_type": "stream",
          "name": "stdout",
          "text": [
            "{3}\n",
            "{3}\n"
          ]
        }
      ]
    },
    {
      "cell_type": "markdown",
      "source": [
        "**Difference:** The difference between two sets consists of all elements that are present in one set but not in the other. In Python, you can use the \n",
        "**- (minus)** operator or the **difference()** method to perform the difference operation\n",
        "![python-set3.png](data:image/png;base64,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)"
      ],
      "metadata": {
        "id": "5-fFWoBzHL9x"
      }
    },
    {
      "cell_type": "code",
      "source": [
        "# Example of difference operation\n",
        "set1 = {1, 2, 3}\n",
        "set2 = {3, 4, 5}\n",
        "\n",
        "# Using the - operator\n",
        "difference_set = set1 - set2\n",
        "print(difference_set)  # Output: {1, 2}\n",
        "\n",
        "# Using the difference() method\n",
        "difference_set = set1.difference(set2)\n",
        "print(difference_set)  # Output: {1, 2}\n"
      ],
      "metadata": {
        "colab": {
          "base_uri": "https://localhost:8080/"
        },
        "id": "RmHPp9OUHN_-",
        "outputId": "b473bffc-a9b6-430e-e174-1a1888410b1f"
      },
      "execution_count": 16,
      "outputs": [
        {
          "output_type": "stream",
          "name": "stdout",
          "text": [
            "{1, 2}\n",
            "{1, 2}\n"
          ]
        }
      ]
    },
    {
      "cell_type": "markdown",
      "source": [
        "**Symmetric Difference:** The symmetric difference between two sets consists of all elements that are present in either set but not in both sets. In Python, you can use the **^ (caret)** operator or the **symmetric_difference()** method to perform the symmetric difference operation.\n",
        "\n",
        "![python-set4.png](data:image/png;base64,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)"
      ],
      "metadata": {
        "id": "4RMC_05tHW49"
      }
    },
    {
      "cell_type": "code",
      "source": [
        "# Example of difference operation\n",
        "set1 = {1, 2, 3}\n",
        "set2 = {3, 4, 5}\n",
        "\n",
        "# Using the - operator\n",
        "difference_set = set1 - set2\n",
        "print(difference_set)  # Output: {1, 2}\n",
        "\n",
        "# Using the difference() method\n",
        "difference_set = set1.difference(set2)\n",
        "print(difference_set)  # Output: {1, 2}\n"
      ],
      "metadata": {
        "colab": {
          "base_uri": "https://localhost:8080/"
        },
        "id": "U1_bwTsqHcOc",
        "outputId": "b176da02-ca0e-424e-b832-5ff43ed5c32d"
      },
      "execution_count": 17,
      "outputs": [
        {
          "output_type": "stream",
          "name": "stdout",
          "text": [
            "{1, 2}\n",
            "{1, 2}\n"
          ]
        }
      ]
    },
    {
      "cell_type": "markdown",
      "source": [
        "**Note that** these operations do not modify the original sets, but instead create new sets as the result of the operations."
      ],
      "metadata": {
        "id": "XFNcgQyWHmME"
      }
    },
    {
      "cell_type": "markdown",
      "source": [
        "# Set comparisons\n",
        "\n",
        "In Python, you can use the comparison operators, such as **<, >, <=, >=, and ==**, with sets to perform set comparisons. These operators allow you to check if one set is a subset, superset, or equivalent to another set. They return a boolean value of True or False depending on the items present inside the sets. Here's a brief explanation of these set comparison operators:"
      ],
      "metadata": {
        "id": "Fil_XcGbIgKq"
      }
    },
    {
      "cell_type": "markdown",
      "source": [
        "**Subset:** The **< (less than)** operator or the **issubset()** method can be used to check if one set is a subset of another set. A set A is considered a subset of set B if all elements of A are also present in "
      ],
      "metadata": {
        "id": "2VQL1GUgIn6t"
      }
    },
    {
      "cell_type": "code",
      "source": [
        "# Example of subset comparison\n",
        "set1 = {1, 2, 3}\n",
        "set2 = {1, 2, 3, 4, 5}\n",
        "\n",
        "# Using the < operator\n",
        "is_subset = set1 < set2\n",
        "print(is_subset)  # Output: True\n",
        "\n",
        "# Using the issubset() method\n",
        "is_subset = set1.issubset(set2)\n",
        "print(is_subset)  # Output: True\n"
      ],
      "metadata": {
        "colab": {
          "base_uri": "https://localhost:8080/"
        },
        "id": "3XwjnMRUIuVU",
        "outputId": "f6bc0373-7359-4ddb-af3f-e174175d3d53"
      },
      "execution_count": 18,
      "outputs": [
        {
          "output_type": "stream",
          "name": "stdout",
          "text": [
            "True\n",
            "True\n"
          ]
        }
      ]
    },
    {
      "cell_type": "markdown",
      "source": [
        "**Superset:** The **> (greater than)** operator or the **issuperset()** method can be used to check if one set is a superset of another set. A set A is considered a superset of set B if all elements of B are also present in A."
      ],
      "metadata": {
        "id": "Rjk2jvpnI2mb"
      }
    },
    {
      "cell_type": "code",
      "source": [
        "# Example of superset comparison\n",
        "set1 = {1, 2, 3, 4, 5}\n",
        "set2 = {1, 2, 3}\n",
        "\n",
        "# Using the > operator\n",
        "is_superset = set1 > set2\n",
        "print(is_superset)  # Output: True\n",
        "\n",
        "# Using the issuperset() method\n",
        "is_superset = set1.issuperset(set2)\n",
        "print(is_superset)  # Output: True\n"
      ],
      "metadata": {
        "colab": {
          "base_uri": "https://localhost:8080/"
        },
        "id": "VrsRyjIsI76V",
        "outputId": "e83c1762-5ca9-4b15-f824-c4e226d28713"
      },
      "execution_count": 19,
      "outputs": [
        {
          "output_type": "stream",
          "name": "stdout",
          "text": [
            "True\n",
            "True\n"
          ]
        }
      ]
    },
    {
      "cell_type": "markdown",
      "source": [
        "**Equivalent:** The **== (equal to)** operator or the **__eq__() **method can be used to check if two sets are equivalent, i.e., they have the same elements."
      ],
      "metadata": {
        "id": "P1LF9lpSI_fD"
      }
    },
    {
      "cell_type": "code",
      "source": [
        "# Example of equality comparison\n",
        "set1 = {1, 2, 3}\n",
        "set2 = {3, 2, 1}\n",
        "\n",
        "# Using the == operator\n",
        "is_equal = set1 == set2\n",
        "print(is_equal)  # Output: True\n",
        "\n",
        "# Using the __eq__() method\n",
        "is_equal = set1.__eq__(set2)\n",
        "print(is_equal)  # Output: True\n"
      ],
      "metadata": {
        "colab": {
          "base_uri": "https://localhost:8080/"
        },
        "id": "y6XRJzh1JE6c",
        "outputId": "e7754ee1-9f12-48bc-c620-a288f0c1ea18"
      },
      "execution_count": 20,
      "outputs": [
        {
          "output_type": "stream",
          "name": "stdout",
          "text": [
            "True\n",
            "True\n"
          ]
        }
      ]
    },
    {
      "cell_type": "markdown",
      "source": [
        "**Note that** the order of elements in a set does not matter, as sets are unordered collections of unique elements."
      ],
      "metadata": {
        "id": "y8qq-eTnJI3r"
      }
    },
    {
      "cell_type": "markdown",
      "source": [
        "# FrozenSets\n",
        "\n",
        "Certainly! In Python, a frozen set is an immutable form of a normal set. This means that once a frozen set is created, its elements cannot be changed, and therefore it can be used as a key in a dictionary.\n",
        "\n",
        "The elements of a frozen set cannot be modified after its creation. Methods like **add() or remove()** cannot be used to change or append the contents of a frozen set.\n",
        "\n",
        "You can create a frozen set using the **frozenset()** method, which takes an iterable sequence as an argument and returns a frozen set object. Here's an example:"
      ],
      "metadata": {
        "id": "YRTQ-KJFJTNW"
      }
    },
    {
      "cell_type": "code",
      "source": [
        "# Example of creating a frozen set\n",
        "my_list = [1, 2, 3, 4, 5]\n",
        "my_tuple = (6, 7, 8, 9, 10)\n",
        "\n",
        "frozen_set1 = frozenset(my_list)\n",
        "frozen_set2 = frozenset(my_tuple)\n",
        "\n",
        "print(frozen_set1)  # Output: frozenset({1, 2, 3, 4, 5})\n",
        "print(frozen_set2)  # Output: frozenset({6, 7, 8, 9, 10})\n"
      ],
      "metadata": {
        "colab": {
          "base_uri": "https://localhost:8080/"
        },
        "id": "eVa03Rx7JLMg",
        "outputId": "67320da0-c6e3-4162-ab96-53273df0f05e"
      },
      "execution_count": 21,
      "outputs": [
        {
          "output_type": "stream",
          "name": "stdout",
          "text": [
            "frozenset({1, 2, 3, 4, 5})\n",
            "frozenset({6, 7, 8, 9, 10})\n"
          ]
        }
      ]
    },
    {
      "cell_type": "markdown",
      "source": [
        "**Note that** the elements of a frozen set are enclosed in curly braces {} and the type is specified as frozenset when printed"
      ],
      "metadata": {
        "id": "rR_wxPTjJgXC"
      }
    },
    {
      "cell_type": "markdown",
      "source": [
        "# Frozenset for the dictionary\n",
        "Certainly! If you pass a dictionary as the sequence inside the **frozenset()** method, it will consider only the keys of the dictionary and return a frozen set that contains the keys of the dictionary as its elements.\n",
        "\n",
        "Here's an example:"
      ],
      "metadata": {
        "id": "M-oI8_lXJnDu"
      }
    },
    {
      "cell_type": "code",
      "source": [
        "# Example of creating a frozen set from a dictionary\n",
        "my_dict = {'a': 1, 'b': 2, 'c': 3, 'd': 4}\n",
        "\n",
        "frozen_set = frozenset(my_dict)\n",
        "\n",
        "print(frozen_set)  # Output: frozenset({'a', 'b', 'c', 'd'})\n"
      ],
      "metadata": {
        "colab": {
          "base_uri": "https://localhost:8080/"
        },
        "id": "kkk74f5nJsNt",
        "outputId": "bfbb7624-fe89-4446-a7db-6d1e51a02770"
      },
      "execution_count": 22,
      "outputs": [
        {
          "output_type": "stream",
          "name": "stdout",
          "text": [
            "frozenset({'a', 'c', 'b', 'd'})\n"
          ]
        }
      ]
    },
    {
      "cell_type": "markdown",
      "source": [
        "**In the example**, the keys of the **my_dict** dictionary ('a', 'b', 'c', 'd') are converted into a frozen set using the **frozenset()** method, and the resulting frozen set contains these keys as its elements. Note that the order of elements in the frozen set may not necessarily be the same as the original dictionary, as sets are unordered collections in Python."
      ],
      "metadata": {
        "id": "O2WI5DIOJwa_"
      }
    },
    {
      "cell_type": "markdown",
      "source": [
        "# Python Built-in set methods\n"
      ],
      "metadata": {
        "id": "FByXIEJ5KkHR"
      }
    },
    {
      "cell_type": "markdown",
      "source": [
        "**clear()**\t\n",
        "The clear() method is used to remove all the items from a set in Python. It empties the set and makes it an empty set with no items."
      ],
      "metadata": {
        "id": "AWxZODsZKr_u"
      }
    },
    {
      "cell_type": "code",
      "source": [
        "# Creating a set\n",
        "my_set = {1, 2, 3, 4}\n",
        "\n",
        "print(my_set)  # Output: {1, 2, 3, 4}\n",
        "\n",
        "# Clearing the set\n",
        "my_set.clear()\n",
        "\n",
        "print(my_set)  # Output: set()\n"
      ],
      "metadata": {
        "colab": {
          "base_uri": "https://localhost:8080/"
        },
        "id": "PJub-2jmKxYc",
        "outputId": "a5e095b4-a8a9-45a6-c18a-0915f69f0062"
      },
      "execution_count": 23,
      "outputs": [
        {
          "output_type": "stream",
          "name": "stdout",
          "text": [
            "{1, 2, 3, 4}\n",
            "set()\n"
          ]
        }
      ]
    },
    {
      "cell_type": "markdown",
      "source": [
        "**copy()**\n",
        "The copy() method is used to create a shallow copy of a set in Python. It returns a new set object that is a copy of the original set, but the items inside the set are still references to the same objects as the original set.\n",
        "\n",
        "Here's an example:"
      ],
      "metadata": {
        "id": "B3YjbwdGK3wn"
      }
    },
    {
      "cell_type": "code",
      "source": [
        "# Creating a set\n",
        "my_set = {1, 2, 3, 4}\n",
        "\n",
        "# Creating a shallow copy of the set\n",
        "my_set_copy = my_set.copy()\n",
        "\n",
        "print(my_set)       # Output: {1, 2, 3, 4}\n",
        "print(my_set_copy)  # Output: {1, 2, 3, 4}\n",
        "\n",
        "# Modifying the original set\n",
        "my_set.add(5)\n",
        "\n",
        "print(my_set)       # Output: {1, 2, 3, 4, 5}\n",
        "print(my_set_copy)  # Output: {1, 2, 3, 4} (copy is not affected by changes in the original set)\n"
      ],
      "metadata": {
        "colab": {
          "base_uri": "https://localhost:8080/"
        },
        "id": "W2Qs_hnCK8pJ",
        "outputId": "892f8255-6f11-4420-8603-55bf9676ef28"
      },
      "execution_count": 24,
      "outputs": [
        {
          "output_type": "stream",
          "name": "stdout",
          "text": [
            "{1, 2, 3, 4}\n",
            "{1, 2, 3, 4}\n",
            "{1, 2, 3, 4, 5}\n",
            "{1, 2, 3, 4}\n"
          ]
        }
      ]
    },
    {
      "cell_type": "markdown",
      "source": [
        "In the example, the **copy()** method is used to create a shallow copy of the my_set set, and the resulting my_set_copy set contains the same items as the original set. However, when the original set is modified by adding a new item, the copy remains unchanged as it is a shallow copy and the items inside both sets still reference the same objects."
      ],
      "metadata": {
        "id": "YiVhN_vrLAn2"
      }
    },
    {
      "cell_type": "markdown",
      "source": [
        "**difference_update(....)**\n",
        "\n",
        "The **difference_update()** method is used to modify a set by removing all the items that are also present in one or more specified sets. It updates the set in place and does not return a new set.\n",
        "\n",
        "Here's an example:"
      ],
      "metadata": {
        "id": "AZGbvijdLDMW"
      }
    },
    {
      "cell_type": "code",
      "source": [
        "# Creating a set\n",
        "my_set = {1, 2, 3, 4, 5}\n",
        "\n",
        "# Creating another set\n",
        "other_set = {4, 5, 6, 7, 8}\n",
        "\n",
        "# Modifying the original set using difference_update()\n",
        "my_set.difference_update(other_set)\n",
        "\n",
        "print(my_set)  # Output: {1, 2, 3} (items 4 and 5 are removed from the original set)\n"
      ],
      "metadata": {
        "colab": {
          "base_uri": "https://localhost:8080/"
        },
        "id": "Z4CxPp6FLOSv",
        "outputId": "16c17b70-d821-455d-e2a3-5aa14a8526e5"
      },
      "execution_count": 25,
      "outputs": [
        {
          "output_type": "stream",
          "name": "stdout",
          "text": [
            "{1, 2, 3}\n"
          ]
        }
      ]
    },
    {
      "cell_type": "markdown",
      "source": [
        "In the example, **the difference_update()** method is called on my_set with other_set as the argument. It removes all the items that are present in other_set from my_set, resulting in the original set being modified in place with only **{1, 2, 3}** remaining. Note that the **difference_update()** method does not return a new set, but instead modifies the original set directly."
      ],
      "metadata": {
        "id": "z-uOl9m2LSPF"
      }
    },
    {
      "cell_type": "markdown",
      "source": [
        "**discard(item)**\n",
        "\n",
        "**The discard()** method is used to remove a specified item from a set, if it exists in the set. If the item is not present in the set, the set remains unchanged and no error is raised.\n",
        "\n",
        "Here's an example"
      ],
      "metadata": {
        "id": "PN29TMWHLd79"
      }
    },
    {
      "cell_type": "code",
      "source": [
        "# Creating a set\n",
        "my_set = {1, 2, 3, 4, 5}\n",
        "\n",
        "# Removing an item using discard()\n",
        "my_set.discard(3)\n",
        "\n",
        "print(my_set)  # Output: {1, 2, 4, 5} (item 3 is removed from the set)\n"
      ],
      "metadata": {
        "colab": {
          "base_uri": "https://localhost:8080/"
        },
        "id": "cCd_wUxNLkbB",
        "outputId": "84927e5a-b057-4bb8-fda9-1530b8708a95"
      },
      "execution_count": 26,
      "outputs": [
        {
          "output_type": "stream",
          "name": "stdout",
          "text": [
            "{1, 2, 4, 5}\n"
          ]
        }
      ]
    },
    {
      "cell_type": "markdown",
      "source": [
        "In the example, the **discard()** method is called on my_set with 3 as the argument. Since 3 is present in the set, it is removed, and the resulting set becomes {1, 2, 4, 5}. If 3 was not present in the set, the set would have remained unchanged without raising an error."
      ],
      "metadata": {
        "id": "yIpmJOyQLoVD"
      }
    },
    {
      "cell_type": "markdown",
      "source": [
        "**intersection_update(....)**\n",
        "\n",
        "The **intersection_update()** method is used to modify the original set by removing items that are not present in both the original set and one or more specified sets.\n",
        "\n",
        "Here's an example:"
      ],
      "metadata": {
        "id": "e0tlAi83L0Qi"
      }
    },
    {
      "cell_type": "code",
      "source": [
        "# Creating two sets\n",
        "set1 = {1, 2, 3, 4, 5}\n",
        "set2 = {4, 5, 6, 7, 8}\n",
        "\n",
        "# Modifying set1 using intersection_update()\n",
        "set1.intersection_update(set2)\n",
        "\n",
        "print(set1)  # Output: {4, 5} (only items present in both set1 and set2 are kept in set1)\n"
      ],
      "metadata": {
        "colab": {
          "base_uri": "https://localhost:8080/"
        },
        "id": "-TVgNpF0L6kY",
        "outputId": "ae515320-c075-493b-a807-aa32b3107f17"
      },
      "execution_count": 27,
      "outputs": [
        {
          "output_type": "stream",
          "name": "stdout",
          "text": [
            "{4, 5}\n"
          ]
        }
      ]
    },
    {
      "cell_type": "markdown",
      "source": [
        "In the example, the **intersection_update()** method is called on set1 with set2 as the argument. The resulting set set1 will only contain items that are present in both **set1 and set2**, which in this case are** {4, 5}.** Items that are not present in both sets are removed from set1"
      ],
      "metadata": {
        "id": "8IghyjrML-Bb"
      }
    },
    {
      "cell_type": "markdown",
      "source": [
        "**Isdisjoint(....)**\n",
        "\n",
        "The **isdisjoint() **method is used to check if two sets have a null intersection, meaning they do not have any common items. If the sets have no items in common, the method returns True, otherwise it returns False.\n",
        "\n",
        "Here's an example:"
      ],
      "metadata": {
        "id": "cpk_pDjdMIky"
      }
    },
    {
      "cell_type": "code",
      "source": [
        "# Creating two sets\n",
        "set1 = {1, 2, 3, 4, 5}\n",
        "set2 = {6, 7, 8, 9, 10}\n",
        "\n",
        "# Checking if sets are disjoint using isdisjoint()\n",
        "result = set1.isdisjoint(set2)\n",
        "\n",
        "print(result)  # Output: True (sets set1 and set2 have no common items)\n"
      ],
      "metadata": {
        "colab": {
          "base_uri": "https://localhost:8080/"
        },
        "id": "3PHZsPQhMRLX",
        "outputId": "21962dbe-1a52-4c10-bfe3-77739d1f0316"
      },
      "execution_count": 28,
      "outputs": [
        {
          "output_type": "stream",
          "name": "stdout",
          "text": [
            "True\n"
          ]
        }
      ]
    },
    {
      "cell_type": "markdown",
      "source": [
        "In the example, the **isdisjoint()** method is called on set1 with **set2** as the argument. Since sets set1 and **set2** have no common items, the method returns True."
      ],
      "metadata": {
        "id": "fn-fBZiVMT4w"
      }
    },
    {
      "cell_type": "markdown",
      "source": [
        "**pop()**\t\n",
        "The **pop()** method in Python sets is used to remove and return an arbitrary (random) element from the set. The removed element is also deleted from the set. However, if the set is** empty, i.e.**, it has no elements, then a **KeyError** is raised.\n",
        "\n",
        "Here's an example:"
      ],
      "metadata": {
        "id": "kWGVWQeBMeM6"
      }
    },
    {
      "cell_type": "code",
      "source": [
        "# Creating a set\n",
        "my_set = {1, 2, 3, 4, 5}\n",
        "\n",
        "# Removing and returning an arbitrary element using pop()\n",
        "removed_item = my_set.pop()\n",
        "\n",
        "print(removed_item)  # Output: 1 (an arbitrary element from the set)\n",
        "print(my_set)         # Output: {2, 3, 4, 5} (set with the removed element)\n"
      ],
      "metadata": {
        "colab": {
          "base_uri": "https://localhost:8080/"
        },
        "id": "39wFkb_KMnWe",
        "outputId": "aff8a059-2c1c-4720-f49b-8b9eb5e628a4"
      },
      "execution_count": 29,
      "outputs": [
        {
          "output_type": "stream",
          "name": "stdout",
          "text": [
            "1\n",
            "{2, 3, 4, 5}\n"
          ]
        }
      ]
    },
    {
      "cell_type": "markdown",
      "source": [
        "n this example, the **pop()** method is called on **my_set** to remove and return an arbitrary element from the set. The removed element is printed, and the set is also printed after the removal to show that the element has been deleted from the set."
      ],
      "metadata": {
        "id": "O17oy1-mMrG-"
      }
    },
    {
      "cell_type": "markdown",
      "source": [
        "\n",
        "**symmetric_difference_update(....)**\n",
        "\n",
        "The symmetric_difference_update() method in Python sets is used to update a set by keeping only the elements that are unique to either the original set or another set (or sets) specified. In other words, it removes the elements that are common to both sets and keeps the elements that are unique to either set.\n",
        "\n",
        "Here's an example:\n"
      ],
      "metadata": {
        "id": "o4Z3W5Y3M8HR"
      }
    },
    {
      "cell_type": "code",
      "source": [
        "# Creating two sets\n",
        "set1 = {1, 2, 3, 4, 5}\n",
        "set2 = {4, 5, 6, 7, 8}\n",
        "\n",
        "# Updating set1 with symmetric difference of set1 and set2\n",
        "set1.symmetric_difference_update(set2)\n",
        "\n",
        "print(set1)  # Output: {1, 2, 3, 6, 7, 8} (updated set1 with elements unique to either set1 or set2)\n"
      ],
      "metadata": {
        "colab": {
          "base_uri": "https://localhost:8080/"
        },
        "id": "ynVxNFaSND4h",
        "outputId": "d1a24ec0-ba67-4d36-fee6-0ba25faef685"
      },
      "execution_count": 30,
      "outputs": [
        {
          "output_type": "stream",
          "name": "stdout",
          "text": [
            "{1, 2, 3, 6, 7, 8}\n"
          ]
        }
      ]
    },
    {
      "cell_type": "markdown",
      "source": [
        "In this example, the **symmetric_difference_update()** method is called on set1 with **set2** as an argument. After the update, **set1** will only contain the elements that are unique to either set1 or **set2**, i.e., elements that are not present in both sets."
      ],
      "metadata": {
        "id": "azV_f44dNHAN"
      }
    },
    {
      "cell_type": "markdown",
      "source": [
        "# Here's a summary\n",
        "\n",
        "- Sets in Python are collections of unique and unordered elements enclosed in curly **braces {}** or created using the **set()** method.\n",
        "- Items can be added to a set using the add() method for single items or the **update()** method for multiple items.\n",
        "- Items can be removed from a set using the **discard()** method or the **remove()** method. The difference is that **discard()** does not raise an error if the item is not found in the set, while **remove()** raises a **KeyError** in such cases.\n",
        "- Set operations such as union, intersection, difference, and symmetric difference can be performed using operators or methods like **union()**, **intersection()**, **difference()**, and **symmetric_difference().**\n",
        "- Set comparisons can be made using comparison operators like **<, >, <=, >=, and == **to check if a set is a subset, superset, or equivalent to another set.\n",
        "- Frozen sets are immutable sets that can be used as keys in dictionaries. They are created using the **frozenset()** method and can only contain hashable elements.\n",
        "- Additional set methods include clear() to delete all items from a set, **copy()** to create a shallow copy of a set, **difference_update()** to remove items present in other sets, **isdisjoint()** to check if two sets have no common elements,** pop()** to remove and return an arbitrary set element, and **symmetric_difference_update()** to update a set with the symmetric difference of itself and another set.\n",
        "\n",
        "**Please let me know if there's anything else you need!**"
      ],
      "metadata": {
        "id": "ZGY5-7pzNdef"
      }
    },
    {
      "cell_type": "code",
      "source": [],
      "metadata": {
        "id": "xdEab2TuOcum"
      },
      "execution_count": null,
      "outputs": []
    }
  ]
}