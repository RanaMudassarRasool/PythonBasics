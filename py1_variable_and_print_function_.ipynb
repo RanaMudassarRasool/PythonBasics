{
  "nbformat": 4,
  "nbformat_minor": 0,
  "metadata": {
    "colab": {
      "provenance": [],
      "authorship_tag": "ABX9TyNHQ+863DechncBtGjLHv6Y",
      "include_colab_link": true
    },
    "kernelspec": {
      "name": "python3",
      "display_name": "Python 3"
    },
    "language_info": {
      "name": "python"
    }
  },
  "cells": [
    {
      "cell_type": "markdown",
      "metadata": {
        "id": "view-in-github",
        "colab_type": "text"
      },
      "source": [
        "<a href=\"https://colab.research.google.com/github/ranamaddy/PythonBasics/blob/main/py1_variable_and_print_function_.ipynb\" target=\"_parent\"><img src=\"https://colab.research.google.com/assets/colab-badge.svg\" alt=\"Open In Colab\"/></a>"
      ]
    },
    {
      "cell_type": "markdown",
      "source": [
        "# python introduction \n",
        "\n",
        "Python is a popular high-level programming language that is widely used in a variety of fields, including data science, machine learning, web development, scientific computing, and more. It was first created in 1991 by Guido van Rossum and has since become one of the most popular programming languages in the world.\n",
        "\n",
        "Python is known for its simple and intuitive syntax, which makes it easy to read and write code. It also has a large standard library that provides a wide range of functionalities, including data manipulation, file handling, networking, and more. Additionally, Python has a large and active community of developers who contribute to open-source packages and tools that extend the language's capabilities.\n",
        "\n",
        "One of the key strengths of Python is its versatility. It can be used for a wide range of tasks, from scripting and automation to developing large-scale applications. It also has extensive support for scientific computing, including numerical computation, data analysis, and visualization.\n",
        "\n",
        "Python is an interpreted language, which means that code is executed on the fly, without the need for compilation. This allows for fast and efficient development, as well as easy experimentation and prototyping.\n",
        "\n",
        "Overall, Python is a powerful and versatile programming language that can be used for a wide range of applications. Its simplicity, readability, and large standard library make it an ideal choice for beginners and experts alike."
      ],
      "metadata": {
        "id": "oL5zYVC-S-Xd"
      }
    },
    {
      "cell_type": "markdown",
      "source": [
        "**variable and ouptput function**\n"
      ],
      "metadata": {
        "id": "YMYsl-ayUqxa"
      }
    },
    {
      "cell_type": "code",
      "execution_count": 4,
      "metadata": {
        "colab": {
          "base_uri": "https://localhost:8080/"
        },
        "id": "S6Q681sQS5sr",
        "outputId": "7e3be774-1aa0-40b4-e56e-3738e9542dd6"
      },
      "outputs": [
        {
          "output_type": "stream",
          "name": "stdout",
          "text": [
            "5\n"
          ]
        }
      ],
      "source": [
        "a =5\n",
        "\n",
        "print(a)"
      ]
    },
    {
      "cell_type": "code",
      "source": [
        "a=5\n",
        "b=10\n",
        "print(a+b)"
      ],
      "metadata": {
        "colab": {
          "base_uri": "https://localhost:8080/"
        },
        "id": "q3FjZpisVWOE",
        "outputId": "f5ffc171-e4af-49c8-e6ab-4c696c21d719"
      },
      "execution_count": 5,
      "outputs": [
        {
          "output_type": "stream",
          "name": "stdout",
          "text": [
            "15\n"
          ]
        }
      ]
    },
    {
      "cell_type": "code",
      "source": [
        "# This code assigns the value 5 to variable a and prints it\n",
        "d = 5\n",
        "print(d)"
      ],
      "metadata": {
        "colab": {
          "base_uri": "https://localhost:8080/"
        },
        "id": "XMDEVldQVfVr",
        "outputId": "370d23df-9f34-4429-b803-b25cd1810b33"
      },
      "execution_count": 6,
      "outputs": [
        {
          "output_type": "stream",
          "name": "stdout",
          "text": [
            "5\n"
          ]
        }
      ]
    },
    {
      "cell_type": "code",
      "source": [
        "# This code assigns the values 5 and 10 to variables a and b respectively, adds them and prints the result\n",
        "a = 5\n",
        "b = 10\n",
        "print(a + b)"
      ],
      "metadata": {
        "colab": {
          "base_uri": "https://localhost:8080/"
        },
        "id": "WUN1lSRLVkn5",
        "outputId": "a91bfc80-3990-49bf-bd93-6899e99a282a"
      },
      "execution_count": 7,
      "outputs": [
        {
          "output_type": "stream",
          "name": "stdout",
          "text": [
            "15\n"
          ]
        }
      ]
    },
    {
      "cell_type": "code",
      "source": [
        "# This code assigns the values 5 and 10 to variables a and b respectively, minus them and prints the resulta = 5\n",
        "b = 10\n",
        "print(a - b)"
      ],
      "metadata": {
        "colab": {
          "base_uri": "https://localhost:8080/"
        },
        "id": "TxoThCWpVnX1",
        "outputId": "698e0dc2-163f-406e-bd19-325af6407ec3"
      },
      "execution_count": 8,
      "outputs": [
        {
          "output_type": "stream",
          "name": "stdout",
          "text": [
            "-5\n"
          ]
        }
      ]
    },
    {
      "cell_type": "code",
      "source": [
        "# This code assigns the values 5 and 10 to variables a and b respectively, multiply them and prints the result\n",
        "a = 5\n",
        "b = 10\n",
        "print(a * b)"
      ],
      "metadata": {
        "colab": {
          "base_uri": "https://localhost:8080/"
        },
        "id": "cH5qDcKHVwqY",
        "outputId": "c2ce2e22-3591-4326-efe4-f84a6a2a6206"
      },
      "execution_count": 9,
      "outputs": [
        {
          "output_type": "stream",
          "name": "stdout",
          "text": [
            "50\n"
          ]
        }
      ]
    },
    {
      "cell_type": "code",
      "source": [
        "# This code assigns the values 5 and 10 to variables a and b respectively, divides them and prints the result\n",
        "a = 5\n",
        "b = 10\n",
        "print(b / a)"
      ],
      "metadata": {
        "colab": {
          "base_uri": "https://localhost:8080/"
        },
        "id": "MPgjiU8IV17k",
        "outputId": "5648325e-5743-4487-b83e-cbda2a20dce9"
      },
      "execution_count": 10,
      "outputs": [
        {
          "output_type": "stream",
          "name": "stdout",
          "text": [
            "2.0\n"
          ]
        }
      ]
    },
    {
      "cell_type": "code",
      "source": [
        "# This code assigns the values 5 and 10 to variables a and b respectively, remainder them and prints the result\n",
        "a = 4\n",
        "b = 10\n",
        "print(b % a)"
      ],
      "metadata": {
        "colab": {
          "base_uri": "https://localhost:8080/"
        },
        "id": "M-aN8_dbV4je",
        "outputId": "9e2d32fa-f59f-4821-bd83-4bfa86b5bf3b"
      },
      "execution_count": 12,
      "outputs": [
        {
          "output_type": "stream",
          "name": "stdout",
          "text": [
            "2\n"
          ]
        }
      ]
    },
    {
      "cell_type": "code",
      "source": [
        "# This code assigns the value 2 to variable c and prints it\n",
        "c = 2\n",
        "print(c)"
      ],
      "metadata": {
        "colab": {
          "base_uri": "https://localhost:8080/"
        },
        "id": "T3Rhsj2wWEkb",
        "outputId": "f811cb23-f97d-4b86-d375-934bc79697de"
      },
      "execution_count": 13,
      "outputs": [
        {
          "output_type": "stream",
          "name": "stdout",
          "text": [
            "2\n"
          ]
        }
      ]
    },
    {
      "cell_type": "code",
      "source": [
        "# This code assigns the value \"Hello, World!\" to variable message and prints it\n",
        "message = \"Hello, World!\"\n",
        "print(message)"
      ],
      "metadata": {
        "colab": {
          "base_uri": "https://localhost:8080/"
        },
        "id": "kjnO-WcQWIfq",
        "outputId": "c4bb154a-6b82-4b35-f70b-5dd8a5b2c4c3"
      },
      "execution_count": 14,
      "outputs": [
        {
          "output_type": "stream",
          "name": "stdout",
          "text": [
            "Hello, World!\n"
          ]
        }
      ]
    },
    {
      "cell_type": "code",
      "source": [
        "# This code assigns the value True to variable is_raining and prints it\n",
        "is_raining = True\n",
        "print(is_raining)"
      ],
      "metadata": {
        "colab": {
          "base_uri": "https://localhost:8080/"
        },
        "id": "F7kB_ErsWLgT",
        "outputId": "affd90bf-6eeb-4c39-cf77-a0c3e700ad48"
      },
      "execution_count": 15,
      "outputs": [
        {
          "output_type": "stream",
          "name": "stdout",
          "text": [
            "True\n"
          ]
        }
      ]
    },
    {
      "cell_type": "code",
      "source": [
        "# This code assigns the value \"John\" to variable name and prints it\n",
        "name = \"John\"\n",
        "print(name)"
      ],
      "metadata": {
        "colab": {
          "base_uri": "https://localhost:8080/"
        },
        "id": "ASvOAwIoWPmV",
        "outputId": "ea999a71-c453-4f20-e2e5-be4ce4943322"
      },
      "execution_count": 16,
      "outputs": [
        {
          "output_type": "stream",
          "name": "stdout",
          "text": [
            "John\n"
          ]
        }
      ]
    },
    {
      "cell_type": "code",
      "source": [
        "# This code assigns the value of the length of string \"Hello, World!\" to variable message_length and prints it\n",
        "message_length = len(\"Hello, World!\")\n",
        "print(message_length)"
      ],
      "metadata": {
        "colab": {
          "base_uri": "https://localhost:8080/"
        },
        "id": "OLX9peN5WSfu",
        "outputId": "6e43b252-0893-4535-b1b4-d603ab9ffcb9"
      },
      "execution_count": 17,
      "outputs": [
        {
          "output_type": "stream",
          "name": "stdout",
          "text": [
            "13\n"
          ]
        }
      ]
    },
    {
      "cell_type": "code",
      "source": [
        "# This code assigns the value of 3.14 to variable pi and prints it\n",
        "pi = 3.14\n",
        "print(pi)"
      ],
      "metadata": {
        "colab": {
          "base_uri": "https://localhost:8080/"
        },
        "id": "bEupyIPZWVH3",
        "outputId": "b8ded870-a371-48a3-f2a8-93cde4379c23"
      },
      "execution_count": 18,
      "outputs": [
        {
          "output_type": "stream",
          "name": "stdout",
          "text": [
            "3.14\n"
          ]
        }
      ]
    },
    {
      "cell_type": "code",
      "source": [
        "# This code assigns the value of the sum of variables a, b, and c to variable total and prints it\n",
        "a = 2\n",
        "b = 4\n",
        "c = 6\n",
        "total = a + b + c\n",
        "print(total)"
      ],
      "metadata": {
        "colab": {
          "base_uri": "https://localhost:8080/"
        },
        "id": "pBx2Yv1FWY5i",
        "outputId": "7b1f2980-807c-42af-9a98-fe9c858e284e"
      },
      "execution_count": 19,
      "outputs": [
        {
          "output_type": "stream",
          "name": "stdout",
          "text": [
            "12\n"
          ]
        }
      ]
    },
    {
      "cell_type": "code",
      "source": [
        "# This code assigns the value of the product of variables a, b, and c to variable result and prints it\n",
        "a = 2\n",
        "b = 4\n",
        "c = 6\n",
        "result = a * b * c\n",
        "print(result)"
      ],
      "metadata": {
        "colab": {
          "base_uri": "https://localhost:8080/"
        },
        "id": "VHLqhXPaWb_l",
        "outputId": "ea7ced3a-1323-4139-b860-9a00b6ab9878"
      },
      "execution_count": 20,
      "outputs": [
        {
          "output_type": "stream",
          "name": "stdout",
          "text": [
            "48\n"
          ]
        }
      ]
    },
    {
      "cell_type": "code",
      "source": [
        "# This code assigns the value of variable b divided by variable a to variable quotient and prints it\n",
        "a = 2\n",
        "b = 10\n",
        "quotient = b / a\n",
        "print(quotient)"
      ],
      "metadata": {
        "colab": {
          "base_uri": "https://localhost:8080/"
        },
        "id": "4inPOggHWftI",
        "outputId": "78a9d70c-4555-448a-ab27-5cc96fa29cb9"
      },
      "execution_count": 21,
      "outputs": [
        {
          "output_type": "stream",
          "name": "stdout",
          "text": [
            "5.0\n"
          ]
        }
      ]
    },
    {
      "cell_type": "code",
      "source": [
        "# This code assigns the value of variable c modulo variable a to variable remainder and prints it\n",
        "a = 3\n",
        "c = 11\n",
        "remainder = c % a\n",
        "print(remainder)"
      ],
      "metadata": {
        "colab": {
          "base_uri": "https://localhost:8080/"
        },
        "id": "OkgOQr3PWjiZ",
        "outputId": "10715941-7354-409c-b254-cbbb31427c34"
      },
      "execution_count": 22,
      "outputs": [
        {
          "output_type": "stream",
          "name": "stdout",
          "text": [
            "2\n"
          ]
        }
      ]
    },
    {
      "cell_type": "code",
      "source": [
        "# This code assigns the value of the concatenation of two strings to variable greeting and prints it\n",
        "first_name = \"John\"\n",
        "last_name = \"Doe\"\n",
        "greeting = \"Hello, \" + first_name + \" \" + last_name + \"!\"\n",
        "print(greeting)"
      ],
      "metadata": {
        "colab": {
          "base_uri": "https://localhost:8080/"
        },
        "id": "67uxI8G1WmMI",
        "outputId": "1443de2a-d7da-445e-bcac-1fcb5bd56ee4"
      },
      "execution_count": 23,
      "outputs": [
        {
          "output_type": "stream",
          "name": "stdout",
          "text": [
            "Hello, John Doe!\n"
          ]
        }
      ]
    },
    {
      "cell_type": "code",
      "source": [
        "# This code assigns the value of the boolean expression (5 > 3) to variable greater and prints it\n",
        "greater = (5 > 3)\n",
        "print(greater)"
      ],
      "metadata": {
        "colab": {
          "base_uri": "https://localhost:8080/"
        },
        "id": "u811qRCpWq5a",
        "outputId": "612fc6f5-4d90-4023-8d9c-f0c3f0360085"
      },
      "execution_count": 24,
      "outputs": [
        {
          "output_type": "stream",
          "name": "stdout",
          "text": [
            "True\n"
          ]
        }
      ]
    },
    {
      "cell_type": "code",
      "source": [
        "# This code assigns the value of variable num to variable squared and calculates the square of num\n",
        "num = 7\n",
        "squared = num ** 2\n",
        "print(squared)"
      ],
      "metadata": {
        "colab": {
          "base_uri": "https://localhost:8080/"
        },
        "id": "7wv6Y9EsW1qD",
        "outputId": "f34e6738-a38e-42dc-c40b-af25f1958ef2"
      },
      "execution_count": 26,
      "outputs": [
        {
          "output_type": "stream",
          "name": "stdout",
          "text": [
            "49\n"
          ]
        }
      ]
    },
    {
      "cell_type": "code",
      "source": [
        "# This code assigns the value of variable radius to variable r and calculates the area of a circle with radius r\n",
        "radius = 5\n",
        "r = radius\n",
        "area = 3.14 * r ** 2\n",
        "print(area)"
      ],
      "metadata": {
        "colab": {
          "base_uri": "https://localhost:8080/"
        },
        "id": "suFLHAoUWtvi",
        "outputId": "25f1e864-f7cc-4ea4-d30d-08dfe96543a6"
      },
      "execution_count": 25,
      "outputs": [
        {
          "output_type": "stream",
          "name": "stdout",
          "text": [
            "78.5\n"
          ]
        }
      ]
    },
    {
      "cell_type": "code",
      "source": [
        "# This code assigns the value of variable x to variable y and calculates the cube of y\n",
        "x = 4\n",
        "y = x\n",
        "cube = y ** 3\n",
        "print(cube)"
      ],
      "metadata": {
        "colab": {
          "base_uri": "https://localhost:8080/"
        },
        "id": "UhUbZAY5XBJP",
        "outputId": "edd0af99-71f7-446f-a976-803336120105"
      },
      "execution_count": 27,
      "outputs": [
        {
          "output_type": "stream",
          "name": "stdout",
          "text": [
            "64\n"
          ]
        }
      ]
    },
    {
      "cell_type": "code",
      "source": [
        "# This code assigns the value of the swap of two variables with third variable and prints it\n",
        "a = 5\n",
        "\n",
        "b = 7\n",
        "temp = a\n",
        "a = b\n",
        "b = temp\n",
        "print(\"a =\", a)\n",
        "print(\"b =\", b)\n"
      ],
      "metadata": {
        "colab": {
          "base_uri": "https://localhost:8080/"
        },
        "id": "ovY919vBXEEc",
        "outputId": "5b103d82-b1f0-489f-bc44-29dabea8fc37"
      },
      "execution_count": 28,
      "outputs": [
        {
          "output_type": "stream",
          "name": "stdout",
          "text": [
            "a = 7\n",
            "b = 5\n"
          ]
        }
      ]
    },
    {
      "cell_type": "code",
      "source": [
        "# This code assigns the value of the swap of two variables without third variable and prints it\n",
        "x = 10\n",
        "y = 5\n",
        "x, y = y, x\n",
        "print(\"x =\", x)\n",
        "print(\"y =\", y)"
      ],
      "metadata": {
        "colab": {
          "base_uri": "https://localhost:8080/"
        },
        "id": "2niR-eo-XYPJ",
        "outputId": "799e6b5e-4532-48e3-ebec-d2632cc0a2dd"
      },
      "execution_count": 30,
      "outputs": [
        {
          "output_type": "stream",
          "name": "stdout",
          "text": [
            "x = 5\n",
            "y = 10\n"
          ]
        }
      ]
    },
    {
      "cell_type": "code",
      "source": [
        "# This code assigns the value of the  of two variables without third variable and prints it\n",
        "a = 15\n",
        "b = 20\n",
        "a = a + b\n",
        "b = a - b\n",
        "a = a - b\n",
        "print(\"a =\", a)\n",
        "print(\"b =\", b)"
      ],
      "metadata": {
        "colab": {
          "base_uri": "https://localhost:8080/"
        },
        "id": "kRZLsHJJXflf",
        "outputId": "4d33f150-8f2c-4e9f-9dc6-82dfff59b33c"
      },
      "execution_count": 31,
      "outputs": [
        {
          "output_type": "stream",
          "name": "stdout",
          "text": [
            "a = 20\n",
            "b = 15\n"
          ]
        }
      ]
    },
    {
      "cell_type": "code",
      "source": [
        "# This code assigns the value of the swap of two variables without third variable and prints it\n",
        "x = 8\n",
        "y = 3\n",
        "x = x ^ y\n",
        "y = x ^ y\n",
        "x = x ^ y\n",
        "print(\"x =\", x)\n",
        "print(\"y =\", y)"
      ],
      "metadata": {
        "colab": {
          "base_uri": "https://localhost:8080/"
        },
        "id": "DL5D6R35XrOY",
        "outputId": "d7bf550b-9057-4443-98b4-a67735aa32a8"
      },
      "execution_count": 32,
      "outputs": [
        {
          "output_type": "stream",
          "name": "stdout",
          "text": [
            "x = 3\n",
            "y = 8\n"
          ]
        }
      ]
    },
    {
      "cell_type": "code",
      "source": [
        "# This code assigns the value of the 2 variable and calculate integer division\n",
        "a = 25\n",
        "b = 4\n",
        "integer_division = a // b\n",
        "print(integer_division)"
      ],
      "metadata": {
        "colab": {
          "base_uri": "https://localhost:8080/"
        },
        "id": "mgUn59OoXwNh",
        "outputId": "7c105b82-4673-4715-f3c8-d289bd1b161d"
      },
      "execution_count": 33,
      "outputs": [
        {
          "output_type": "stream",
          "name": "stdout",
          "text": [
            "6\n"
          ]
        }
      ]
    },
    {
      "cell_type": "code",
      "source": [
        "# This code assigns the value of the 2 variable and calculate float division\n",
        "c = 25\n",
        "d = 4\n",
        "float_division = c / d\n",
        "print(float_division)"
      ],
      "metadata": {
        "colab": {
          "base_uri": "https://localhost:8080/"
        },
        "id": "koPtDV6dYELC",
        "outputId": "59d4b6d0-7e88-40af-fde1-18defebad5ed"
      },
      "execution_count": 34,
      "outputs": [
        {
          "output_type": "stream",
          "name": "stdout",
          "text": [
            "6.25\n"
          ]
        }
      ]
    }
  ]
}