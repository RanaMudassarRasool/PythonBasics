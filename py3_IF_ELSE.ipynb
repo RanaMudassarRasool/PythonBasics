{
  "nbformat": 4,
  "nbformat_minor": 0,
  "metadata": {
    "colab": {
      "provenance": [],
      "authorship_tag": "ABX9TyMliFzBUMgFWRmg5yK6sDt0",
      "include_colab_link": true
    },
    "kernelspec": {
      "name": "python3",
      "display_name": "Python 3"
    },
    "language_info": {
      "name": "python"
    }
  },
  "cells": [
    {
      "cell_type": "markdown",
      "metadata": {
        "id": "view-in-github",
        "colab_type": "text"
      },
      "source": [
        "<a href=\"https://colab.research.google.com/github/ranamaddy/PythonBasics/blob/main/py3_IF_ELSE.ipynb\" target=\"_parent\"><img src=\"https://colab.research.google.com/assets/colab-badge.svg\" alt=\"Open In Colab\"/></a>"
      ]
    },
    {
      "cell_type": "markdown",
      "source": [
        "# **conditional statements **\n",
        "\n",
        "In Python, conditional statements are used to execute different code based on different conditions. The most commonly used conditional statement is the if statement"
      ],
      "metadata": {
        "id": "WCxv8kFTf2dZ"
      }
    },
    {
      "cell_type": "markdown",
      "source": [
        "Basic if else  statement "
      ],
      "metadata": {
        "id": "x4wtV83_gGer"
      }
    },
    {
      "cell_type": "code",
      "execution_count": null,
      "metadata": {
        "colab": {
          "base_uri": "https://localhost:8080/"
        },
        "id": "0kZyQMf0fjWg",
        "outputId": "37844681-29be-4ba7-d032-70fcc0dd5060"
      },
      "outputs": [
        {
          "output_type": "stream",
          "name": "stdout",
          "text": [
            "The number is positive\n"
          ]
        }
      ],
      "source": [
        "#Basic if statement to check if a number is positive or negative\n",
        "num = 4\n",
        "if num > 0:\n",
        "    print(\"The number is positive\")\n",
        "elif num == 0:\n",
        "    print(\"The number is zero\")\n",
        "else:\n",
        "    print(\"The number is negative\")"
      ]
    },
    {
      "cell_type": "code",
      "source": [
        "# number and check its even of odd\n",
        "num = 7\n",
        "if num % 2 == 0:\n",
        "    print(\"The number is even\")\n",
        "else:\n",
        "    print(\"The number is odd\")"
      ],
      "metadata": {
        "colab": {
          "base_uri": "https://localhost:8080/"
        },
        "id": "F1nYTy_-gZc_",
        "outputId": "7b0f0adf-780a-4d48-e35e-a4fd3f02b093"
      },
      "execution_count": null,
      "outputs": [
        {
          "output_type": "stream",
          "name": "stdout",
          "text": [
            "The number is odd\n"
          ]
        }
      ]
    },
    {
      "cell_type": "code",
      "source": [
        "# check if a string is palindrome or not\n",
        "string = \"racecar\"\n",
        "if string == string[::-1]:\n",
        "    print(\"The string is a palindrome\")\n",
        "else:\n",
        "    print(\"The string is not a palindrome\")"
      ],
      "metadata": {
        "colab": {
          "base_uri": "https://localhost:8080/"
        },
        "id": "W3uCwRATgo5y",
        "outputId": "4e42474e-5e81-4ab7-ea73-e80e435e6a3f"
      },
      "execution_count": null,
      "outputs": [
        {
          "output_type": "stream",
          "name": "stdout",
          "text": [
            "The string is a palindrome\n"
          ]
        }
      ]
    },
    {
      "cell_type": "code",
      "source": [
        "# check 2 number of equal or not \n",
        "num1 = 5\n",
        "num2 = 7\n",
        "if num1 == num2:\n",
        "    print(\"The numbers are equal\")\n",
        "else:\n",
        "    print(\"The numbers are not equal\")"
      ],
      "metadata": {
        "colab": {
          "base_uri": "https://localhost:8080/"
        },
        "id": "Fu-jd6PygucX",
        "outputId": "b1eac1fd-e18d-4bce-862b-5e866d409c66"
      },
      "execution_count": null,
      "outputs": [
        {
          "output_type": "stream",
          "name": "stdout",
          "text": [
            "The numbers are not equal\n"
          ]
        }
      ]
    },
    {
      "cell_type": "code",
      "source": [
        "# check if a year is a leap year or not\n",
        "year = 2020\n",
        "if year % 4 == 0:\n",
        "    if year % 100 == 0:\n",
        "        if year % 400 == 0:\n",
        "            print(\"The year is a leap year\")\n",
        "        else:\n",
        "            print(\"The year is not a leap year\")\n",
        "    else:\n",
        "        print(\"The year is a leap year\")\n",
        "else:\n",
        "    print(\"The year is not a leap year\")"
      ],
      "metadata": {
        "colab": {
          "base_uri": "https://localhost:8080/"
        },
        "id": "6DbCBwh0g0xA",
        "outputId": "36fd422f-886b-419b-882c-cc9828927677"
      },
      "execution_count": null,
      "outputs": [
        {
          "output_type": "stream",
          "name": "stdout",
          "text": [
            "The year is a leap year\n"
          ]
        }
      ]
    },
    {
      "cell_type": "code",
      "source": [
        "#Five numbers’ find Maximum value with if.\n",
        "num1 = 10\n",
        "\n",
        "num2 = 20\n",
        "num3 = 30\n",
        "num4 = 40\n",
        "num5 = 50\n",
        "max_num = num1\n",
        "\n",
        "if num2 > max_num:\n",
        "    max_num = num2\n",
        "if num3 > max_num:\n",
        "    max_num = num3\n",
        "if num4 > max_num:\n",
        "    max_num = num4\n",
        "if num5 > max_num:\n",
        "    max_num = num5\n",
        "print(\"The maximum number is:\", max_num)\n"
      ],
      "metadata": {
        "colab": {
          "base_uri": "https://localhost:8080/"
        },
        "id": "MCEhoSUkhPZz",
        "outputId": "ebb7cecd-12bf-4298-c80b-054eef2301cf"
      },
      "execution_count": null,
      "outputs": [
        {
          "output_type": "stream",
          "name": "stdout",
          "text": [
            "The maximum number is: 50\n"
          ]
        }
      ]
    },
    {
      "cell_type": "code",
      "source": [
        "#Five numbers’ find Minimum value with if.\n",
        "num1 = 10\n",
        "num2 = 20\n",
        "num3 = 30\n",
        "num4 = 40\n",
        "num5 = 50\n",
        "min_num = num1\n",
        "if num2 < min_num:\n",
        "    min_num = num2\n",
        "if num3 < min_num:\n",
        "    min_num = num3\n",
        "if num4 < min_num:\n",
        "    min_num = num4\n",
        "if num5 < min_num:\n",
        "    min_num = num5\n",
        "print(\"The minimum number is:\", min_num)"
      ],
      "metadata": {
        "colab": {
          "base_uri": "https://localhost:8080/"
        },
        "id": "IL9sxTh7hwr0",
        "outputId": "37989c25-4bb8-4a33-838b-562b7808d26b"
      },
      "execution_count": null,
      "outputs": [
        {
          "output_type": "stream",
          "name": "stdout",
          "text": [
            "The minimum number is: 10\n"
          ]
        }
      ]
    },
    {
      "cell_type": "code",
      "source": [
        "#number is Positive or Negative check \n",
        "num = -7\n",
        "\n",
        "if num >= 0:\n",
        "    print(\"The number is positive\")\n",
        "else:\n",
        "    print(\"The number is negative\")\n"
      ],
      "metadata": {
        "colab": {
          "base_uri": "https://localhost:8080/"
        },
        "id": "7RsRpELShk9E",
        "outputId": "5cfd77c3-db3d-424a-ab56-4880104b59c1"
      },
      "execution_count": null,
      "outputs": [
        {
          "output_type": "stream",
          "name": "stdout",
          "text": [
            "The number is negative\n"
          ]
        }
      ]
    },
    {
      "cell_type": "code",
      "source": [
        "#two number and a operator perform function against the operator using if else \n",
        "num1 = 10\n",
        "num2 = 5\n",
        "operator = \"+\"\n",
        "if operator == \"+\":\n",
        "    print(num1 + num2)\n",
        "elif operator == \"-\":\n",
        "    print(num1 - num2)\n",
        "elif operator == \"*\":\n",
        "    print(num1 * num2)\n",
        "elif operator == \"/\":\n",
        "    print(num1 / num2)\n",
        "else:\n",
        "    print(\"Invalid operator\")"
      ],
      "metadata": {
        "colab": {
          "base_uri": "https://localhost:8080/"
        },
        "id": "3SC4kZP_h5_2",
        "outputId": "f0243bd1-0943-4300-e353-3e5a1157f1b6"
      },
      "execution_count": null,
      "outputs": [
        {
          "output_type": "stream",
          "name": "stdout",
          "text": [
            "15\n"
          ]
        }
      ]
    },
    {
      "cell_type": "code",
      "source": [
        "#day number and display the day name against the day number using if else\n",
        "day_num = 3\n",
        "if day_num == 1:\n",
        "    print(\"Monday\")\n",
        "elif day_num == 2:\n",
        "    print(\"Tuesday\")\n",
        "elif day_num == 3:\n",
        "    print(\"Wednesday\")\n",
        "elif day_num == 4:\n",
        "    print(\"Thursday\")\n",
        "elif day_num == 5:\n",
        "    print(\"Friday\")\n",
        "elif day_num == 6:\n",
        "    print(\"Saturday\")\n",
        "elif day_num == 7:\n",
        "    print(\"Sunday\")\n",
        "else:\n",
        "    print(\"Invalid day number\")"
      ],
      "metadata": {
        "colab": {
          "base_uri": "https://localhost:8080/"
        },
        "id": "VCP9GxM-iQ7t",
        "outputId": "c0ab1aad-9583-415d-a46b-9e5bae3afaa2"
      },
      "execution_count": null,
      "outputs": [
        {
          "output_type": "stream",
          "name": "stdout",
          "text": [
            "Wednesday\n"
          ]
        }
      ]
    },
    {
      "cell_type": "code",
      "source": [
        "#character and check whether it is vowel or cononant using if else \n",
        "char = 'a'\n",
        "if char == 'a' or char == 'e' or char == 'i' or char == 'o' or char == 'u':\n",
        "    print(\"The character is a vowel\")\n",
        "else:\n",
        "    print(\"The character is a consonant\")"
      ],
      "metadata": {
        "colab": {
          "base_uri": "https://localhost:8080/"
        },
        "id": "AhdnSPhWimgL",
        "outputId": "adfdfd04-474d-47eb-a2a2-cf95b1ef19d9"
      },
      "execution_count": null,
      "outputs": [
        {
          "output_type": "stream",
          "name": "stdout",
          "text": [
            "The character is a vowel\n"
          ]
        }
      ]
    },
    {
      "cell_type": "code",
      "source": [
        "#character and check whether it is vowel or cononant using if else with out logical operator\n",
        "char = 'e'\n",
        "if char == 'a':\n",
        "    print(\"The character is a vowel\")\n",
        "elif char == 'e':\n",
        "    print(\"The character is a vowel\")\n",
        "elif char == 'i':\n",
        "    print(\"The character is a vowel\")\n",
        "elif char == 'o':\n",
        "    print(\"The character is a vowel\")\n",
        "elif char == 'u':\n",
        "    print(\"The character is a vowel\")\n",
        "    "
      ],
      "metadata": {
        "colab": {
          "base_uri": "https://localhost:8080/"
        },
        "id": "rZnQFIkHivS3",
        "outputId": "528ca8c5-9754-4a91-f011-978fc911349f"
      },
      "execution_count": null,
      "outputs": [
        {
          "output_type": "stream",
          "name": "stdout",
          "text": [
            "The character is a vowel\n"
          ]
        }
      ]
    },
    {
      "cell_type": "code",
      "source": [
        "# Check if a number is numberor capital latter or small latter  or special syambol using logical operator\n",
        "num = '5'\n",
        "\n",
        "if num >= '0' and num <= '9':\n",
        "    print(\"The input is a number\")\n",
        "elif num >= 'A' and num <= 'Z':\n",
        "    print(\"The input is a capital letter\")\n",
        "elif num >= 'a' and num <= 'z':\n",
        "    print(\"The input is a small letter\")\n",
        "else:\n",
        "    print(\"The input is a specialsymbol\")\n"
      ],
      "metadata": {
        "id": "rmvhTEoei3mn",
        "colab": {
          "base_uri": "https://localhost:8080/"
        },
        "outputId": "06166d59-debb-4b47-8812-b5e002e92f74"
      },
      "execution_count": 17,
      "outputs": [
        {
          "output_type": "stream",
          "name": "stdout",
          "text": [
            "The input is a number\n"
          ]
        }
      ]
    },
    {
      "cell_type": "code",
      "source": [
        "#Write a  program using if-else if statements for following requirement: User enters total marks and project mark in course then \n",
        "#if Total marks or project mark is greater than 90 then you should print grade as A Total marks is greater than 80 and less than above \n",
        "#condition print grade as B Total marks is greater than 70 and less than above condition print grade as C Total marks is greater than or equal to 60 and less\n",
        "# than above condition print grade Total marks less than 60 print grade as F\n",
        "total_marks = int(input(\"Enter total marks: \"))\n",
        "project_mark = int(input(\"Enter project mark: \")) \n",
        "if total_marks > 90 or project_mark > 90:\n",
        "    print(\"Grade: A\")\n",
        "elif total_marks > 80:\n",
        "    print(\"Grade: B\")\n",
        "elif total_marks > 70:\n",
        "    print(\"Grade: C\")\n",
        "elif total_marks >= 60:\n",
        "    print(\"Grade: D\")\n",
        "else:\n",
        "    print(\"Grade: F\")"
      ],
      "metadata": {
        "id": "Lo1uNDILldxv"
      },
      "execution_count": null,
      "outputs": []
    },
    {
      "cell_type": "code",
      "source": [
        "#Write an if-else statement for the following: If numDifference is less than -20, execute totalDifference = -25. Else, execute totalDifference = numDifference.\n",
        "\n",
        "if numDifference < -20:\n",
        "    totalDifference = -25\n",
        "else:\n",
        "    totalDifference = numDifference"
      ],
      "metadata": {
        "id": "H2kpbVQul7zC"
      },
      "execution_count": null,
      "outputs": []
    },
    {
      "cell_type": "code",
      "source": [
        "#Write a program that prompts a user to enter the month and year and displays the number of days in the month.\n",
        "#For example, if the user enters month 2 and year 2012, the program should display “February 2012 had 29 days.” \n",
        "#If the user enters month 3 and year 2015, the program should display \"March 2015 had 31 days.\" \n",
        "#(Hint: You need to consider if the given year is a leap year.) Sample Run for Exercise03_09 Enter input data for the program (Sample data provided below. You may modify it.) \n",
        "#2 2016 Show the Sample Output Using the Preceeding Input Reset command>Exercise03_09 Enter a month in the year (e.g., 1 for Jan): \n",
        "#2 Enter a year: 2016 February 2016 has 29 days command>\n",
        "month = int(input(\"Enter a month in the year (e.g., 1 for Jan): \"))\n",
        "year = int(input(\"Enter a year: \"))\n",
        "if month == 2:\n",
        "    if year % 4 == 0 and (year % 100 != 0 or year % 400 == 0):\n",
        "        days = 29\n",
        "    else:\n",
        "        days = 28\n",
        "elif month in [4, 6, 9, 11]:\n",
        "    days = 30\n",
        "else:\n",
        "    days = 31\n",
        "print(f\"{month} {year} had {days} days.\")"
      ],
      "metadata": {
        "colab": {
          "base_uri": "https://localhost:8080/"
        },
        "id": "JMItqzD1noEF",
        "outputId": "2e054b58-10c6-4bc3-f199-7596f65936b2"
      },
      "execution_count": 19,
      "outputs": [
        {
          "output_type": "stream",
          "name": "stdout",
          "text": [
            "Enter a month in the year (e.g., 1 for Jan): 1\n",
            "Enter a year: 1991\n",
            "1 1991 had 31 days.\n"
          ]
        }
      ]
    },
    {
      "cell_type": "code",
      "source": [
        "#Write if-else if statements(not complete program just the if-else statements) that will compare \"price\" variable with below values and \n",
        "#output statements based on the conditions (3 Marks] price>=500: \"Extremely Expensive\" price >=300: \"Very Expensive\" price >= 100: \"Reasonable price\n",
        "price = int(input(\"Enter the price: \"))\n",
        "if price >= 500:\n",
        "    print(\"Extremely Expensive\")\n",
        "elif price >= 300:\n",
        "    print(\"Very Expensive\")\n",
        "elif price >= 100:\n",
        "    print(\"Reasonable price\")\n",
        "else:\n",
        "    print(\"Cheap\")\n"
      ],
      "metadata": {
        "id": "qB5JvqU-oNKb"
      },
      "execution_count": null,
      "outputs": []
    },
    {
      "cell_type": "code",
      "source": [
        "#program that contains if-else statements. Compiling and executing a Java program. Employees at the WonderCookie company earn the basic hourly wage of $8.25. They also receive 1.5 times their hourly wage if they work overtime (i.e., more than 40 hours a week). Furthermore, the employees earn a commission based on the sales they generate while working at the counter. The commission of an employee at the WonderCookie company is calculated using the following table: \n",
        "#Write a program that inputs (1) the number of hours and (2) the sales they generated to compute the weekly wages of an employee in the WonderCookie company A sample I/O of your program could be the following\n",
        "hours = float(input(\"Enter the number of hours worked: \"))\n",
        "\n",
        "sales = float(input(\"Enter the sales generated: \"))\n",
        "# Calculate the basic wage\n",
        "\n",
        "basic_wage = 8.25 * hours\n",
        "if hours > 40:\n",
        "\n",
        "    overtime_hours = hours - 40\n",
        "    overtime_pay = overtime_hours * (8.25 * 1.5)\n",
        "    basic_wage += overtime_pay\n",
        "# Calculate the commission based on sales generated\n",
        "if sales < 1000:\n",
        "\n",
        "    \n",
        "    commission = 0.05 * sales\n",
        "    \n",
        "elif sales < 5000:\n",
        "    \n",
        "    commission = 0.10 * sales\n",
        "    \n",
        "else:\n",
        "    \n",
        "    commission = 0.15 * sales\n",
        "# Calculate the total weekly wage\n",
        "total_wage = basic_wage + commission\n",
        "\n",
        "print(\"The total weekly wage is: $\", format(total_wage, \".2f\"))\n",
        "\n"
      ],
      "metadata": {
        "id": "rB8U0IbpozXE"
      },
      "execution_count": null,
      "outputs": []
    },
    {
      "cell_type": "code",
      "source": [
        "# Write the if statement syntax. 2) Use TWO if statements to write a  program that checks whether the entered value by a user is\n",
        "#greater than 100 or less than or equal to 100. (Hint use: * > 100 and x < 100) 3) Use an if-else statement to write a Matlab program \n",
        "#that checks whether the entered value by a user is greater than 100 or less than or equal to 100.(Hint user x > 100 and x <100) 4)\n",
        "# Use a nested if statement to write a program that checks the student's grade. That is, the program asks the user to enter a random number \n",
        "#and does the following: . If the entered grade is greater than a 100, the program prints out that \"The entered grade is invalid > 100\" \n",
        "#• If the entered grade is between 90 and 100, the program prints out that \"Your grade is A . \n",
        "#If the entered grade is greater than or equal to 80 and less than 90, the program prints out that \"Your grade is - \n",
        "#• If the entered grade is greater than or equal to 70 and less than 80, the program prints out that \"Your grade is C • \n",
        "#If the entered grade is greater than or equal to 60 and less than 70, the program prints out that \"Your grade is D . \n",
        "#If the entered grade is greater than or equal to O and less than 60, the program prints out that \"Your grade is p . \n",
        "#Otherwise, the program prints out that \"The entered grade is invalid <0\"\n",
        "grade = int(input(\"Enter your grade: \"))\n",
        "if grade > 100:\n",
        "\n",
        "    print(\"The entered grade is invalid > 100\")\n",
        "elif grade >= 90:\n",
        "    print(\"Your grade is A\")\n",
        "elif grade >= 80:\n",
        "    print(\"Your grade is B\")\n",
        "elif grade >= 70:\n",
        "    print(\"Your grade is C\")\n",
        "elif grade >= 60:\n",
        "    print(\"Your grade is D\")\n",
        "elif grade >= 0:\n",
        "    print(\"Your grade is F\")\n",
        "\n",
        "else:\n",
        "    print(\"The entered grade is invalid <0\")\n",
        "\n"
      ],
      "metadata": {
        "id": "edRvtRQbqH9Y"
      },
      "execution_count": null,
      "outputs": []
    },
    {
      "cell_type": "markdown",
      "source": [
        "2nd way"
      ],
      "metadata": {
        "id": "8K11HQcgrDoH"
      }
    },
    {
      "cell_type": "code",
      "source": [
        "num = int(input(\"Enter your grade: \"))\n",
        "if num > 100:\n",
        "    print(\"The entered grade is invalid > 100\")\n",
        "else:\n",
        "    if num >= 90 and num <= 100:\n",
        "        print(\"Your grade is A\")\n",
        "    elif num >= 80 and num < 90:\n",
        "        print(\"Your grade is B\")\n",
        "    elif num >= 70 and num < 80:\n",
        "        print(\"Your grade is C\")\n",
        "    elif num >= 60 and num < 70:\n",
        "        print(\"Your grade is D\")\n",
        "    elif num >= 0 and num < 60:\n",
        "        print(\"Your grade is F\")\n",
        "    else:\n",
        "        print(\"The entered grade is invalid <0\")"
      ],
      "metadata": {
        "id": "u4ubBxlUrAF8"
      },
      "execution_count": null,
      "outputs": []
    },
    {
      "cell_type": "code",
      "source": [],
      "metadata": {
        "id": "fCpv7cQHrVzY"
      },
      "execution_count": null,
      "outputs": []
    }
  ]
}