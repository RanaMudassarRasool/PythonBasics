{
  "nbformat": 4,
  "nbformat_minor": 0,
  "metadata": {
    "colab": {
      "provenance": [],
      "authorship_tag": "ABX9TyP9raNdYpCpJlZkhnJFk9Nf",
      "include_colab_link": true
    },
    "kernelspec": {
      "name": "python3",
      "display_name": "Python 3"
    },
    "language_info": {
      "name": "python"
    }
  },
  "cells": [
    {
      "cell_type": "markdown",
      "metadata": {
        "id": "view-in-github",
        "colab_type": "text"
      },
      "source": [
        "<a href=\"https://colab.research.google.com/github/ranamaddy/PythonBasics/blob/main/Lesson_1_Introduction_to_Python.ipynb\" target=\"_parent\"><img src=\"https://colab.research.google.com/assets/colab-badge.svg\" alt=\"Open In Colab\"/></a>"
      ]
    },
    {
      "cell_type": "markdown",
      "source": [
        "# Lesson 1: Introduction to Python\n",
        " - Overview of the course and its objectives\n",
        " - Introduction to programming concepts\n",
        " - Setting up the Python environment (installing Python, text editor/IDE)\n",
        " - Writing and executing your first Python program\n",
        " - Basic syntax and structure of Python code\n",
        " - Variables, data types, and basic operations"
      ],
      "metadata": {
        "id": "fsEmACROUAI7"
      }
    },
    {
      "cell_type": "markdown",
      "source": [
        "# History\n",
        "\n",
        "Python was created by Guido van Rossum and was first released in 1991. Guido van Rossum, a Dutch programmer, designed Python as a general-purpose programming language with a focus on code readability and simplicity. He aimed to create a language that would be easy to understand and write, emphasizing clear and concise code syntax.\n",
        "\n",
        "The name \"Python\" was inspired by Guido's love for the British comedy series \"Monty Python's Flying Circus.\" He wanted a short, unique, and slightly mysterious name for his new programming language.\n",
        "\n",
        "Python gained popularity steadily over the years due to its simplicity, readability, and versatility. Its design philosophy emphasizes the importance of code readability, which is reflected in its use of whitespace indentation to define code blocks instead of using braces or keywords. This approach helps make Python code highly readable and reduces the potential for errors.\n",
        "\n",
        "One of Python's significant advantages is its extensive standard library, which provides a wide range of pre-built modules and functions for various tasks, such as working with files, networking, and handling data structures.\n",
        "\n",
        "Python's popularity surged further with the emergence of web development frameworks such as Django and Flask, which made it easier to build web applications using Python.\n",
        "\n",
        "Another factor contributing to Python's widespread adoption was its suitability for data science and machine learning. Libraries like NumPy, Pandas, and TensorFlow made Python a go-to language for data analysis, scientific computing, and artificial intelligence.\n",
        "\n",
        "Python has evolved over time with regular updates and releases. The two major versions of Python in use today are Python 2 and Python 3. Python 2.x was the dominant version for many years, but Python 3.x introduced significant improvements and changes. Python 2.x is now considered legacy and is gradually being phased out in favor of Python 3.x.\n",
        "\n",
        "Python has become one of the most popular programming languages worldwide and is widely used in various domains, including web development, data analysis, artificial intelligence, scientific computing, and more.\n",
        "\n",
        "That's a brief overview of the history of Python! If you have any specific questions or would like to know more, feel free to ask."
      ],
      "metadata": {
        "id": "SWei11VsUaUn"
      }
    },
    {
      "cell_type": "markdown",
      "source": [
        "# Overview of the course and its objectives\n",
        "As a beginner's course, \"Introduction to Coding in Python\" aims to provide you with a solid foundation in programming using the Python language. The course is designed for individuals who have little to no prior coding experience. Here's a detailed overview of the course and its objectives:\n",
        "\n",
        "**Course Overview:**\n",
        "\n",
        "  The course is structured to introduce you to the fundamental concepts of programming and teach you how to write code in Python. Python is an excellent language for beginners due to its simplicity and readability. Throughout the course, you will learn the core concepts and syntax of Python, as well as good programming practices.\n",
        "\n",
        "**Course Objectives:**\n",
        "By the end of the course, you should be able to:\n",
        "\n",
        "1. Understand the basic principles of programming and computational thinking.\n",
        "2. Write Python programs to solve simple problems and automate tasks.\n",
        "3. Comprehend the fundamental data types in Python and perform operations on them.\n",
        "4. Use control flow structures such as conditional statements and loops to make decisions and repeat tasks.\n",
        "5. Define and use functions to organize your code and perform reusable tasks.\n",
        "6. Work with common data structures like lists, tuples, and dictionaries.\n",
        "7. Read from and write to files using Python.\n",
        "8. Understand the concept of errors and exceptions and handle them appropriately.\n",
        "9. Get started with object-oriented programming (OOP) and understand the basic principles.\n",
        "10. Gain exposure to algorithms, complexity analysis, and basic data structures.\n",
        "\n"
      ],
      "metadata": {
        "id": "KiaJ1vfzUfjz"
      }
    },
    {
      "cell_type": "markdown",
      "source": [
        "# Teaching Methodology:\n",
        "The course will combine theory and practical exercises to help you grasp the concepts effectively. Each lesson will provide explanations of the topics, code examples, and hands-on exercises to reinforce your understanding. You'll have the opportunity to practice writing Python code and receive feedback on your progress.\n",
        "\n",
        "**Assessment and Progression:**\n",
        "Regular assessments, quizzes, or coding exercises may be included throughout the course to assess your understanding and progress. These assessments are designed to reinforce your learning and identify areas that may require additional attention.\n",
        "\n",
        "**Support and Interaction:**\n",
        "As your instructor, I'll be available to answer your questions and provide clarifications throughout the course. Don't hesitate to ask for help or seek further explanation on any topic.\n",
        "\n",
        "By the end of this course, you'll have a solid understanding of Python programming concepts, enabling you to pursue more advanced topics or apply your skills in various domains.\n",
        "\n",
        "Now that you have an overview of the course and its objectives, let's dive into the first lesson, \"Introduction to Python.\" If you're ready, we can begin exploring the basics of Python programming."
      ],
      "metadata": {
        "id": "UVpWVAQoU_o5"
      }
    },
    {
      "cell_type": "markdown",
      "source": [
        "# Introduction to programming concepts\n",
        "\n",
        "Programming is the process of writing instructions for a computer to follow in order to perform specific tasks. It involves breaking down a problem into smaller, manageable steps and providing a sequence of instructions that a computer can execute.\n",
        "\n",
        "Here are some key programming concepts to help you understand the fundamentals:\n",
        "\n",
        "1. **Algorithms:**\n",
        " An algorithm is a step-by-step procedure or a set of rules for solving a specific problem. It serves as a blueprint for solving problems programmatically. Algorithms outline the logical flow and operations required to accomplish a task.\n",
        "\n",
        "2. **Variables:**\n",
        "Variables are containers used to store and manipulate data in a program. They have names and hold values of different types, such as numbers, text, or boolean (true/false) values. Variables allow you to store data temporarily or permanently, and their values can be updated or modified during program execution.\n",
        "\n",
        "3. **Control Flow:**\n",
        "Control flow refers to the order in which the instructions of a program are executed. It determines the path the program takes based on conditions and loops.\n",
        "\n",
        "4. **Conditional Statements:**\n",
        "Conditional statements allow you to make decisions in your program based on certain conditions. Common conditional statements include \"if,\" \"else if\" (elif), and \"else.\" They help your program execute different blocks of code based on whether specific conditions are true or false.\n",
        "\n",
        "5. **Loops**:\n",
        "Loops allow you to repeat a block of code multiple times. They help in executing the same set of instructions iteratively until a certain condition is met or for a specific number of iterations. The two primary loop types are \"for\" loops and \"while\" loops.\n",
        "\n",
        "6. **Functions**:\n",
        "Functions are reusable blocks of code that perform a specific task. They allow you to modularize your code and avoid repetition. Functions take inputs (called arguments or parameters), perform a set of operations, and may return a value as an output.\n",
        "\n",
        "7. **Data Structures:**\n",
        "Data structures are used to organize and store data efficiently. Common data structures include lists, tuples, dictionaries, and arrays. They provide different ways of representing and manipulating data, depending on the requirements of your program.\n",
        "\n",
        "These are just a few fundamental programming concepts that will form the building blocks of your coding journey. As you progress, you'll encounter additional concepts and techniques that will enhance your programming skills.\n",
        "\n",
        "It's important to note that learning programming is not just about memorizing syntax; it's about developing problem-solving skills and a logical mindset. Practice, experimentation, and hands-on coding exercises will help reinforce these concepts and deepen your understanding.\n",
        "\n",
        "Feel free to ask any questions you may have, and we'll be glad to assist you further!"
      ],
      "metadata": {
        "id": "uut6XINwVQpr"
      }
    },
    {
      "cell_type": "markdown",
      "source": [
        "# Writing and executing your first Python program\n",
        "\n",
        "**Write your Python code:**\n",
        "\n",
        "In the empty file, start by writing your Python code. As a beginner, let's begin with the classic \"Hello, World!\" program. Type the following line of code"
      ],
      "metadata": {
        "id": "-lE-iefKV85r"
      }
    },
    {
      "cell_type": "code",
      "execution_count": 1,
      "metadata": {
        "colab": {
          "base_uri": "https://localhost:8080/"
        },
        "id": "9oHKufMRTv2w",
        "outputId": "fce27d2b-2a2c-4e30-c860-4c068f3b0e8b"
      },
      "outputs": [
        {
          "output_type": "stream",
          "name": "stdout",
          "text": [
            "Hello, World!\n"
          ]
        }
      ],
      "source": [
        "print(\"Hello, World!\")\n"
      ]
    },
    {
      "cell_type": "markdown",
      "source": [
        "In this example, the **print**() function is used to display the string \"**Hello, World!**\" on the console. The **print**() function is a built-in Python function that outputs text or data to the console."
      ],
      "metadata": {
        "id": "U44rYLlCWRfC"
      }
    },
    {
      "cell_type": "markdown",
      "source": [
        "# Basic syntax and structure of Python code\n",
        "\n",
        "1. **Comments:**\n",
        "\n",
        "- Comments are lines of text that are not executed as code but provide explanations or notes to human readers.\n",
        "- In Python, comments start with the # symbol and continue until the end of the line.\n",
        "- Example:"
      ],
      "metadata": {
        "id": "h-Pw2gl1WtDK"
      }
    },
    {
      "cell_type": "code",
      "source": [
        "# This is a comment in Python\n"
      ],
      "metadata": {
        "id": "Vshwy6HnW6I5"
      },
      "execution_count": 2,
      "outputs": []
    },
    {
      "cell_type": "markdown",
      "source": [
        "2. **Statements:**\n",
        "\n",
        "- In Python, a statement is a complete instruction that performs a specific action.\n",
        "- Each statement typically ends with a newline character, indicating the end of the statement.\n",
        "- Example:"
      ],
      "metadata": {
        "id": "-JEFLlpVW9qo"
      }
    },
    {
      "cell_type": "code",
      "source": [
        "print(\"Hello, World!\")\n"
      ],
      "metadata": {
        "colab": {
          "base_uri": "https://localhost:8080/"
        },
        "id": "BGemQulXXCvB",
        "outputId": "8d3d7c20-c688-4cbe-83a2-9d90d6a364fe"
      },
      "execution_count": 3,
      "outputs": [
        {
          "output_type": "stream",
          "name": "stdout",
          "text": [
            "Hello, World!\n"
          ]
        }
      ]
    },
    {
      "cell_type": "markdown",
      "source": [
        "3. **Variables:**\n",
        "\n",
        " - Variables are used to store and manipulate data in a program.\n",
        " - In Python, variables are created by assigning a value to a name.\n",
        " - Variable names should follow certain rules, such as starting with a letter or underscore, and can contain letters, numbers, and underscores. They are case-sensitive.\n",
        " - Example:"
      ],
      "metadata": {
        "id": "fZ_tYB5kXJAI"
      }
    },
    {
      "cell_type": "code",
      "source": [
        "x = 10\n",
        "name = \"John\"\n"
      ],
      "metadata": {
        "id": "FTg_cVOsXP30"
      },
      "execution_count": 4,
      "outputs": []
    },
    {
      "cell_type": "markdown",
      "source": [
        "4. **Printing Output:**\n",
        "\n",
        " - The print() function is used to display text or variables on the console.\n",
        " - You can pass multiple arguments to the print() function, separating them with commas.\n",
        "- Example:"
      ],
      "metadata": {
        "id": "AIr1Re3EXTWz"
      }
    },
    {
      "cell_type": "code",
      "source": [
        "print(\"Hello, World!\")\n",
        "print(\"The value of x is:\", x)\n"
      ],
      "metadata": {
        "colab": {
          "base_uri": "https://localhost:8080/"
        },
        "id": "MQ7PrzX-XaV6",
        "outputId": "b648c256-9746-41fb-d0c2-2eff6c74cc86"
      },
      "execution_count": 5,
      "outputs": [
        {
          "output_type": "stream",
          "name": "stdout",
          "text": [
            "Hello, World!\n",
            "The value of x is: 10\n"
          ]
        }
      ]
    },
    {
      "cell_type": "markdown",
      "source": [
        "These are some of the basic syntax and structure elements you'll encounter in Python code. Understanding these concepts will help you write and read Python code effectively.\n",
        "\n",
        "Remember to use proper indentation and pay attention to the syntax rules to avoid errors.\n",
        "\n"
      ],
      "metadata": {
        "id": "qJktb-HFXd8_"
      }
    },
    {
      "cell_type": "markdown",
      "source": [
        "# Variables, data types, and basic operations\n",
        "\n",
        "1. **Variables:**\n",
        "\n",
        " - Variables are used to store and manipulate data in a program.\n",
        " - In Python, you can create a variable by assigning a value to a name using the equal sign (=).\n",
        "- Example:"
      ],
      "metadata": {
        "id": "4slqCacSXvFw"
      }
    },
    {
      "cell_type": "code",
      "source": [
        "x = 5\n",
        "name = \"John\"\n"
      ],
      "metadata": {
        "id": "-xZOFk9uX3Pk"
      },
      "execution_count": 6,
      "outputs": []
    },
    {
      "cell_type": "markdown",
      "source": [
        "2. **Data Types:**\n",
        "\n",
        "- Python has several built-in data types that represent different kinds of values.\n",
        "- Common data types include:\n",
        " - Integer: Represents whole numbers (e.g., 5, -10, 0).\n",
        " - Float: Represents decimal numbers (e.g., 3.14, -2.5).\n",
        " - String: Represents a sequence of characters enclosed in single or double quotes (e.g., \"Hello\", 'World').\n",
        " - Boolean: Represents either True or Fals\n",
        "- Example:"
      ],
      "metadata": {
        "id": "lHGRKseoX66N"
      }
    },
    {
      "cell_type": "code",
      "source": [
        "x = 5        # integer\n",
        "y = 3.14     # float\n",
        "name = \"John\"  # string\n",
        "is_true = True  # boolean\n"
      ],
      "metadata": {
        "id": "Oky1Hb3XYFpF"
      },
      "execution_count": 7,
      "outputs": []
    },
    {
      "cell_type": "markdown",
      "source": [
        "3. **Basic Operations:**\n",
        "\n",
        "- Python provides various operators to perform basic operations on different data types.\n",
        "\n",
        "- Arithmetic Operators:\n",
        "\n",
        " - Addition (+), Subtraction (-), Multiplication (*), Division (/), Exponentiation (**), Modulo (%).\n",
        "- Example:"
      ],
      "metadata": {
        "id": "gJAOf8U7YKbe"
      }
    },
    {
      "cell_type": "code",
      "source": [
        "x = 5\n",
        "y = 3\n",
        "\n",
        "addition = x + y       # 8\n",
        "subtraction = x - y    # 2\n",
        "multiplication = x * y # 15\n",
        "division = x / y       # 1.6666666666666667\n",
        "exponentiation = x ** y  # 125\n",
        "modulo = x % y         # 2\n"
      ],
      "metadata": {
        "id": "GsOqHQjVYTis"
      },
      "execution_count": 8,
      "outputs": []
    },
    {
      "cell_type": "markdown",
      "source": [
        "- String Operations:\n",
        "\n",
        " - Concatenation: Joining two strings together using the plus (+) operator.\n",
        "- Example:"
      ],
      "metadata": {
        "id": "3Hd8pCsnYe_y"
      }
    },
    {
      "cell_type": "code",
      "source": [
        "name1 = \"John\"\n",
        "name2 = \"Doe\"\n",
        "full_name = name1 + \" \" + name2  # \"John Doe\"\n",
        "print(full_name)"
      ],
      "metadata": {
        "colab": {
          "base_uri": "https://localhost:8080/"
        },
        "id": "QYMO-9j9YjpX",
        "outputId": "73fd7cdf-02bd-43e5-ab3d-df0eb202df43"
      },
      "execution_count": 10,
      "outputs": [
        {
          "output_type": "stream",
          "name": "stdout",
          "text": [
            "John Doe\n"
          ]
        }
      ]
    },
    {
      "cell_type": "markdown",
      "source": [
        "- Comparison Operators:\n",
        "\n",
        " - Comparison operators are used to compare values and return a boolean result (True or False).\n",
        "- Examples:"
      ],
      "metadata": {
        "id": "QZLtPNLvYrrU"
      }
    },
    {
      "cell_type": "code",
      "source": [
        "x = 5\n",
        "y = 3\n",
        "print(x > y)    # True\n",
        "print(x == y)   # False\n",
        "print(x != y)   # True\n"
      ],
      "metadata": {
        "colab": {
          "base_uri": "https://localhost:8080/"
        },
        "id": "U9b4uhtqYvQk",
        "outputId": "63fbd0b3-e7fe-4389-cbcb-fe055e0df731"
      },
      "execution_count": 11,
      "outputs": [
        {
          "output_type": "stream",
          "name": "stdout",
          "text": [
            "True\n",
            "False\n",
            "True\n"
          ]
        }
      ]
    },
    {
      "cell_type": "markdown",
      "source": [
        "- Assignment Operators:\n",
        "\n",
        " - Assignment operators are used to assign values to variables.\n",
        "- Examples:"
      ],
      "metadata": {
        "id": "xXfHowI5Yytq"
      }
    },
    {
      "cell_type": "code",
      "source": [
        "x = 5   # Assigning a value directly\n",
        "x += 1  # Incrementing x by 1, equivalent to x = x + 1\n",
        "x *= 2  # Multiplying x by 2, equivalent to x = x * 2\n"
      ],
      "metadata": {
        "id": "F_AsHV1ZY3Ti"
      },
      "execution_count": 12,
      "outputs": []
    },
    {
      "cell_type": "markdown",
      "source": [
        "These are the basics of variables, data types, and basic operations in Python. Understanding these concepts will allow you to store and manipulate different types of data in your programs."
      ],
      "metadata": {
        "id": "Q_7lPP_HY6l5"
      }
    },
    {
      "cell_type": "markdown",
      "source": [
        "# Examples "
      ],
      "metadata": {
        "id": "owRfkTLxZFmA"
      }
    },
    {
      "cell_type": "code",
      "source": [
        "a = 5\n",
        "b = 10\n",
        "print(a * b)"
      ],
      "metadata": {
        "colab": {
          "base_uri": "https://localhost:8080/"
        },
        "id": "43nZ15tUZJTV",
        "outputId": "6b6340b6-da17-4edc-d91c-8a5593ceb29f"
      },
      "execution_count": 13,
      "outputs": [
        {
          "output_type": "stream",
          "name": "stdout",
          "text": [
            "50\n"
          ]
        }
      ]
    },
    {
      "cell_type": "code",
      "source": [
        "\n",
        "# This code assigns the values 5 and 10 to variables a and b respectively, divides them and prints the result\n",
        "a = 5\n",
        "b = 10\n",
        "print(b / a)"
      ],
      "metadata": {
        "colab": {
          "base_uri": "https://localhost:8080/"
        },
        "id": "4S8-s-NyZNL9",
        "outputId": "22f863d4-9cb2-4853-d759-212edcc83d7f"
      },
      "execution_count": 14,
      "outputs": [
        {
          "output_type": "stream",
          "name": "stdout",
          "text": [
            "2.0\n"
          ]
        }
      ]
    },
    {
      "cell_type": "code",
      "source": [
        "# This code assigns the value of the sum of variables a, b, and c to variable total and prints it\n",
        "a = 2\n",
        "b = 4\n",
        "c = 6\n",
        "total = a + b + c\n",
        "print(total)"
      ],
      "metadata": {
        "colab": {
          "base_uri": "https://localhost:8080/"
        },
        "id": "SNrIYmjZZRyw",
        "outputId": "8394d8df-3dc3-4590-9b3a-4df8c98040f4"
      },
      "execution_count": 15,
      "outputs": [
        {
          "output_type": "stream",
          "name": "stdout",
          "text": [
            "12\n"
          ]
        }
      ]
    },
    {
      "cell_type": "code",
      "source": [
        "# This code assigns the value of variable x to variable y and calculates the cube of y\n",
        "x = 4\n",
        "y = x\n",
        "cube = y ** 3\n",
        "print(cube)"
      ],
      "metadata": {
        "colab": {
          "base_uri": "https://localhost:8080/"
        },
        "id": "joJj5I_KZWfm",
        "outputId": "d6d4d455-c68d-4ab5-fe9a-d5b1865144a2"
      },
      "execution_count": 16,
      "outputs": [
        {
          "output_type": "stream",
          "name": "stdout",
          "text": [
            "64\n"
          ]
        }
      ]
    },
    {
      "cell_type": "code",
      "source": [
        "# This code assigns the value of the swap of two variables with third variable and prints it\n",
        "a = 5\n",
        "\n",
        "b = 7\n",
        "temp = a\n",
        "a = b\n",
        "b = temp\n",
        "print(\"a =\", a)\n",
        "print(\"b =\", b)"
      ],
      "metadata": {
        "colab": {
          "base_uri": "https://localhost:8080/"
        },
        "id": "m7kGKzwEZd5F",
        "outputId": "1fc522e0-0bbb-4925-88a2-3a4c8f106c6e"
      },
      "execution_count": 17,
      "outputs": [
        {
          "output_type": "stream",
          "name": "stdout",
          "text": [
            "a = 7\n",
            "b = 5\n"
          ]
        }
      ]
    },
    {
      "cell_type": "markdown",
      "source": [
        "# input function\n",
        "In Python, the **input**() function is used to read input from the user via the keyboard. The input function takes a string as an argument, which is used as a prompt to ask the user for input. Here are ten examples of using the input() function in Python:"
      ],
      "metadata": {
        "id": "IumaWWQDZnnU"
      }
    },
    {
      "cell_type": "code",
      "source": [
        "#Asking the user for their name and printing a personalized message:\n",
        "name = input(\"What is your name? \")\n",
        "print(\"Hello, \" + name + \"! Welcome to our website.\")\n",
        "     "
      ],
      "metadata": {
        "colab": {
          "base_uri": "https://localhost:8080/"
        },
        "id": "6bRsFHnIZruh",
        "outputId": "30af6f87-15cc-4185-f9aa-dc52eb46d093"
      },
      "execution_count": 18,
      "outputs": [
        {
          "output_type": "stream",
          "name": "stdout",
          "text": [
            "What is your name? Rana Mudassar Rasool\n",
            "Hello, Rana Mudassar Rasool! Welcome to our website.\n"
          ]
        }
      ]
    },
    {
      "cell_type": "code",
      "source": [
        "#Calculating the area of a rectangle based on user input for length and width\n",
        "length = float(input(\"Enter the length of the rectangle: \"))\n",
        "width = float(input(\"Enter the width of the rectangle: \"))\n",
        "area = length * width\n",
        "print(\"The area of the rectangle is:\", area)"
      ],
      "metadata": {
        "colab": {
          "base_uri": "https://localhost:8080/"
        },
        "id": "yVzZmAsNZxAC",
        "outputId": "3b6c5b5e-93c7-4fcb-8ed6-f769d0e0bee5"
      },
      "execution_count": 20,
      "outputs": [
        {
          "output_type": "stream",
          "name": "stdout",
          "text": [
            "Enter the length of the rectangle: 11\n",
            "Enter the width of the rectangle: 12\n",
            "The area of the rectangle is: 132.0\n"
          ]
        }
      ]
    },
    {
      "cell_type": "code",
      "source": [
        "#Converting a temperature from Fahrenheit to Celsius based on user input\n",
        "fahrenheit = float(input(\"Enter the temperature in Fahrenheit: \"))\n",
        "celsius = (fahrenheit - 32) * 5/9\n",
        "print(\"The temperature in Celsius is:\", celsius)"
      ],
      "metadata": {
        "colab": {
          "base_uri": "https://localhost:8080/"
        },
        "id": "lgEKmu6AZ3ta",
        "outputId": "d24f6dec-cc3d-41b3-d6fe-19cee95ba410"
      },
      "execution_count": 21,
      "outputs": [
        {
          "output_type": "stream",
          "name": "stdout",
          "text": [
            "Enter the temperature in Fahrenheit: 12\n",
            "The temperature in Celsius is: -11.11111111111111\n"
          ]
        }
      ]
    },
    {
      "cell_type": "code",
      "source": [
        "#Calculating the volume of a cylinder based on user input for radius and height\n",
        "radius = float(input(\"Enter the radius of the cylinder: \"))\n",
        "height = float(input(\"Enter the height of the cylinder: \"))\n",
        "pi = 3.14159\n",
        "volume = pi * radius**2 * height\n",
        "print(\"The volume of the cylinder is:\", volume)"
      ],
      "metadata": {
        "colab": {
          "base_uri": "https://localhost:8080/"
        },
        "id": "92BmGGhzZ_Sf",
        "outputId": "156b1ba2-bccd-446d-e543-fd5ba0a13461"
      },
      "execution_count": 22,
      "outputs": [
        {
          "output_type": "stream",
          "name": "stdout",
          "text": [
            "Enter the radius of the cylinder: 12\n",
            "Enter the height of the cylinder: 13\n",
            "The volume of the cylinder is: 5881.05648\n"
          ]
        }
      ]
    },
    {
      "cell_type": "code",
      "source": [
        "#inpt second and covert in houre and minuts\n",
        "seconds = int(input(\"Enter the number of seconds: \"))\n",
        "hours = seconds // 3600\n",
        "seconds = seconds % 3600\n",
        "minutes = seconds // 60\n",
        "seconds = seconds % 60\n",
        "print(\"The equivalent time is:\", hours, \"hours,\", minutes, \"minutes, and\", seconds, \"seconds.\")"
      ],
      "metadata": {
        "colab": {
          "base_uri": "https://localhost:8080/"
        },
        "id": "iIw0iHCcaHV6",
        "outputId": "8730107d-3117-4f66-f8bc-d91e6597f442"
      },
      "execution_count": 23,
      "outputs": [
        {
          "output_type": "stream",
          "name": "stdout",
          "text": [
            "Enter the number of seconds: 78430\n",
            "The equivalent time is: 21 hours, 47 minutes, and 10 seconds.\n"
          ]
        }
      ]
    },
    {
      "cell_type": "code",
      "source": [
        "\n",
        "#input meter and convert into kilometers\n",
        "meters = float(input(\"Enter the length in meters: \"))\n",
        "kilometers = meters / 1000\n",
        "print(\"The length in kilometers is:\", kilometers)"
      ],
      "metadata": {
        "colab": {
          "base_uri": "https://localhost:8080/"
        },
        "id": "fSoH_tQkaOjj",
        "outputId": "88c500c0-d2db-481c-b783-cf80273a65e7"
      },
      "execution_count": 24,
      "outputs": [
        {
          "output_type": "stream",
          "name": "stdout",
          "text": [
            "Enter the length in meters: 1200\n",
            "The length in kilometers is: 1.2\n"
          ]
        }
      ]
    },
    {
      "cell_type": "code",
      "source": [
        "#input kilometer and convert into meters\n",
        "kilometers = float(input(\"Enter the length in kilometers: \"))\n",
        "meters = kilometers * 1000\n",
        "print(\"The length in meters is:\", meters)\n",
        "     "
      ],
      "metadata": {
        "colab": {
          "base_uri": "https://localhost:8080/"
        },
        "id": "DxLA3Wo-aTsi",
        "outputId": "2cd35897-6cbe-42c0-cd0e-2de522c36504"
      },
      "execution_count": 25,
      "outputs": [
        {
          "output_type": "stream",
          "name": "stdout",
          "text": [
            "Enter the length in kilometers: 1.2\n",
            "The length in meters is: 1200.0\n"
          ]
        }
      ]
    },
    {
      "cell_type": "code",
      "source": [
        "# input 2 numper and print of a^2+b^2\n",
        "num1 = float(input(\"Enter the first number: \"))\n",
        "num2 = float(input(\"Enter the second number: \"))\n",
        "result = num1**2 + num2**2\n",
        "print(\"The result of a^2 + b^2 is:\", result)"
      ],
      "metadata": {
        "colab": {
          "base_uri": "https://localhost:8080/"
        },
        "id": "CHtN2aAIaZLF",
        "outputId": "badac57b-c46f-4c68-c905-33c6f1348e55"
      },
      "execution_count": 26,
      "outputs": [
        {
          "output_type": "stream",
          "name": "stdout",
          "text": [
            "Enter the first number: 2\n",
            "Enter the second number: 3\n",
            "The result of a^2 + b^2 is: 13.0\n"
          ]
        }
      ]
    },
    {
      "cell_type": "code",
      "source": [
        "#calcualte of distance fomula \n",
        "# input the coordinates of two points and calculate the distance between them using distance formula\n",
        "x1 = float(input(\"Enter the x-coordinate of first point: \"))\n",
        "y1 = float(input(\"Enter the y-coordinate of first point: \"))\n",
        "x2 = float(input(\"Enter the x-coordinate of second point: \"))\n",
        "y2 = float(input(\"Enter the y-coordinate of second point: \"))\n",
        "distance = ((x2 - x1)**2 + (y2 - y1)**2)**0.5\n",
        "print(\"The distance between the two points is:\", distance)"
      ],
      "metadata": {
        "colab": {
          "base_uri": "https://localhost:8080/"
        },
        "id": "Sq5q-ZdpagD-",
        "outputId": "cb0872e7-7d21-40b9-b382-090b49ec283a"
      },
      "execution_count": 27,
      "outputs": [
        {
          "output_type": "stream",
          "name": "stdout",
          "text": [
            "Enter the x-coordinate of first point: 1\n",
            "Enter the y-coordinate of first point: 2\n",
            "Enter the x-coordinate of second point: 3\n",
            "Enter the y-coordinate of second point: 4\n",
            "The distance between the two points is: 2.8284271247461903\n"
          ]
        }
      ]
    },
    {
      "cell_type": "markdown",
      "source": [
        "# Basic Math function"
      ],
      "metadata": {
        "id": "UABdJx3OaoBm"
      }
    },
    {
      "cell_type": "code",
      "source": [
        "# calculate the  log \n",
        "# input a number and calculate its logarithm to base 10\n",
        "import math\n",
        "num = float(input(\"Enter a number: \"))\n",
        "logarithm = math.log10(num)\n",
        "print(\"The logarithm of the number to base 10 is:\", logarithm)\n",
        "     "
      ],
      "metadata": {
        "colab": {
          "base_uri": "https://localhost:8080/"
        },
        "id": "_y4vGvVUarw3",
        "outputId": "31868281-49b5-4e17-82a7-1f8fd62b4fbe"
      },
      "execution_count": 28,
      "outputs": [
        {
          "output_type": "stream",
          "name": "stdout",
          "text": [
            "Enter a number: 5\n",
            "The logarithm of the number to base 10 is: 0.6989700043360189\n"
          ]
        }
      ]
    },
    {
      "cell_type": "code",
      "source": [
        "#calculate of sin\n",
        "# input an angle in degrees and calculate its sine\n",
        "\n",
        "import math\n",
        "angle_degrees = float(input(\"Enter an angle in degrees: \"))\n",
        "angle_radians = math.radians(angle_degrees)\n",
        "sine = math.sin(angle_radians)\n",
        "print(\"The sine of the angle is:\", sine)"
      ],
      "metadata": {
        "colab": {
          "base_uri": "https://localhost:8080/"
        },
        "id": "GUHz5mhyaws9",
        "outputId": "877aba3e-0581-4bd9-e859-0ab331a42361"
      },
      "execution_count": 29,
      "outputs": [
        {
          "output_type": "stream",
          "name": "stdout",
          "text": [
            "Enter an angle in degrees: 23\n",
            "The sine of the angle is: 0.39073112848927377\n"
          ]
        }
      ]
    }
  ]
}