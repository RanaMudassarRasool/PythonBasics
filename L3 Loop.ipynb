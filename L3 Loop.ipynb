{
  "nbformat": 4,
  "nbformat_minor": 0,
  "metadata": {
    "colab": {
      "provenance": [],
      "authorship_tag": "ABX9TyNAV3ezWndJWfD1FJTnf7HV",
      "include_colab_link": true
    },
    "kernelspec": {
      "name": "python3",
      "display_name": "Python 3"
    },
    "language_info": {
      "name": "python"
    }
  },
  "cells": [
    {
      "cell_type": "markdown",
      "metadata": {
        "id": "view-in-github",
        "colab_type": "text"
      },
      "source": [
        "<a href=\"https://colab.research.google.com/github/ranamaddy/PythonBasics/blob/main/L3%20Loop.ipynb\" target=\"_parent\"><img src=\"https://colab.research.google.com/assets/colab-badge.svg\" alt=\"Open In Colab\"/></a>"
      ]
    },
    {
      "cell_type": "markdown",
      "source": [
        "# **loop in python**\n",
        "In Python, a loop is a programming construct that allows you to repeatedly execute a block of code as long as a certain condition is true. There are two main types of loops in Python: **\"for\" **loops and **\"while\"** loops."
      ],
      "metadata": {
        "id": "23GYqIQLCDsx"
      }
    },
    {
      "cell_type": "markdown",
      "source": [
        "# **While LOOP**\n",
        "In Python, a while loop is a programming construct that allows you to repeatedly execute a block of code as long as a certain condition is true. The basic syntax of a while loop is:\n",
        "\n",
        "**while condition:**\n",
        "    # execute this block of code \n",
        "\n",
        "Here, \"condition\" is a boolean expression that is checked at the beginning of each iteration of the loop. If the condition is true, the block of code inside the loop is executed. Once the block of code is executed, the condition is checked again, and the loop continues to execute as long as the condition remains true.\n",
        "\n",
        "\n"
      ],
      "metadata": {
        "id": "-x5wd2W7CR_1"
      }
    },
    {
      "cell_type": "code",
      "execution_count": 1,
      "metadata": {
        "colab": {
          "base_uri": "https://localhost:8080/"
        },
        "id": "0WxG1i4cBzTj",
        "outputId": "bfb3fcba-6f9c-4cb7-a594-3a3c405b3a20"
      },
      "outputs": [
        {
          "output_type": "stream",
          "name": "stdout",
          "text": [
            "0\n",
            "2\n",
            "4\n",
            "6\n",
            "8\n",
            "10\n",
            "12\n",
            "14\n",
            "16\n",
            "18\n"
          ]
        }
      ],
      "source": [
        "# Print the first 10 even numbers\n",
        "i = 0\n",
        "count = 0\n",
        "while count < 10:\n",
        "    if i % 2 == 0:\n",
        "        print(i)\n",
        "        count += 1\n",
        "    i += 1\n"
      ]
    },
    {
      "cell_type": "code",
      "source": [
        "# disply 1st 10 number using while \n",
        "num = 1\n",
        "while num < 10:\n",
        "    print(num)\n",
        "    \n",
        "    num += 1"
      ],
      "metadata": {
        "colab": {
          "base_uri": "https://localhost:8080/"
        },
        "id": "BujnodZsDBZI",
        "outputId": "4b99eb8d-45b4-4d56-9f5f-fa978c8ae5f8"
      },
      "execution_count": 3,
      "outputs": [
        {
          "output_type": "stream",
          "name": "stdout",
          "text": [
            "1\n",
            "2\n",
            "3\n",
            "4\n",
            "5\n",
            "6\n",
            "7\n",
            "8\n",
            "9\n"
          ]
        }
      ]
    },
    {
      "cell_type": "code",
      "source": [
        "# disply 1st 10 number using while from 10 to 1 \n",
        "num = 10\n",
        "while num > 0:\n",
        "    print(num)\n",
        "    \n",
        "    num -= 1"
      ],
      "metadata": {
        "colab": {
          "base_uri": "https://localhost:8080/"
        },
        "id": "Xj_aaLG2DOc2",
        "outputId": "2b32b63d-46c2-4f5e-c99f-7a5d737810aa"
      },
      "execution_count": 4,
      "outputs": [
        {
          "output_type": "stream",
          "name": "stdout",
          "text": [
            "10\n",
            "9\n",
            "8\n",
            "7\n",
            "6\n",
            "5\n",
            "4\n",
            "3\n",
            "2\n",
            "1\n"
          ]
        }
      ]
    },
    {
      "cell_type": "code",
      "source": [
        "# disply the sum of first 10 natural numbers\n",
        "sum = 0\n",
        "num = 1\n",
        "while num <= 10:\n",
        "    sum += num\n",
        "    num += 1\n",
        "print(\"The sum of first 10 natural numbers is:\", sum)"
      ],
      "metadata": {
        "colab": {
          "base_uri": "https://localhost:8080/"
        },
        "id": "PelWjl8qDZGQ",
        "outputId": "f4dc01c7-4888-40be-830b-5ded7852efd6"
      },
      "execution_count": 5,
      "outputs": [
        {
          "output_type": "stream",
          "name": "stdout",
          "text": [
            "The sum of first 10 natural numbers is: 55\n"
          ]
        }
      ]
    },
    {
      "cell_type": "code",
      "source": [
        "# disply all even number from 1 to 10 \n",
        "num = 1\n",
        "while num <= 10:\n",
        "    if num % 2 == 0:\n",
        "        print(num)\n",
        "    num += 1"
      ],
      "metadata": {
        "colab": {
          "base_uri": "https://localhost:8080/"
        },
        "id": "vBm9vXB1Dfm_",
        "outputId": "ce0b630a-357c-4477-c6cf-ba96ab329127"
      },
      "execution_count": 6,
      "outputs": [
        {
          "output_type": "stream",
          "name": "stdout",
          "text": [
            "2\n",
            "4\n",
            "6\n",
            "8\n",
            "10\n"
          ]
        }
      ]
    },
    {
      "cell_type": "code",
      "source": [
        "# disply all odd number from 1 to 10 \n",
        "num = 1\n",
        "while num <= 10:\n",
        "    if num % 2 != 0:\n",
        "        print(num)\n",
        "    num += 1"
      ],
      "metadata": {
        "colab": {
          "base_uri": "https://localhost:8080/"
        },
        "id": "zBiQ6YIODnO2",
        "outputId": "8ea50813-4ccc-42c6-dd65-ab5006a89392"
      },
      "execution_count": 7,
      "outputs": [
        {
          "output_type": "stream",
          "name": "stdout",
          "text": [
            "1\n",
            "3\n",
            "5\n",
            "7\n",
            "9\n"
          ]
        }
      ]
    },
    {
      "cell_type": "code",
      "source": [
        "# disply sum of  all even number from 1 to 10 \n",
        "sum = 0\n",
        "num = 1\n",
        "while num <= 10:\n",
        "    if num % 2 == 0:\n",
        "        sum += num\n",
        "    num += 1\n",
        "print(\"The sum of all even numbers from 1 to 10 is:\", sum)"
      ],
      "metadata": {
        "colab": {
          "base_uri": "https://localhost:8080/"
        },
        "id": "6RhJUrVMDsAm",
        "outputId": "cb19a3cf-ea8e-4bed-c0d7-10beb32d8e76"
      },
      "execution_count": 8,
      "outputs": [
        {
          "output_type": "stream",
          "name": "stdout",
          "text": [
            "The sum of all even numbers from 1 to 10 is: 30\n"
          ]
        }
      ]
    },
    {
      "cell_type": "code",
      "source": [
        "# display the multiplication table of 5\n",
        "num = 1\n",
        "while num <= 10:\n",
        "    print(\"5 x\", num, \"=\", 5*num)\n",
        "    num += 1"
      ],
      "metadata": {
        "colab": {
          "base_uri": "https://localhost:8080/"
        },
        "id": "pElCnuohD2G5",
        "outputId": "2f855fd8-6d22-44fc-9de3-cd5bcc8536a0"
      },
      "execution_count": 9,
      "outputs": [
        {
          "output_type": "stream",
          "name": "stdout",
          "text": [
            "5 x 1 = 5\n",
            "5 x 2 = 10\n",
            "5 x 3 = 15\n",
            "5 x 4 = 20\n",
            "5 x 5 = 25\n",
            "5 x 6 = 30\n",
            "5 x 7 = 35\n",
            "5 x 8 = 40\n",
            "5 x 9 = 45\n",
            "5 x 10 = 50\n"
          ]
        }
      ]
    },
    {
      "cell_type": "code",
      "source": [
        "# display the multiplication table of 7\n",
        "num = 1\n",
        "while num <= 10:\n",
        "    print(\"7 x\", num, \"=\", 7*num)\n",
        "    num += 1"
      ],
      "metadata": {
        "colab": {
          "base_uri": "https://localhost:8080/"
        },
        "id": "zPrzB7TjD6FP",
        "outputId": "f12669fb-b468-4789-ef1f-0f6e4fef579d"
      },
      "execution_count": 10,
      "outputs": [
        {
          "output_type": "stream",
          "name": "stdout",
          "text": [
            "7 x 1 = 7\n",
            "7 x 2 = 14\n",
            "7 x 3 = 21\n",
            "7 x 4 = 28\n",
            "7 x 5 = 35\n",
            "7 x 6 = 42\n",
            "7 x 7 = 49\n",
            "7 x 8 = 56\n",
            "7 x 9 = 63\n",
            "7 x 10 = 70\n"
          ]
        }
      ]
    },
    {
      "cell_type": "code",
      "source": [
        "# display the multiplication table of any number entered by the user\n",
        "num = int(input(\"Enter a number: \"))\n",
        "count = 1\n",
        "while count <= 10:\n",
        "    print(num, \"x\", count, \"=\", num*count)\n",
        "    count += 1"
      ],
      "metadata": {
        "colab": {
          "base_uri": "https://localhost:8080/"
        },
        "id": "BxflJrpKD9eC",
        "outputId": "2336cb03-3dc9-4e03-e489-5f7434002862"
      },
      "execution_count": 11,
      "outputs": [
        {
          "output_type": "stream",
          "name": "stdout",
          "text": [
            "Enter a number: 3\n",
            "3 x 1 = 3\n",
            "3 x 2 = 6\n",
            "3 x 3 = 9\n",
            "3 x 4 = 12\n",
            "3 x 5 = 15\n",
            "3 x 6 = 18\n",
            "3 x 7 = 21\n",
            "3 x 8 = 24\n",
            "3 x 9 = 27\n",
            "3 x 10 = 30\n"
          ]
        }
      ]
    },
    {
      "cell_type": "code",
      "source": [
        "# display the factorial of a number entered by the user\n",
        "num = int(input(\"Enter a number: \"))\n",
        "factorial = 1\n",
        "if num < 0:\n",
        "    print(\"Factorial does not exist for negative numbers\")\n",
        "elif num == 0:\n",
        "    print(\"Factorial of 0 is 1\")\n",
        "else:\n",
        "    for i in range(1, num+1):\n",
        "        factorial*= i\n",
        "    print(\"Factorial of\", num, \"is\", factorial)"
      ],
      "metadata": {
        "colab": {
          "base_uri": "https://localhost:8080/"
        },
        "id": "T7OSOxjIECJF",
        "outputId": "995c572f-f179-455b-d1d6-0509671c790e"
      },
      "execution_count": 12,
      "outputs": [
        {
          "output_type": "stream",
          "name": "stdout",
          "text": [
            "Enter a number: 5\n",
            "Factorial of 5 is 120\n"
          ]
        }
      ]
    },
    {
      "cell_type": "markdown",
      "source": [
        "The **Fibonacci sequence** is a series of numbers in which each number is the sum of the two preceding numbers. The sequence starts with 0 and 1, and each subsequent number is the sum of the previous two numbers. In mathematical terms"
      ],
      "metadata": {
        "id": "qUNLiv2RFm96"
      }
    },
    {
      "cell_type": "code",
      "source": [
        "# display the Fibonacci sequence up to n terms\n",
        "n = int(input(\"Enter the number of terms: \"))\n",
        "n1, n2 = 0, 1\n",
        "count = 0\n",
        "if n <= 0:\n",
        "   print(\"Please enter a positive integer\")\n",
        "elif n == 1:\n",
        "   print(\"Fibonacci sequence upto\",n,\":\")\n",
        "   print(n1)\n",
        "else:\n",
        "  print(\"Fibonacci sequence:\")\n",
        "while count < n:\n",
        "       print(n1)\n",
        "       nth = n1 + n2\n",
        "       n1 = n2\n",
        "       n2 = nth\n",
        "       count += 1"
      ],
      "metadata": {
        "colab": {
          "base_uri": "https://localhost:8080/"
        },
        "id": "fs7MKbEqEKVP",
        "outputId": "2730d08b-f3e6-47d4-8792-8d5742383b8c"
      },
      "execution_count": 15,
      "outputs": [
        {
          "output_type": "stream",
          "name": "stdout",
          "text": [
            "Enter the number of terms: 5\n",
            "Fibonacci sequence:\n",
            "0\n",
            "1\n",
            "1\n",
            "2\n",
            "3\n"
          ]
        }
      ]
    },
    {
      "cell_type": "code",
      "source": [
        "\n",
        "\n",
        "# calculate the sum of natural numbers up to n\n",
        "n = int(input(\"Enter a number: \"))\n",
        "sum = 0\n",
        "if n < 0:\n",
        "    print(\"Enter a positive number\")\n",
        "else:\n",
        "    for i in range(1, n+1):\n",
        "        sum += i\n",
        "    print(\"Sum of natural numbers up to\", n, \"is\", sum)"
      ],
      "metadata": {
        "colab": {
          "base_uri": "https://localhost:8080/"
        },
        "id": "2aWjNo1qEgzo",
        "outputId": "98a749ba-75dd-47ee-f361-81ea7c54fce2"
      },
      "execution_count": 16,
      "outputs": [
        {
          "output_type": "stream",
          "name": "stdout",
          "text": [
            "Enter a number: 12\n",
            "Sum of natural numbers up to 12 is 78\n"
          ]
        }
      ]
    },
    {
      "cell_type": "markdown",
      "source": [
        "Prime numbers are positive integers greater than 1 that are divisible only by 1 and themselves. In other words, a prime number is a number that has no positive divisors other than 1 and itself. For example, the first few prime numbers are:\n",
        "\n",
        "2, 3, 5, 7, 11, 13, 17, 19, 23, 29, 31, 37, 41, 43, 47, 53, 59, 61, 67, 71, 73, 79, 83, 89, 97, ...\n",
        "\n",
        "To determine whether a given number is prime, you can use a simple algorithm called the \"trial division\" method. This method involves testing each integer between 2 and the square root of the number to see if it is a divisor of the number. If any integer between 2 and the square root of the number divides the number evenly, then the number is not prime. Otherwise, the number is prime."
      ],
      "metadata": {
        "id": "EmIUGTWKFPZS"
      }
    },
    {
      "cell_type": "code",
      "source": [
        "# display the  number is prime or not \n",
        "num = int(input(\"Enter a number: \"))\n",
        "if num > 1:\n",
        "    for i in range(2, num):\n",
        "        if (num % i) == 0:\n",
        "            print(num, \"is not a prime number\")\n",
        "            break\n",
        "    else:\n",
        "        print(num, \"is a prime number\")\n",
        "else:\n",
        "    print(num, \"is not a prime number\")"
      ],
      "metadata": {
        "colab": {
          "base_uri": "https://localhost:8080/"
        },
        "id": "zoDMw6ITE02U",
        "outputId": "ea3091b6-4ab7-4596-9e09-58d429c70e8b"
      },
      "execution_count": 18,
      "outputs": [
        {
          "output_type": "stream",
          "name": "stdout",
          "text": [
            "Enter a number: 9\n",
            "9 is not a prime number\n"
          ]
        }
      ]
    },
    {
      "cell_type": "code",
      "source": [
        "# display the reverse number using while loop \n",
        "num = int(input(\"Enter a number: \"))\n",
        "rev = 0\n",
        "while num > 0:\n",
        "    rem = num % 10\n",
        "    rev = (rev * 10) + rem\n",
        "    num = num // 10\n",
        "print(\"Reverse of the number is:\", rev)"
      ],
      "metadata": {
        "colab": {
          "base_uri": "https://localhost:8080/"
        },
        "id": "5YJU95ymFtRr",
        "outputId": "4930245a-3c28-4c47-bf75-1bc20acb2a0f"
      },
      "execution_count": 19,
      "outputs": [
        {
          "output_type": "stream",
          "name": "stdout",
          "text": [
            "Enter a number: 123\n",
            "Reverse of the number is: 321\n"
          ]
        }
      ]
    },
    {
      "cell_type": "markdown",
      "source": [
        "In mathematics, an **Armstrong number** (also called a narcissistic number) is a number that is equal to the sum of its own digits raised to the power of the number of digits. For example, the number 153 is an Armstrong number because:\n",
        "\n",
        "1^3 + 5^3 + 3^3 = 1 + 125 + 27 = 153"
      ],
      "metadata": {
        "id": "hflP1kzkGXnE"
      }
    },
    {
      "cell_type": "code",
      "source": [
        "#display number is arm strong or not \n",
        "num = int(input(\"Enter a number: \"))\n",
        "sum = 0\n",
        "temp = num\n",
        "while temp > 0:\n",
        "    digit = temp % 10\n",
        "    sum += digit ** 3\n",
        "    temp //= 10\n",
        "if num == sum:\n",
        "    print(num, \"is an Armstrong number\")\n",
        "else:\n",
        "    print(num, \"is not an Armstrong number\")"
      ],
      "metadata": {
        "colab": {
          "base_uri": "https://localhost:8080/"
        },
        "id": "zwNp_ldKF8Ec",
        "outputId": "13ebdbb0-b29a-4de5-c74a-7fb816f5e8e0"
      },
      "execution_count": 21,
      "outputs": [
        {
          "output_type": "stream",
          "name": "stdout",
          "text": [
            "Enter a number: 373\n",
            "373 is not an Armstrong number\n"
          ]
        }
      ]
    },
    {
      "cell_type": "markdown",
      "source": [
        "In mathematics, a **palindrome number** is a number that remains the same when its digits are reversed. For example, 121 is a palindrome number because it reads the same from left to right and right to left."
      ],
      "metadata": {
        "id": "LrK5rGBnG0Ve"
      }
    },
    {
      "cell_type": "code",
      "source": [
        "# display number is palindrome number or not \n",
        "num = int(input(\"Enter a number: \"))\n",
        "\n",
        "temp = num\n",
        "rev = 0\n",
        "while temp > 0:\n",
        "    digit = temp % 10\n",
        "    rev = (rev * 10) + digit\n",
        "    temp //= 10\n",
        "if num == rev:\n",
        "    print(num, \"is a palindrome number\")\n",
        "else:\n",
        "    print(num, \"is not a palindrome number\")\n"
      ],
      "metadata": {
        "colab": {
          "base_uri": "https://localhost:8080/"
        },
        "id": "0fWVL8TUGQ8Y",
        "outputId": "9ee4007c-9609-41df-aa87-8db18e7e8ce4"
      },
      "execution_count": 22,
      "outputs": [
        {
          "output_type": "stream",
          "name": "stdout",
          "text": [
            "Enter a number: 131\n",
            "131 is a palindrome number\n"
          ]
        }
      ]
    },
    {
      "cell_type": "markdown",
      "source": [
        "In mathematics, a **perfect number** is a positive integer that is equal to the sum of its proper divisors (i.e., all positive divisors of the number except the number itself). For example, the number 6 is a perfect number because its proper divisors are 1, 2, and 3, and:\n",
        "\n",
        "1 + 2 + 3 = 6"
      ],
      "metadata": {
        "id": "rGnKxz_aHJJf"
      }
    },
    {
      "cell_type": "code",
      "source": [
        "# display number is perfect number or not \n",
        "num = int(input(\"Enter a number: \"))\n",
        "\n",
        "sum = 0\n",
        "for i in range(1, num):\n",
        "    if num % i == 0:\n",
        "        sum += i\n",
        "if sum == num:\n",
        "    print(num, \"is a perfect number\")\n",
        "else:\n",
        "    print(num, \"is not a perfect number\")\n"
      ],
      "metadata": {
        "colab": {
          "base_uri": "https://localhost:8080/"
        },
        "id": "SOOKBkGnG3bi",
        "outputId": "a413eac2-8d0d-45ec-be78-0e2e29ce4178"
      },
      "execution_count": 23,
      "outputs": [
        {
          "output_type": "stream",
          "name": "stdout",
          "text": [
            "Enter a number: 6\n",
            "6 is a perfect number\n"
          ]
        }
      ]
    },
    {
      "cell_type": "markdown",
      "source": [
        "# **for loop**\n",
        "\n",
        "In programming, a for loop is a control flow statement that allows you to iterate over a sequence of values (such as a list or a range of numbers) and perform a set of operations for each value. Here's the basic syntax of a for loop in Python:\n",
        "\n",
        "**for item in sequence:**\n",
        "\n",
        "      do something with item\n"
      ],
      "metadata": {
        "id": "AHcy2pzsHdN1"
      }
    },
    {
      "cell_type": "code",
      "source": [
        "#disply 1st 10 number using for loop\n",
        "for i in range(1, 11):\n",
        "    print(i)"
      ],
      "metadata": {
        "colab": {
          "base_uri": "https://localhost:8080/"
        },
        "id": "7Gp2v2NSHchG",
        "outputId": "e07c256d-0c4f-48ca-f65c-4ef3fd340340"
      },
      "execution_count": 24,
      "outputs": [
        {
          "output_type": "stream",
          "name": "stdout",
          "text": [
            "1\n",
            "2\n",
            "3\n",
            "4\n",
            "5\n",
            "6\n",
            "7\n",
            "8\n",
            "9\n",
            "10\n"
          ]
        }
      ]
    },
    {
      "cell_type": "code",
      "source": [
        "#disply 1st 10 number using for loop form 10 to 1\n",
        "for i in range(10, 0, -1):\n",
        "    print(i)"
      ],
      "metadata": {
        "colab": {
          "base_uri": "https://localhost:8080/"
        },
        "id": "_ov-OYmmH7Fi",
        "outputId": "d23b7c98-3e38-4f04-8414-aea493142395"
      },
      "execution_count": 25,
      "outputs": [
        {
          "output_type": "stream",
          "name": "stdout",
          "text": [
            "10\n",
            "9\n",
            "8\n",
            "7\n",
            "6\n",
            "5\n",
            "4\n",
            "3\n",
            "2\n",
            "1\n"
          ]
        }
      ]
    },
    {
      "cell_type": "code",
      "source": [
        "#disply 1st 10 number using for loop with 2 increment \n",
        "for i in range(1, 21, 2):\n",
        "    print(i)"
      ],
      "metadata": {
        "colab": {
          "base_uri": "https://localhost:8080/"
        },
        "id": "s5-C4QGIH__4",
        "outputId": "c00a807e-e05f-4056-dba7-449b6f404a13"
      },
      "execution_count": 26,
      "outputs": [
        {
          "output_type": "stream",
          "name": "stdout",
          "text": [
            "1\n",
            "3\n",
            "5\n",
            "7\n",
            "9\n",
            "11\n",
            "13\n",
            "15\n",
            "17\n",
            "19\n"
          ]
        }
      ]
    },
    {
      "cell_type": "code",
      "source": [
        "#display the table of number  using for loop \n",
        "num = int(input(\"Enter a number: \"))\n",
        "for i in range(1, 11):\n",
        "\n",
        "    print(num, \"x\", i, \"=\", num*i)\n",
        "    \n"
      ],
      "metadata": {
        "colab": {
          "base_uri": "https://localhost:8080/"
        },
        "id": "9ieAhgQ8IHi7",
        "outputId": "6a0b408b-94aa-4d0b-823f-19b09ac1543b"
      },
      "execution_count": 27,
      "outputs": [
        {
          "output_type": "stream",
          "name": "stdout",
          "text": [
            "Enter a number: 12\n",
            "12 x 1 = 12\n",
            "12 x 2 = 24\n",
            "12 x 3 = 36\n",
            "12 x 4 = 48\n",
            "12 x 5 = 60\n",
            "12 x 6 = 72\n",
            "12 x 7 = 84\n",
            "12 x 8 = 96\n",
            "12 x 9 = 108\n",
            "12 x 10 = 120\n"
          ]
        }
      ]
    },
    {
      "cell_type": "code",
      "source": [
        "#display of the factorialof of number using for loop \n",
        "num = int(input(\"Enter a number: \"))\n",
        "factorial = 1\n",
        "if num < 0:\n",
        "    print(\"Sorry, factorial does not exist for negative numbers\")\n",
        "elif num == 0:\n",
        "    print(\"The factorial of 0 is 1\")\n",
        "else:\n",
        "    for i in range(1, num + 1):\n",
        "        factorial = factorial * i\n",
        "    print(\"The factorialof\", num, \"is\", factorial)"
      ],
      "metadata": {
        "colab": {
          "base_uri": "https://localhost:8080/"
        },
        "id": "gLcY7FaVISgU",
        "outputId": "695355e6-eba5-4959-c135-1bfd7acedb00"
      },
      "execution_count": 28,
      "outputs": [
        {
          "output_type": "stream",
          "name": "stdout",
          "text": [
            "Enter a number: 5\n",
            "The factorialof 5 is 120\n"
          ]
        }
      ]
    },
    {
      "cell_type": "code",
      "source": [
        "#display of prime number of not \n",
        "num = int(input(\"Enter a number: \"))\n",
        "if num > 1:\n",
        "    for i in range(2, num):\n",
        "        if num % i == 0:\n",
        "            print(num, \"is not a prime number\")\n",
        "            break\n",
        "    else:\n",
        "        print(num, \"is a prime number\")\n",
        "else:\n",
        "    print(num, \"is not a prime number\")"
      ],
      "metadata": {
        "colab": {
          "base_uri": "https://localhost:8080/"
        },
        "id": "z4-we880Idvl",
        "outputId": "0bd821cc-a2eb-44b0-ee2c-38a1ec665643"
      },
      "execution_count": 29,
      "outputs": [
        {
          "output_type": "stream",
          "name": "stdout",
          "text": [
            "Enter a number: 8\n",
            "8 is not a prime number\n"
          ]
        }
      ]
    }
  ]
}