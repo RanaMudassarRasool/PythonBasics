{
  "nbformat": 4,
  "nbformat_minor": 0,
  "metadata": {
    "colab": {
      "provenance": [],
      "authorship_tag": "ABX9TyMyEpNvlm1glu9vBVG3ToJO",
      "include_colab_link": true
    },
    "kernelspec": {
      "name": "python3",
      "display_name": "Python 3"
    },
    "language_info": {
      "name": "python"
    }
  },
  "cells": [
    {
      "cell_type": "markdown",
      "metadata": {
        "id": "view-in-github",
        "colab_type": "text"
      },
      "source": [
        "<a href=\"https://colab.research.google.com/github/ranamaddy/PythonBasics/blob/main/py2_input_function.ipynb\" target=\"_parent\"><img src=\"https://colab.research.google.com/assets/colab-badge.svg\" alt=\"Open In Colab\"/></a>"
      ]
    },
    {
      "cell_type": "markdown",
      "source": [
        "# **input function **\n",
        "In Python, the input() function is used to read input from the user via the keyboard. The input function takes a string as an argument, which is used as a prompt to ask the user for input. Here are ten examples of using the input() function in Python:"
      ],
      "metadata": {
        "id": "TIIfFAXQZ6hS"
      }
    },
    {
      "cell_type": "code",
      "source": [],
      "metadata": {
        "id": "O_czIfcdjcaN"
      },
      "execution_count": null,
      "outputs": []
    },
    {
      "cell_type": "code",
      "execution_count": null,
      "metadata": {
        "colab": {
          "base_uri": "https://localhost:8080/"
        },
        "id": "5nHL-YHQZnx0",
        "outputId": "7822bc57-276a-43cc-853d-39df0567e981"
      },
      "outputs": [
        {
          "output_type": "stream",
          "name": "stdout",
          "text": [
            "What is your name? rana Mudassar Rasool\n",
            "Hello, rana Mudassar Rasool! Welcome to our website.\n"
          ]
        }
      ],
      "source": [
        "#Asking the user for their name and printing a personalized message:\n",
        "name = input(\"What is your name? \")\n",
        "print(\"Hello, \" + name + \"! Welcome to our website.\")"
      ]
    },
    {
      "cell_type": "code",
      "source": [
        "#Calculating the area of a rectangle based on user input for length and width\n",
        "length = float(input(\"Enter the length of the rectangle: \"))\n",
        "width = float(input(\"Enter the width of the rectangle: \"))\n",
        "area = length * width\n",
        "print(\"The area of the rectangle is:\", area)"
      ],
      "metadata": {
        "colab": {
          "base_uri": "https://localhost:8080/"
        },
        "id": "9Z_LI7-9aTvu",
        "outputId": "d57b1fae-cce8-4a27-8a45-d4f74d99262c"
      },
      "execution_count": null,
      "outputs": [
        {
          "output_type": "stream",
          "name": "stdout",
          "text": [
            "Enter the length of the rectangle: 12\n",
            "Enter the width of the rectangle: 13\n",
            "The area of the rectangle is: 156.0\n"
          ]
        }
      ]
    },
    {
      "cell_type": "code",
      "source": [
        "#Converting a temperature from Fahrenheit to Celsius based on user input\n",
        "fahrenheit = float(input(\"Enter the temperature in Fahrenheit: \"))\n",
        "celsius = (fahrenheit - 32) * 5/9\n",
        "print(\"The temperature in Celsius is:\", celsius)"
      ],
      "metadata": {
        "colab": {
          "base_uri": "https://localhost:8080/"
        },
        "id": "wMEklOXmaaOT",
        "outputId": "601abc5c-57b4-4821-eae4-c75162d65c64"
      },
      "execution_count": null,
      "outputs": [
        {
          "output_type": "stream",
          "name": "stdout",
          "text": [
            "Enter the temperature in Fahrenheit: 56\n",
            "The temperature in Celsius is: 13.333333333333334\n"
          ]
        }
      ]
    },
    {
      "cell_type": "code",
      "source": [
        "#Calculating the volume of a cylinder based on user input for radius and height\n",
        "radius = float(input(\"Enter the radius of the cylinder: \"))\n",
        "height = float(input(\"Enter the height of the cylinder: \"))\n",
        "pi = 3.14159\n",
        "volume = pi * radius**2 * height\n",
        "print(\"The volume of the cylinder is:\", volume)"
      ],
      "metadata": {
        "colab": {
          "base_uri": "https://localhost:8080/"
        },
        "id": "fuNUy_eIak3Z",
        "outputId": "8cee9ff7-76eb-4700-cda5-e65b206727c1"
      },
      "execution_count": null,
      "outputs": [
        {
          "output_type": "stream",
          "name": "stdout",
          "text": [
            "Enter the radius of the cylinder: 12\n",
            "Enter the height of the cylinder: 13\n",
            "The volume of the cylinder is: 5881.05648\n"
          ]
        }
      ]
    },
    {
      "cell_type": "code",
      "source": [
        "#Calculating the perimeter of a square based on user input for side length\n",
        "side = float(input(\"Enter the length of a side of the square: \"))\n",
        "perimeter = 4 * side\n",
        "print(\"The perimeter of the square is:\", perimeter)"
      ],
      "metadata": {
        "colab": {
          "base_uri": "https://localhost:8080/"
        },
        "id": "NgNIb8Amapnn",
        "outputId": "1bc3dd0b-aae9-460e-a4b8-9624966565c1"
      },
      "execution_count": null,
      "outputs": [
        {
          "output_type": "stream",
          "name": "stdout",
          "text": [
            "Enter the length of a side of the square: 4\n",
            "The perimeter of the square is: 16.0\n"
          ]
        }
      ]
    },
    {
      "cell_type": "code",
      "source": [
        "#Calculating the circumference of a circle based on user input for radius\n",
        "radius = float(input(\"Enter the radius of the circle: \"))\n",
        "pi = 3.14159\n",
        "circumference = 2 * pi * radius\n",
        "print(\"The circumference of the circle is:\", circumference)"
      ],
      "metadata": {
        "colab": {
          "base_uri": "https://localhost:8080/"
        },
        "id": "OPhsxotYauXI",
        "outputId": "d28ee2d2-6174-42cf-fa17-6ee7b310baca"
      },
      "execution_count": null,
      "outputs": [
        {
          "output_type": "stream",
          "name": "stdout",
          "text": [
            "Enter the radius of the circle: 2\n",
            "The circumference of the circle is: 12.56636\n"
          ]
        }
      ]
    },
    {
      "cell_type": "code",
      "source": [
        "#Calculating the area of a triangle based on user input for base and height\n",
        "base = float(input(\"Enter the base of the triangle: \"))\n",
        "height = float(input(\"Enter the height of the triangle: \"))\n",
        "area = 0.5 * base * height\n",
        "print(\"The area of the triangle is:\", area)"
      ],
      "metadata": {
        "colab": {
          "base_uri": "https://localhost:8080/"
        },
        "id": "clak4jadaz4p",
        "outputId": "8cb3df6f-9ef3-4a80-eeb4-b2afb73edeee"
      },
      "execution_count": null,
      "outputs": [
        {
          "output_type": "stream",
          "name": "stdout",
          "text": [
            "Enter the base of the triangle: 23\n",
            "Enter the height of the triangle: 34\n",
            "The area of the triangle is: 391.0\n"
          ]
        }
      ]
    },
    {
      "cell_type": "code",
      "source": [
        "#Calculating the surface area of a cube based on user input for side length\n",
        "side = float(input(\"Enter the length of a side of the cube: \"))\n",
        "surface_area = 6 * side**2\n",
        "print(\"The surface area of the cube is:\", surface_area)"
      ],
      "metadata": {
        "colab": {
          "base_uri": "https://localhost:8080/"
        },
        "id": "eVPspiR5bC_1",
        "outputId": "accea23c-c265-457c-b895-79e64cadab68"
      },
      "execution_count": null,
      "outputs": [
        {
          "output_type": "stream",
          "name": "stdout",
          "text": [
            "Enter the length of a side of the cube: 3\n",
            "The surface area of the cube is: 54.0\n"
          ]
        }
      ]
    },
    {
      "cell_type": "code",
      "source": [
        "#Calculating the perimeter of a rectangle based on user input for length and width\n",
        "length = float(input(\"Enter the length of the rectangle: \"))\n",
        "width = float(input(\"Enter the width of the rectangle: \"))\n",
        "perimeter = 2 * (length + width)\n",
        "print(\"The perimeter of the rectangle is:\", perimeter)"
      ],
      "metadata": {
        "colab": {
          "base_uri": "https://localhost:8080/"
        },
        "id": "9Ww8WZcYbIB0",
        "outputId": "b80ab3d4-bd3e-42c2-baf5-91d1668fbd25"
      },
      "execution_count": null,
      "outputs": [
        {
          "output_type": "stream",
          "name": "stdout",
          "text": [
            "Enter the length of the rectangle: 12\n",
            "Enter the width of the rectangle: 13\n",
            "The perimeter of the rectangle is: 50.0\n"
          ]
        }
      ]
    },
    {
      "cell_type": "code",
      "source": [
        "#Calculating the volume of a sphere based on user input for radius\n",
        "radius = float(input(\"Enter the radius of the sphere: \"))\n",
        "pi = 3.14159\n",
        "volume = (4/3) * pi * radius**3\n",
        "print(\"The volume of the sphere is:\", volume)"
      ],
      "metadata": {
        "colab": {
          "base_uri": "https://localhost:8080/"
        },
        "id": "iPl63EoQbPcE",
        "outputId": "fd17d3dd-48b9-46ff-de2a-6cecc0eeed4f"
      },
      "execution_count": null,
      "outputs": [
        {
          "output_type": "stream",
          "name": "stdout",
          "text": [
            "Enter the radius of the sphere: 12\n",
            "The volume of the sphere is: 7238.223359999999\n"
          ]
        }
      ]
    },
    {
      "cell_type": "code",
      "source": [
        "#inpt 3 digit number and reverse it \n",
        "number = int(input(\"Enter a three-digit number: \"))\n",
        "reverse = 0\n",
        "while number > 0:\n",
        "    remainder = number % 10\n",
        "    reverse = (reverse * 10) + remainder\n",
        "    number = number // 10\n",
        "print(\"The reversed number is:\", reverse)"
      ],
      "metadata": {
        "colab": {
          "base_uri": "https://localhost:8080/"
        },
        "id": "jBEROhYHbZgv",
        "outputId": "cbced4a9-eb6b-4321-edb9-19a22a6144a8"
      },
      "execution_count": null,
      "outputs": [
        {
          "output_type": "stream",
          "name": "stdout",
          "text": [
            "Enter a three-digit number: 123\n",
            "The reversed number is: 321\n"
          ]
        }
      ]
    },
    {
      "cell_type": "code",
      "source": [
        "#inpt second and covert in houre and minuts\n",
        "seconds = int(input(\"Enter the number of seconds: \"))\n",
        "hours = seconds // 3600\n",
        "seconds = seconds % 3600\n",
        "minutes = seconds // 60\n",
        "seconds = seconds % 60\n",
        "print(\"The equivalent time is:\", hours, \"hours,\", minutes, \"minutes, and\", seconds, \"seconds.\")"
      ],
      "metadata": {
        "colab": {
          "base_uri": "https://localhost:8080/"
        },
        "id": "7HRv8Ymbbh1z",
        "outputId": "7c34c2e3-4156-4ecb-a0be-a1d8a230a5d4"
      },
      "execution_count": null,
      "outputs": [
        {
          "output_type": "stream",
          "name": "stdout",
          "text": [
            "Enter the number of seconds: 36342\n",
            "The equivalent time is: 10 hours, 5 minutes, and 42 seconds.\n"
          ]
        }
      ]
    },
    {
      "cell_type": "code",
      "source": [
        "#input meter and convert into kilometers\n",
        "meters = float(input(\"Enter the length in meters: \"))\n",
        "kilometers = meters / 1000\n",
        "print(\"The length in kilometers is:\", kilometers)"
      ],
      "metadata": {
        "colab": {
          "base_uri": "https://localhost:8080/"
        },
        "id": "p_nTX45TbzlO",
        "outputId": "83a37479-7b66-469e-bb4d-980d847aeb41"
      },
      "execution_count": null,
      "outputs": [
        {
          "output_type": "stream",
          "name": "stdout",
          "text": [
            "Enter the length in meters: 12\n",
            "The length in kilometers is: 0.012\n"
          ]
        }
      ]
    },
    {
      "cell_type": "code",
      "source": [
        "#input kilometer and convert into meters\n",
        "kilometers = float(input(\"Enter the length in kilometers: \"))\n",
        "meters = kilometers * 1000\n",
        "print(\"The length in meters is:\", meters)"
      ],
      "metadata": {
        "colab": {
          "base_uri": "https://localhost:8080/"
        },
        "id": "4S2uX0kMcAlD",
        "outputId": "b1a49dca-33a9-4cb1-abfd-232627f7524a"
      },
      "execution_count": null,
      "outputs": [
        {
          "output_type": "stream",
          "name": "stdout",
          "text": [
            "Enter the length in kilometers: 12\n",
            "The length in meters is: 12000.0\n"
          ]
        }
      ]
    },
    {
      "cell_type": "code",
      "source": [
        "#input temperature in Celsius and convert into Fahrenheit\n",
        "celsius = float(input(\"Enter the temperature in Celsius: \"))\n",
        "fahrenheit = (celsius * 9/5) + 32\n",
        "print(\"The temperature in Fahrenheit is:\", fahrenheit)"
      ],
      "metadata": {
        "colab": {
          "base_uri": "https://localhost:8080/"
        },
        "id": "QuG3xt8jcHFs",
        "outputId": "fd68a5bd-be1f-4f2a-d2dd-dc61eacbc646"
      },
      "execution_count": null,
      "outputs": [
        {
          "output_type": "stream",
          "name": "stdout",
          "text": [
            "Enter the temperature in Celsius: 34\n",
            "The temperature in Fahrenheit is: 93.2\n"
          ]
        }
      ]
    },
    {
      "cell_type": "code",
      "source": [
        "#inputtwo numbers and find their sum\n",
        "num1 = float(input(\"Enter the first number: \"))\n",
        "num2 = float(input(\"Enter the second number: \"))\n",
        "sum = num1 + num2\n",
        "print(\"The sum of the two numbers is:\", sum)"
      ],
      "metadata": {
        "colab": {
          "base_uri": "https://localhost:8080/"
        },
        "id": "D6xNkNDgcLXy",
        "outputId": "fb263a5e-e20d-4b66-f81d-ea144391a3b4"
      },
      "execution_count": null,
      "outputs": [
        {
          "output_type": "stream",
          "name": "stdout",
          "text": [
            "Enter the first number: 12\n",
            "Enter the second number: 23\n",
            "The sum of the two numbers is: 35.0\n"
          ]
        }
      ]
    },
    {
      "cell_type": "code",
      "source": [
        "#input two numbers and find their difference\n",
        "num1 = float(input(\"Enter the first number: \"))\n",
        "num2 = float(input(\"Enter the second number: \"))\n",
        "difference = num1 - num2\n",
        "print(\"The difference between the two numbers is:\", difference)"
      ],
      "metadata": {
        "colab": {
          "base_uri": "https://localhost:8080/"
        },
        "id": "yMT-l4bCcYZH",
        "outputId": "8384ea38-a6b8-45f8-82d6-a80664511025"
      },
      "execution_count": null,
      "outputs": [
        {
          "output_type": "stream",
          "name": "stdout",
          "text": [
            "Enter the first number: 23\n",
            "Enter the second number: 12\n",
            "The difference between the two numbers is: 11.0\n"
          ]
        }
      ]
    },
    {
      "cell_type": "code",
      "source": [
        "# input two numbers and find their product\n",
        "num1 = float(input(\"Enter the first number: \"))\n",
        "num2 = float(input(\"Enter the second number: \"))\n",
        "product = num1 * num2\n",
        "print(\"The product of the two numbers is:\", product)"
      ],
      "metadata": {
        "colab": {
          "base_uri": "https://localhost:8080/"
        },
        "id": "rPSYktK3cdFB",
        "outputId": "04031c16-6d04-4419-bae4-ae651d166f72"
      },
      "execution_count": null,
      "outputs": [
        {
          "output_type": "stream",
          "name": "stdout",
          "text": [
            "Enter the first number: 12\n",
            "Enter the second number: 12\n",
            "The product of the two numbers is: 144.0\n"
          ]
        }
      ]
    },
    {
      "cell_type": "code",
      "source": [
        "# input two numbers and find their quotient\n",
        "num1 = float(input(\"Enter the first number: \"))\n",
        "num2 = float(input(\"Enter the second number: \"))\n",
        "quotient = num1 / num2\n",
        "print(\"The quotient of the two numbers is:\", quotient)"
      ],
      "metadata": {
        "colab": {
          "base_uri": "https://localhost:8080/"
        },
        "id": "-IgnbOSNcj9I",
        "outputId": "4b5aa8ae-5835-4944-e1da-3af54cdbd592"
      },
      "execution_count": null,
      "outputs": [
        {
          "output_type": "stream",
          "name": "stdout",
          "text": [
            "Enter the first number: 12\n",
            "Enter the second number: 5\n",
            "The quotient of the two numbers is: 2.4\n"
          ]
        }
      ]
    },
    {
      "cell_type": "code",
      "source": [
        "# input 2 numper and print of a^2+b^2\n",
        "num1 = float(input(\"Enter the first number: \"))\n",
        "num2 = float(input(\"Enter the second number: \"))\n",
        "result = num1**2 + num2**2\n",
        "print(\"The result of a^2 + b^2 is:\", result)"
      ],
      "metadata": {
        "colab": {
          "base_uri": "https://localhost:8080/"
        },
        "id": "g4I6QKbLcuDF",
        "outputId": "221fa852-f365-469d-d4bb-be2d7135207b"
      },
      "execution_count": null,
      "outputs": [
        {
          "output_type": "stream",
          "name": "stdout",
          "text": [
            "Enter the first number: 3\n",
            "Enter the second number: 4\n",
            "The result of a^2 + b^2 is: 25.0\n"
          ]
        }
      ]
    },
    {
      "cell_type": "code",
      "source": [
        "# input 2 numper and print sequre of of a^2+b^2\n",
        "num1 = float(input(\"Enter the first number: \"))\n",
        "num2 = float(input(\"Enter the second number: \"))\n",
        "result = num1**2 + num2**2\n",
        "square_result = result**2\n",
        "print(\"The square of a^2 + b^2 is:\", square_result)"
      ],
      "metadata": {
        "colab": {
          "base_uri": "https://localhost:8080/"
        },
        "id": "nuYEw18edG_n",
        "outputId": "db7d3740-2337-4d61-f2c1-4758223819c6"
      },
      "execution_count": null,
      "outputs": [
        {
          "output_type": "stream",
          "name": "stdout",
          "text": [
            "Enter the first number: 12\n",
            "Enter the second number: 3\n",
            "The square of a^2 + b^2 is: 23409.0\n"
          ]
        }
      ]
    },
    {
      "cell_type": "code",
      "source": [
        "#calcualte of distance fomula \n",
        "# input the coordinates of two points and calculate the distance between them using distance formula\n",
        "x1 = float(input(\"Enter the x-coordinate of first point: \"))\n",
        "y1 = float(input(\"Enter the y-coordinate of first point: \"))\n",
        "x2 = float(input(\"Enter the x-coordinate of second point: \"))\n",
        "y2 = float(input(\"Enter the y-coordinate of second point: \"))\n",
        "distance = ((x2 - x1)**2 + (y2 - y1)**2)**0.5\n",
        "print(\"The distance between the two points is:\", distance)"
      ],
      "metadata": {
        "colab": {
          "base_uri": "https://localhost:8080/"
        },
        "id": "YW_D46AqdTND",
        "outputId": "442920ec-1538-4834-ec13-71f8d43ae45b"
      },
      "execution_count": null,
      "outputs": [
        {
          "output_type": "stream",
          "name": "stdout",
          "text": [
            "Enter the x-coordinate of first point: 2\n",
            "Enter the y-coordinate of first point: 3\n",
            "Enter the x-coordinate of second point: 4\n",
            "Enter the y-coordinate of second point: 5\n",
            "The distance between the two points is: 2.8284271247461903\n"
          ]
        }
      ]
    },
    {
      "cell_type": "markdown",
      "source": [
        "**Basic Math function**"
      ],
      "metadata": {
        "id": "kN6DiMzqd3kV"
      }
    },
    {
      "cell_type": "code",
      "source": [
        "# calculate the  log \n",
        "# input a number and calculate its logarithm to base 10\n",
        "import math\n",
        "num = float(input(\"Enter a number: \"))\n",
        "logarithm = math.log10(num)\n",
        "print(\"The logarithm of the number to base 10 is:\", logarithm)"
      ],
      "metadata": {
        "colab": {
          "base_uri": "https://localhost:8080/"
        },
        "id": "ZjnxZOgvdnrD",
        "outputId": "d00373e2-c561-46d4-9ffe-40124def4ceb"
      },
      "execution_count": null,
      "outputs": [
        {
          "output_type": "stream",
          "name": "stdout",
          "text": [
            "Enter a number: 23\n",
            "The logarithm of the number to base 10 is: 1.3617278360175928\n"
          ]
        }
      ]
    },
    {
      "cell_type": "code",
      "source": [
        "#calculate of sin\n",
        "# input an angle in degrees and calculate its sine\n",
        "\n",
        "import math\n",
        "angle_degrees = float(input(\"Enter an angle in degrees: \"))\n",
        "angle_radians = math.radians(angle_degrees)\n",
        "sine = math.sin(angle_radians)\n",
        "print(\"The sine of the angle is:\", sine)\n"
      ],
      "metadata": {
        "id": "bnladVffd7tk"
      },
      "execution_count": null,
      "outputs": []
    },
    {
      "cell_type": "code",
      "source": [
        "# calculate the cosine\n",
        "# input an angle in degrees and calculate its cosine\n",
        "import math\n",
        "angle_degrees = float(input(\"Enter an angle in degrees: \"))\n",
        "angle_radians = math.radians(angle_degrees)\n",
        "cosine = math.cos(angle_radians)\n",
        "print(\"The cosine of the angle is:\", cosine)"
      ],
      "metadata": {
        "id": "CIoTaLOVeJf5"
      },
      "execution_count": null,
      "outputs": []
    },
    {
      "cell_type": "code",
      "source": [
        "# calculate the tangent\n",
        "# input an angle in degrees and calculate its tangent\n",
        "import math\n",
        "angle_degrees = float(input(\"Enter an angle in degrees: \"))\n",
        "angle_radians = math.radians(angle_degrees)\n",
        "tangent = math.tan(angle_radians)\n",
        "print(\"The tangent of the angle is:\", tangent)"
      ],
      "metadata": {
        "id": "kYT9z-RceM0k"
      },
      "execution_count": null,
      "outputs": []
    },
    {
      "cell_type": "code",
      "source": [
        "# calculate the cot\n",
        "# input an angle in degrees and calculate its tangent\n",
        "import math\n",
        "angle_degrees = float(input(\"Enter an angle in degrees: \"))\n",
        "angle_radians = math.radians(angle_degrees)\n",
        "cot = 1 / math.tan(angle_radians)\n",
        "print(\"The cotangent of the angle is:\", cot)"
      ],
      "metadata": {
        "colab": {
          "base_uri": "https://localhost:8080/"
        },
        "id": "R2LIcdsweW2r",
        "outputId": "2b4c72bc-ffbc-49a5-ad33-9e1e61fb7df2"
      },
      "execution_count": null,
      "outputs": [
        {
          "output_type": "stream",
          "name": "stdout",
          "text": [
            "Enter an angle in degrees: 12\n",
            "The cotangent of the angle is: 4.704630109478455\n"
          ]
        }
      ]
    },
    {
      "cell_type": "code",
      "source": [
        "# calculate the square root\n",
        "# input a number and calculate its square root\n",
        "import math\n",
        "num = float(input(\"Enter a number: \"))\n",
        "sqrt = math.sqrt(num)\n",
        "print(\"The square root of the number is:\", sqrt)"
      ],
      "metadata": {
        "id": "S8v3pY77eRkc"
      },
      "execution_count": null,
      "outputs": []
    },
    {
      "cell_type": "code",
      "source": [
        "# Calculate the average of three numbers using input() function\n",
        "num1 = input(\"Enter first number: \")\n",
        "num2 = input(\"Enter second number: \")\n",
        "num3 = input(\"Enter third number: \")\n",
        "avg = (float(num1) + float(num2) + float(num3)) / 3\n",
        "print(\"The average of {0}, {1} and {2} is {3}\".format(num1, num2, num3, avg))"
      ],
      "metadata": {
        "colab": {
          "base_uri": "https://localhost:8080/"
        },
        "id": "VDpZOTO8jfJ1",
        "outputId": "5ab5caf3-c8e1-4f33-94a3-07623ef8a5a4"
      },
      "execution_count": 29,
      "outputs": [
        {
          "output_type": "stream",
          "name": "stdout",
          "text": [
            "Enter first number: 12\n",
            "Enter second number: 13\n",
            "Enter third number: 14\n",
            "The average of 12, 13 and 14 is 13.0\n"
          ]
        }
      ]
    },
    {
      "cell_type": "code",
      "source": [],
      "metadata": {
        "id": "YaXOfUk4jtGN"
      },
      "execution_count": null,
      "outputs": []
    }
  ]
}