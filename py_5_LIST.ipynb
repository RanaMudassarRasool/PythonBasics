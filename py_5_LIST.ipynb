{
  "nbformat": 4,
  "nbformat_minor": 0,
  "metadata": {
    "colab": {
      "provenance": [],
      "authorship_tag": "ABX9TyOK/WaAayHRLnMgf68OoLGu",
      "include_colab_link": true
    },
    "kernelspec": {
      "name": "python3",
      "display_name": "Python 3"
    },
    "language_info": {
      "name": "python"
    }
  },
  "cells": [
    {
      "cell_type": "markdown",
      "metadata": {
        "id": "view-in-github",
        "colab_type": "text"
      },
      "source": [
        "<a href=\"https://colab.research.google.com/github/ranamaddy/PythonBasics/blob/main/py_5_LIST.ipynb\" target=\"_parent\"><img src=\"https://colab.research.google.com/assets/colab-badge.svg\" alt=\"Open In Colab\"/></a>"
      ]
    },
    {
      "cell_type": "markdown",
      "source": [
        "# **LIST**\n",
        "\n",
        "In Python, a list is a collection of values that are ordered and mutable (i.e., can be changed). A list is defined using square brackets ([]), and individual values are separated by commas. Here's an example:"
      ],
      "metadata": {
        "id": "FL2P62HOJw-1"
      }
    },
    {
      "cell_type": "code",
      "execution_count": 2,
      "metadata": {
        "colab": {
          "base_uri": "https://localhost:8080/"
        },
        "id": "LFTkgvKhJpPY",
        "outputId": "74fb9e29-6ad7-43d9-f7bf-38b4450ed4cd"
      },
      "outputs": [
        {
          "output_type": "execute_result",
          "data": {
            "text/plain": [
              "[1, 2, 3, 4, 5]"
            ]
          },
          "metadata": {},
          "execution_count": 2
        }
      ],
      "source": [
        "my_list = [1, 2, 3, 4, 5]\n",
        "my_list"
      ]
    },
    {
      "cell_type": "markdown",
      "source": [
        "**index of list **"
      ],
      "metadata": {
        "id": "UuaIa8HCKWE_"
      }
    },
    {
      "cell_type": "code",
      "source": [
        "# print any index of list \n",
        "print(my_list[2]) # prints the value at index 2, which is 3"
      ],
      "metadata": {
        "colab": {
          "base_uri": "https://localhost:8080/"
        },
        "id": "n7BiyqNKKJnc",
        "outputId": "02233290-9098-4343-b8e4-93ae5c67a5ee"
      },
      "execution_count": 3,
      "outputs": [
        {
          "output_type": "stream",
          "name": "stdout",
          "text": [
            "3\n"
          ]
        }
      ]
    },
    {
      "cell_type": "markdown",
      "source": [
        "In Python, **slicing** is a way to extract a portion of a list by specifying a range of indices. The syntax for slicing a list is as follows:\n",
        "\n",
        "my_list[start_index:end_index:step]\n",
        "\n",
        "The **start_inde**x parameter specifies the index at which the slice begins (inclusive).\n",
        "The **end_index** parameter specifies the index at which the slice ends (exclusive).\n",
        "The **step** parameter specifies the interval between indices in the slice (default value is "
      ],
      "metadata": {
        "id": "YdTvmBASKoAE"
      }
    },
    {
      "cell_type": "code",
      "source": [
        "# diplay slicing of list \n",
        "print(my_list[1:4]) # prints values from index 1 to index 3 (excluding index 4)"
      ],
      "metadata": {
        "colab": {
          "base_uri": "https://localhost:8080/"
        },
        "id": "adfxi1vcKY7M",
        "outputId": "574bb8e8-6337-4713-9302-582c526e395b"
      },
      "execution_count": 4,
      "outputs": [
        {
          "output_type": "stream",
          "name": "stdout",
          "text": [
            "[2, 3, 4]\n"
          ]
        }
      ]
    },
    {
      "cell_type": "code",
      "source": [
        "# diplay slicing of list with steps \n",
        "print(my_list[::2]) # prints values from start to end with a step of 2\n"
      ],
      "metadata": {
        "colab": {
          "base_uri": "https://localhost:8080/"
        },
        "id": "Xb92zBLeK7Ar",
        "outputId": "f577764f-c10a-4a92-8caf-7c577b88278e"
      },
      "execution_count": 5,
      "outputs": [
        {
          "output_type": "stream",
          "name": "stdout",
          "text": [
            "[1, 3, 5]\n"
          ]
        }
      ]
    },
    {
      "cell_type": "code",
      "source": [
        "# diplay slicing of list of alla even number \n",
        "#Here's the code to display slicing of list of all even numbers: \n",
        "print(my_list[1::2]) # prints values from index 1 to end with a step of 2, which are all the even numbers in the list\n"
      ],
      "metadata": {
        "colab": {
          "base_uri": "https://localhost:8080/"
        },
        "id": "dUWYRLy5LCzA",
        "outputId": "73f5c4f9-f38a-4a89-a4f7-9ad399a2609c"
      },
      "execution_count": 6,
      "outputs": [
        {
          "output_type": "stream",
          "name": "stdout",
          "text": [
            "[2, 4]\n"
          ]
        }
      ]
    },
    {
      "cell_type": "code",
      "source": [
        "# diplay slicing of list of alla even number with if\n",
        "#Here's the code to display slicing of list of all even numbers using an if statement:\n",
        "for num in my_list:\n",
        "    if num % 2 == 0:\n",
        "        print(num) # prints all even numbers in the list"
      ],
      "metadata": {
        "colab": {
          "base_uri": "https://localhost:8080/"
        },
        "id": "Iaf8AiYkLSHG",
        "outputId": "61f64025-916b-4b06-cb0c-6842641ba4a1"
      },
      "execution_count": 9,
      "outputs": [
        {
          "output_type": "stream",
          "name": "stdout",
          "text": [
            "2\n",
            "4\n"
          ]
        }
      ]
    },
    {
      "cell_type": "code",
      "source": [
        "# make new list 0f 10 element and display all element using loop with index \n",
        "new_list = [6, 7, 8, 9, 10, 11, 12, 13, 14, 15]\n",
        "for i in range(len(new_list)):\n",
        "    print(f\"Element at index {i} is {new_list[i]}\") # prints each element in the new_list along with its index"
      ],
      "metadata": {
        "colab": {
          "base_uri": "https://localhost:8080/"
        },
        "id": "8jLclEPQLjIL",
        "outputId": "e335100b-a43c-488e-c032-41e8564c4d90"
      },
      "execution_count": 10,
      "outputs": [
        {
          "output_type": "stream",
          "name": "stdout",
          "text": [
            "Element at index 0 is 6\n",
            "Element at index 1 is 7\n",
            "Element at index 2 is 8\n",
            "Element at index 3 is 9\n",
            "Element at index 4 is 10\n",
            "Element at index 5 is 11\n",
            "Element at index 6 is 12\n",
            "Element at index 7 is 13\n",
            "Element at index 8 is 14\n",
            "Element at index 9 is 15\n"
          ]
        }
      ]
    },
    {
      "cell_type": "code",
      "source": [
        "# make new list 0f 10 element and display all element using loop with value \n",
        "new_list = [2, 4, 6, 8, 10, 12, 14, 16, 18, 20]\n",
        "for num in new_list:\n",
        "    print(num) # prints each element in the new_list"
      ],
      "metadata": {
        "colab": {
          "base_uri": "https://localhost:8080/"
        },
        "id": "fuvkDxZGL4u1",
        "outputId": "b432e90e-b030-45ea-b73d-09dd62f07e86"
      },
      "execution_count": 11,
      "outputs": [
        {
          "output_type": "stream",
          "name": "stdout",
          "text": [
            "2\n",
            "4\n",
            "6\n",
            "8\n",
            "10\n",
            "12\n",
            "14\n",
            "16\n",
            "18\n",
            "20\n"
          ]
        }
      ]
    },
    {
      "cell_type": "code",
      "source": [
        "# make new list 0f 10 element and display sum of  all even number  using loop\n",
        "new_list = [2, 4, 6, 8, 10, 12, 14, 16, 18, 20]\n",
        "sum_even = 0\n",
        "for num in new_list:\n",
        "    if num % 2 == 0:\n",
        "        sum_even += num\n",
        "print(\"Sum of all even numbers in the list is:\", sum_even) # prints the sum"
      ],
      "metadata": {
        "colab": {
          "base_uri": "https://localhost:8080/"
        },
        "id": "z6vkDYMwL9G6",
        "outputId": "44bb6f00-aa58-495e-878b-1c203d7cc5f4"
      },
      "execution_count": 12,
      "outputs": [
        {
          "output_type": "stream",
          "name": "stdout",
          "text": [
            "Sum of all even numbers in the list is: 110\n"
          ]
        }
      ]
    },
    {
      "cell_type": "code",
      "source": [
        "# make new list 0f 10 element and display sum of  all odd number  using loop\n",
        "new_list = [1, 3, 5, 7, 9, 11, 13, 15, 17, 19]\n",
        "sum_odd = 0\n",
        "for num in new_list:\n",
        "    if num % 2 != 0:\n",
        "        sum_odd += num\n",
        "print(\"Sum of all odd numbers in the list is:\", sum_odd) # prints the sum"
      ],
      "metadata": {
        "colab": {
          "base_uri": "https://localhost:8080/"
        },
        "id": "h_-d-UqzML14",
        "outputId": "0aed6242-6f2a-44ea-dc16-099bca6bcf18"
      },
      "execution_count": 13,
      "outputs": [
        {
          "output_type": "stream",
          "name": "stdout",
          "text": [
            "Sum of all odd numbers in the list is: 100\n"
          ]
        }
      ]
    },
    {
      "cell_type": "code",
      "source": [
        "# make new list 0f 10 element and display count of  all even number  using loop\n",
        "new_list = [2, 4, 6, 8, 10, 12, 14, 16, 18, 20]\n",
        "count_even = 0\n",
        "for num in new_list:\n",
        "    if num % 2 == 0:\n",
        "        count_even += 1\n",
        "print(\"Count of all even numbers in the list is:\", count_even) # prints the"
      ],
      "metadata": {
        "colab": {
          "base_uri": "https://localhost:8080/"
        },
        "id": "6qO8Kgq2MTr7",
        "outputId": "0a9b790f-a36e-4232-e89f-696e9e98ca2d"
      },
      "execution_count": 14,
      "outputs": [
        {
          "output_type": "stream",
          "name": "stdout",
          "text": [
            "Count of all even numbers in the list is: 10\n"
          ]
        }
      ]
    },
    {
      "cell_type": "code",
      "source": [
        "# make new list 0f 10 element and display count of  all odd number  using loop\n",
        "new_list = [1, 3, 5, 7, 9, 11, 13, 15, 17, 19]\n",
        "count_odd = 0\n",
        "for num in new_list:\n",
        "    if num % 2 != 0:\n",
        "        count_odd += 1\n",
        "print(\"Count of all odd numbers in the list is:\", count_odd) # prints the"
      ],
      "metadata": {
        "colab": {
          "base_uri": "https://localhost:8080/"
        },
        "id": "JduMN3byMYiy",
        "outputId": "1935cf26-9557-4dcb-f0bc-8a533257ea05"
      },
      "execution_count": 16,
      "outputs": [
        {
          "output_type": "stream",
          "name": "stdout",
          "text": [
            "Count of all odd numbers in the list is: 10\n"
          ]
        }
      ]
    },
    {
      "cell_type": "code",
      "source": [
        "# make new list 0f 10 element and display reverse of list  using loop\n",
        "new_list = [1, 2, 3, 4, 5, 6, 7, 8, 9, 10]\n",
        "reverse_list = []\n",
        "for i in range(len(new_list)-1, -1, -1):\n",
        "    reverse_list.append(new_list[i])\n",
        "print(\"Reverse of the list is:\", reverse_list) # prints the reversed list"
      ],
      "metadata": {
        "colab": {
          "base_uri": "https://localhost:8080/"
        },
        "id": "B9apMIbtNHeC",
        "outputId": "942040e0-89f3-4adf-869a-cf63e7d9aa92"
      },
      "execution_count": 17,
      "outputs": [
        {
          "output_type": "stream",
          "name": "stdout",
          "text": [
            "Reverse of the list is: [10, 9, 8, 7, 6, 5, 4, 3, 2, 1]\n"
          ]
        }
      ]
    },
    {
      "cell_type": "markdown",
      "source": [
        "# **List functions**\n",
        "In Python, lists have a variety of built-in functions (also known as methods) for manipulating and working with their contents. Here's a list of some common functions for lists:\n",
        "\n",
        "**append():** Adds an element to the end of a list.\n",
        "\n",
        "**extend():** Adds the elements of a list (or any iterable) to the end of another list.\n",
        "\n",
        "**insert():** Inserts an element at a specified position in a list.\n",
        "\n",
        "**remove():** Removes the first occurrence of an element from a list.\n",
        "\n",
        "**pop():** Removes and returns the element at a specified position in a list.\n",
        "\n",
        "**index():** Returns the index of the first occurrence of an element in a list.\n",
        "\n",
        "**count():** Returns the number of times an element appears in a list.\n",
        "\n",
        "**sort()**: Sorts the elements of a list in ascending order (or using a custom sorting function).\n",
        "\n",
        "**reverse():** Reverses the order of the elements in a list.\n",
        "\n",
        "**copy():** Returns a copy of a list.\n",
        "\n",
        "**clear():** Removes all elements from a list."
      ],
      "metadata": {
        "id": "6PyRxEyIMySL"
      }
    },
    {
      "cell_type": "code",
      "source": [
        "# use append() in list \n",
        "# create an empty list\n",
        "my_list = []\n",
        "# append some elements to the list\n",
        "my_list.append(1)\n",
        "my_list.append(2)\n",
        "my_list.append(3)\n",
        "print(\"My list is:\", my_list) # prints the list with appended elements"
      ],
      "metadata": {
        "colab": {
          "base_uri": "https://localhost:8080/"
        },
        "id": "4gqjQ4AeMxpc",
        "outputId": "fded4ea8-11a7-4fc6-af71-2bb8dfc3b315"
      },
      "execution_count": 18,
      "outputs": [
        {
          "output_type": "stream",
          "name": "stdout",
          "text": [
            "My list is: [1, 2, 3]\n"
          ]
        }
      ]
    },
    {
      "cell_type": "code",
      "source": [
        "# use append() in list  existing list \n",
        "# create an existing list\n",
        "my_list = [1, 2, 3]\n",
        "# append some elements to the list\n",
        "my_list.append(4)\n",
        "my_list.append(5)\n",
        "print(\"My list is:\", my_list) # prints the list with appended elements"
      ],
      "metadata": {
        "colab": {
          "base_uri": "https://localhost:8080/"
        },
        "id": "NIpqqJYaNjX5",
        "outputId": "7a7f2f18-e46c-49a8-d1db-8a7a984aa027"
      },
      "execution_count": 19,
      "outputs": [
        {
          "output_type": "stream",
          "name": "stdout",
          "text": [
            "My list is: [1, 2, 3, 4, 5]\n"
          ]
        }
      ]
    },
    {
      "cell_type": "code",
      "source": [
        "# append 2 list  make one \n",
        "list1 = [1, 2, 3]\n",
        "list2 = [4, 5, 6]\n",
        "list3 = list1 + list2\n",
        "print(\"Combined list is:\", list3) # prints the combined list of list1 and list2"
      ],
      "metadata": {
        "colab": {
          "base_uri": "https://localhost:8080/"
        },
        "id": "ElPMl1JWNreu",
        "outputId": "f54ae1fe-62fe-4a6e-ddbe-1f90a453eed4"
      },
      "execution_count": 20,
      "outputs": [
        {
          "output_type": "stream",
          "name": "stdout",
          "text": [
            "Combined list is: [1, 2, 3, 4, 5, 6]\n"
          ]
        }
      ]
    },
    {
      "cell_type": "markdown",
      "source": [
        "# **extend():**\n",
        "Adds the elements of a list (or any iterable) to the end of another list."
      ],
      "metadata": {
        "id": "bC2UkWEwN-ux"
      }
    },
    {
      "cell_type": "code",
      "source": [
        "# use extend(): function in list \n",
        "# create an existing list\n",
        "my_list = [1, 2, 3]\n",
        "# extend the list with some elements\n",
        "my_list.extend([4, 5])\n",
        "print(\"My list is:\", my_list) # prints the list with extended elements"
      ],
      "metadata": {
        "colab": {
          "base_uri": "https://localhost:8080/"
        },
        "id": "hPpubDGbN4r2",
        "outputId": "4cfd131c-84c9-45e6-b14c-81f75965460b"
      },
      "execution_count": 21,
      "outputs": [
        {
          "output_type": "stream",
          "name": "stdout",
          "text": [
            "My list is: [1, 2, 3, 4, 5]\n"
          ]
        }
      ]
    },
    {
      "cell_type": "code",
      "source": [
        "# use extend() in list existing list\n",
        "# create an existing list\n",
        "my_list = [1, 2, 3]\n",
        "# create another list\n",
        "new_elements = [4, 5]\n",
        "# extend the existing list with the new list\n",
        "my_list.extend(new_elements)\n",
        "print(\"My list is:\", my_list) # prints the list with extended elements"
      ],
      "metadata": {
        "colab": {
          "base_uri": "https://localhost:8080/"
        },
        "id": "zUJS3OOuOSMe",
        "outputId": "0ab58350-b123-4899-a3a8-54a6892fb3d3"
      },
      "execution_count": 22,
      "outputs": [
        {
          "output_type": "stream",
          "name": "stdout",
          "text": [
            "My list is: [1, 2, 3, 4, 5]\n"
          ]
        }
      ]
    },
    {
      "cell_type": "markdown",
      "source": [
        "# **insert():**\n",
        " Inserts an element at a specified position in a list"
      ],
      "metadata": {
        "id": "Z_NXoOR8Ojvu"
      }
    },
    {
      "cell_type": "code",
      "source": [
        "# use insert function in list \n",
        "# create an existing list\n",
        "my_list = [1, 2, 3]\n",
        "# insert an element at index 1\n",
        "my_list.insert(1, 4)\n",
        "print(\"My list is:\", my_list) # prints the list with inserted element at index 1"
      ],
      "metadata": {
        "colab": {
          "base_uri": "https://localhost:8080/"
        },
        "id": "Kwr5X329ObPz",
        "outputId": "e7ac477b-cb3b-4ac1-9868-a6c8f30729c8"
      },
      "execution_count": 23,
      "outputs": [
        {
          "output_type": "stream",
          "name": "stdout",
          "text": [
            "My list is: [1, 4, 2, 3]\n"
          ]
        }
      ]
    },
    {
      "cell_type": "code",
      "source": [
        "# use insert function in combine 2 list \n",
        "# create two existing lists\n",
        "list1 = [1, 2, 3]\n",
        "list2 = [4, 5, 6]\n",
        "# insert the elements of list2 into list1 at index 3\n",
        "for i in range(len(list2)):\n",
        "    list1.insert(i+3, list2[i])\n",
        "print(\"Combined list is:\", list1) # prints the combined list of"
      ],
      "metadata": {
        "colab": {
          "base_uri": "https://localhost:8080/"
        },
        "id": "xQ7xsI0ZOx9S",
        "outputId": "b20cf45b-03b8-427d-cd8f-baf40ab69aaa"
      },
      "execution_count": 24,
      "outputs": [
        {
          "output_type": "stream",
          "name": "stdout",
          "text": [
            "Combined list is: [1, 2, 3, 4, 5, 6]\n"
          ]
        }
      ]
    },
    {
      "cell_type": "markdown",
      "source": [
        "# **remove():**\n",
        "\n",
        "Removes the first occurrence of an element from a list"
      ],
      "metadata": {
        "id": "ENNiQTNNPTb6"
      }
    },
    {
      "cell_type": "code",
      "source": [
        "# use remove function in list \n",
        "# create an existing list\n",
        "my_list = [1, 2, 3, 4, 5]\n",
        "# remove element 3 from the list\n",
        "my_list.remove(3)\n",
        "print(\"My list is:\", my_list) # prints the list with element 3 removed"
      ],
      "metadata": {
        "colab": {
          "base_uri": "https://localhost:8080/"
        },
        "id": "jpwFPdObPaHr",
        "outputId": "dd1b0c29-217d-4ba8-e76c-4cdad06d78f1"
      },
      "execution_count": 25,
      "outputs": [
        {
          "output_type": "stream",
          "name": "stdout",
          "text": [
            "My list is: [1, 2, 4, 5]\n"
          ]
        }
      ]
    },
    {
      "cell_type": "code",
      "source": [
        "# use remove function in list and clear all value  using remove function and loop \n",
        "# create an existing list\n",
        "\n",
        "my_list = [1, 2, 3, 4, 5]\n",
        "\n",
        "# remove all elements from the list using a loop and remove function\n",
        "for i in my_list:\n",
        "    my_list.remove(i)\n",
        "print(\"My list is:\", my_list) # prints the empty list\n",
        "\n"
      ],
      "metadata": {
        "colab": {
          "base_uri": "https://localhost:8080/"
        },
        "id": "fxcJNdZ5PmrK",
        "outputId": "e3b8ec68-f312-4a92-eac6-7b447fb01d75"
      },
      "execution_count": 27,
      "outputs": [
        {
          "output_type": "stream",
          "name": "stdout",
          "text": [
            "My list is: [2, 4]\n"
          ]
        }
      ]
    },
    {
      "cell_type": "code",
      "source": [
        "# use remove function in list and remove  all even value  using remove function and loop \n",
        "# create an existing list\n",
        "my_list = [1, 3, 3, 4, 5, 11, 7, 8, 9]\n",
        "# remove all even elements from the list using a loop and remove function\n",
        "for i in my_list:\n",
        "    if i % 2 == 0:\n",
        "        my_list.remove(i)\n",
        "print(\"My list is:\", my_list) # prints the list with all even elements removed"
      ],
      "metadata": {
        "colab": {
          "base_uri": "https://localhost:8080/"
        },
        "id": "ntQnMFJFP9-B",
        "outputId": "53ba3ec0-f14b-4713-b53d-d665b47aa2bd"
      },
      "execution_count": 30,
      "outputs": [
        {
          "output_type": "stream",
          "name": "stdout",
          "text": [
            "My list is: [1, 3, 3, 5, 11, 7, 9]\n"
          ]
        }
      ]
    },
    {
      "cell_type": "markdown",
      "source": [
        "# **pop():**\n",
        "Removes and returns the element at a specified position in a list"
      ],
      "metadata": {
        "id": "LREuEnn_QbDq"
      }
    },
    {
      "cell_type": "code",
      "source": [
        "# use pop function in list \n",
        "# create an existing list\n",
        "my_list = [1, 2, 3, 4, 5]\n",
        "# remove and return the last element of the list using pop function\n",
        "last_element = my_list.pop()\n",
        "print(\"Last element removed from the list is:\", last_element)\n",
        "print(\"My list is:\", my_list) # prints the list with last element removed"
      ],
      "metadata": {
        "colab": {
          "base_uri": "https://localhost:8080/"
        },
        "id": "-qbt_vH3QgzR",
        "outputId": "9b77892a-7ee4-4636-c6be-6bbc4279b7ad"
      },
      "execution_count": 31,
      "outputs": [
        {
          "output_type": "stream",
          "name": "stdout",
          "text": [
            "Last element removed from the list is: 5\n",
            "My list is: [1, 2, 3, 4]\n"
          ]
        }
      ]
    },
    {
      "cell_type": "code",
      "source": [
        "# pop of 1st element of list using pop function \n",
        "# create an existing list\n",
        "my_list = [1, 2, 3, 4, 5]\n",
        "# remove and return the first element of the list using pop function\n",
        "first_element = my_list.pop(0)\n",
        "print(\"First element removed from the list is:\", first_element)\n",
        "print(\"My list is:\", my_list) # prints the list with first element removed"
      ],
      "metadata": {
        "colab": {
          "base_uri": "https://localhost:8080/"
        },
        "id": "ED4sNjNEQqoV",
        "outputId": "60fdcd38-4db1-432f-a710-b26a728ca553"
      },
      "execution_count": 32,
      "outputs": [
        {
          "output_type": "stream",
          "name": "stdout",
          "text": [
            "First element removed from the list is: 1\n",
            "My list is: [2, 3, 4, 5]\n"
          ]
        }
      ]
    },
    {
      "cell_type": "code",
      "source": [
        "# pop of mid element of lisr using pop function\n",
        " # create an existing list\n",
        "my_list = [1, 2, 3, 4, 5]\n",
        "# remove and return the middle element of the list using pop function\n",
        "mid_element = my_list.pop(len(my_list)//2)\n",
        "print(\"Middle element removed from the list is:\", mid_element)\n",
        "print(\"My list is:\", my_list) # prints the list with middle element removed"
      ],
      "metadata": {
        "colab": {
          "base_uri": "https://localhost:8080/"
        },
        "id": "6g9nPBE1Q3cL",
        "outputId": "f9db5bd3-94a1-42bc-ea06-22c4999ffff8"
      },
      "execution_count": 33,
      "outputs": [
        {
          "output_type": "stream",
          "name": "stdout",
          "text": [
            "Middle element removed from the list is: 3\n",
            "My list is: [1, 2, 4, 5]\n"
          ]
        }
      ]
    },
    {
      "cell_type": "code",
      "source": [
        "# reverse of list using pop function \n",
        "# create an existing list\n",
        "my_list = [1, 2, 3, 4, 5]\n",
        "# reverse the list using pop function\n",
        "reversed_list = []\n",
        "while len(my_list) > 0:\n",
        "    reversed_list.append(my_list.pop())\n",
        "print(\"Reversed list is:\", reversed_list) # prints the reversed list"
      ],
      "metadata": {
        "colab": {
          "base_uri": "https://localhost:8080/"
        },
        "id": "5RwO7l5ZRI65",
        "outputId": "a846813d-870a-42ae-9358-4186d8c15f57"
      },
      "execution_count": 34,
      "outputs": [
        {
          "output_type": "stream",
          "name": "stdout",
          "text": [
            "Reversed list is: [5, 4, 3, 2, 1]\n"
          ]
        }
      ]
    },
    {
      "cell_type": "code",
      "source": [
        "# pop all even value from list \n",
        "# create an existing list\n",
        "my_list = [1, 2, 3, 4, 5, 6, 7, 8, 9]\n",
        "# remove all even values from the list using pop function\n",
        "i = 0\n",
        "while i < len(my_list):\n",
        "    if my_list[i] % 2 == 0:\n",
        "        my_list.pop(i)\n",
        "    else:\n",
        "      i += 1\n",
        "\n",
        "         \n",
        "print(\"My list with even values removed is:\", my_list) # prints the list with even values removed\n",
        "   "
      ],
      "metadata": {
        "colab": {
          "base_uri": "https://localhost:8080/"
        },
        "id": "Euh8fuxxRXa9",
        "outputId": "1c4408d6-c7c1-411c-e264-02344ea99a7c"
      },
      "execution_count": 36,
      "outputs": [
        {
          "output_type": "stream",
          "name": "stdout",
          "text": [
            "My list with even values removed is: [1, 3, 5, 7, 9]\n"
          ]
        }
      ]
    },
    {
      "cell_type": "markdown",
      "source": [
        "# **index():** \n",
        "Returns the index of the first occurrence of an element in a list."
      ],
      "metadata": {
        "id": "2ExFUbhER40X"
      }
    },
    {
      "cell_type": "code",
      "source": [
        "#use of index function  in list \n",
        "# create an existing list\n",
        "my_list = ['apple', 'banana', 'orange', 'grape', 'kiwi']\n",
        "# find the index of 'orange' in the list using index function\n",
        "orange_index = my_list.index('orange')\n",
        "print(\"Index of 'orange' in the list is:\", orange_index)"
      ],
      "metadata": {
        "colab": {
          "base_uri": "https://localhost:8080/"
        },
        "id": "r3ksO35RR33N",
        "outputId": "5503c4a7-ed0b-489b-8858-85bcc2db9e42"
      },
      "execution_count": 37,
      "outputs": [
        {
          "output_type": "stream",
          "name": "stdout",
          "text": [
            "Index of 'orange' in the list is: 2\n"
          ]
        }
      ]
    },
    {
      "cell_type": "code",
      "source": [
        "#use of index function  on number list \n",
        "# create an existing list\n",
        "my_list = [10, 20, 30, 40, 50]\n",
        "# find the index of 30 in the list using index function\n",
        "thirty_index = my_list.index(30)\n",
        "print(\"Index of 30 in the list is:\", thirty_index)"
      ],
      "metadata": {
        "colab": {
          "base_uri": "https://localhost:8080/"
        },
        "id": "5A5uO8joSHqe",
        "outputId": "27b6a5df-2e2f-499d-dada-bf9c5420b6ca"
      },
      "execution_count": 38,
      "outputs": [
        {
          "output_type": "stream",
          "name": "stdout",
          "text": [
            "Index of 30 in the list is: 2\n"
          ]
        }
      ]
    },
    {
      "cell_type": "code",
      "source": [
        "#use of index function  on number list \n",
        "# create an existing list\n",
        "my_list = [10, 30, 10, 30, 50]\n",
        "# find the index of 30 in the list using index function\n",
        "thirty_index = my_list.index(30)\n",
        "print(\"Index of 30 in the list is:\", thirty_index)"
      ],
      "metadata": {
        "colab": {
          "base_uri": "https://localhost:8080/"
        },
        "id": "rwG0DjguSQCr",
        "outputId": "912a4ceb-f9e3-4037-da2f-7d365e117856"
      },
      "execution_count": 40,
      "outputs": [
        {
          "output_type": "stream",
          "name": "stdout",
          "text": [
            "Index of 30 in the list is: 1\n"
          ]
        }
      ]
    },
    {
      "cell_type": "markdown",
      "source": [
        "# **count():**\n",
        "Returns the number of times an element appears in a list."
      ],
      "metadata": {
        "id": "DVqOVWYMSauz"
      }
    },
    {
      "cell_type": "code",
      "source": [
        "# use count function in list \n",
        "# create an existing list\n",
        "my_list = [10, 20, 30, 40, 50, 30, 20, 30]\n",
        "# count the number of occurrences of 30 in the list using count function\n",
        "thirty_count = my_list.count(30)\n",
        "print(\"Number of occurrences of 30 in the list is:\", thirty_count)"
      ],
      "metadata": {
        "colab": {
          "base_uri": "https://localhost:8080/"
        },
        "id": "wFNaR5lXSaAT",
        "outputId": "2e6e655e-698f-47b0-f624-6a43486cb6db"
      },
      "execution_count": 41,
      "outputs": [
        {
          "output_type": "stream",
          "name": "stdout",
          "text": [
            "Number of occurrences of 30 in the list is: 3\n"
          ]
        }
      ]
    },
    {
      "cell_type": "code",
      "source": [
        "# use count function in list and check value is available or not \n",
        "# create an existing list\n",
        "my_list = [10, 20, 30, 40, 50, 30, 20, 30]\n",
        "# check if 60 is present in the list using count function\n",
        "sixty_count = my_list.count(60)\n",
        "if sixty_count > 0:\n",
        "    print(\"60 is present in the list\")\n",
        "else:\n",
        "    print(\"60is not present in the list\")"
      ],
      "metadata": {
        "colab": {
          "base_uri": "https://localhost:8080/"
        },
        "id": "qITQN9YQSrfj",
        "outputId": "0c83f258-6163-4f10-bbc6-306e6e7408c6"
      },
      "execution_count": 42,
      "outputs": [
        {
          "output_type": "stream",
          "name": "stdout",
          "text": [
            "60is not present in the list\n"
          ]
        }
      ]
    },
    {
      "cell_type": "markdown",
      "source": [
        "# **sort():**\n",
        "Sorts the elements of a list in ascending order (or using a custom sorting function)."
      ],
      "metadata": {
        "id": "xusm1jNgS9az"
      }
    },
    {
      "cell_type": "code",
      "source": [
        "# use sort function in list \n",
        "# create an existing list\n",
        "my_list = [10, 50, 30, 20, 40]\n",
        "# sort the list using sort function\n",
        "my_list.sort()\n",
        "print(\"Sorted list is:\", my_list)"
      ],
      "metadata": {
        "colab": {
          "base_uri": "https://localhost:8080/"
        },
        "id": "4R7dORCnS12Y",
        "outputId": "7cf732f7-105a-428f-ccf3-ab164976a7f9"
      },
      "execution_count": 43,
      "outputs": [
        {
          "output_type": "stream",
          "name": "stdout",
          "text": [
            "Sorted list is: [10, 20, 30, 40, 50]\n"
          ]
        }
      ]
    },
    {
      "cell_type": "code",
      "source": [
        "# use sort function in list with asc order \n",
        "# create an existing list\n",
        "my_list = [10, 50, 30, 20, 40]\n",
        "# sort the list in ascending order using sort function\n",
        "my_list.sort()\n",
        "print(\"Sorted list in ascending order is:\", my_list)"
      ],
      "metadata": {
        "colab": {
          "base_uri": "https://localhost:8080/"
        },
        "id": "hcBseQY4TPPz",
        "outputId": "513a92f9-779b-493a-ad30-d916a92e6229"
      },
      "execution_count": 44,
      "outputs": [
        {
          "output_type": "stream",
          "name": "stdout",
          "text": [
            "Sorted list in ascending order is: [10, 20, 30, 40, 50]\n"
          ]
        }
      ]
    },
    {
      "cell_type": "code",
      "source": [
        "# use sort function in list with desc order \n",
        "# create an existing list\n",
        "my_list = [10, 50, 30, 20, 40]\n",
        "# sort the list in descending order using sort function and reverse parameter\n",
        "my_list.sort(reverse=True)\n",
        "print(\"Sorted list in descending order is:\", my_list)"
      ],
      "metadata": {
        "colab": {
          "base_uri": "https://localhost:8080/"
        },
        "id": "KW855ej7TZM2",
        "outputId": "0c0becc5-f201-4e2e-8998-ce2a9cc5c1dd"
      },
      "execution_count": 45,
      "outputs": [
        {
          "output_type": "stream",
          "name": "stdout",
          "text": [
            "Sorted list in descending order is: [50, 40, 30, 20, 10]\n"
          ]
        }
      ]
    },
    {
      "cell_type": "markdown",
      "source": [
        "# **reverse():**\n",
        "Reverses the order of the elements in a list."
      ],
      "metadata": {
        "id": "GQzrQXVZTl6a"
      }
    },
    {
      "cell_type": "code",
      "source": [
        "#use reverse function in list \n",
        "# create an existing list\n",
        "my_list = [10, 50, 30, 20, 40]\n",
        "# reverse the list using reverse function\n",
        "my_list.reverse()\n",
        "print(\"Reversed list is:\", my_list)"
      ],
      "metadata": {
        "colab": {
          "base_uri": "https://localhost:8080/"
        },
        "id": "sKRGCm9fTqcN",
        "outputId": "3aa3ae81-86f6-4d83-8bcd-957c5f345037"
      },
      "execution_count": 46,
      "outputs": [
        {
          "output_type": "stream",
          "name": "stdout",
          "text": [
            "Reversed list is: [40, 20, 30, 50, 10]\n"
          ]
        }
      ]
    },
    {
      "cell_type": "markdown",
      "source": [
        "\n",
        "# **copy():**\n",
        "Returns a copy of a list."
      ],
      "metadata": {
        "id": "QCyTCoA-T30Z"
      }
    },
    {
      "cell_type": "code",
      "source": [
        "# use copy function in list \n",
        "# create an existing list\n",
        "my_list = [10, 50, 30, 20, 40]\n",
        "# create a copy of the list using copy function\n",
        "new_list = my_list.copy()\n",
        "print(\"Original list is:\", my_list)\n",
        "print(\"Copied list is:\", new_list)"
      ],
      "metadata": {
        "colab": {
          "base_uri": "https://localhost:8080/"
        },
        "id": "QoZOIGaAT7Xt",
        "outputId": "574b3e6c-7a2c-48bf-dd9a-b882632bd290"
      },
      "execution_count": 47,
      "outputs": [
        {
          "output_type": "stream",
          "name": "stdout",
          "text": [
            "Original list is: [10, 50, 30, 20, 40]\n",
            "Copied list is: [10, 50, 30, 20, 40]\n"
          ]
        }
      ]
    },
    {
      "cell_type": "code",
      "source": [
        "# use copy function in list with exiting list \n",
        " # create an existing list\n",
        "my_list = ['apple', 'banana', 'cherry']\n",
        "new_list=['oriange']\n",
        "# create a copy of the list using copy function\n",
        "new_list = my_list.copy()\n",
        "print(\"Original list is:\", my_list)\n",
        "print(\"Copied list is:\", new_list)"
      ],
      "metadata": {
        "colab": {
          "base_uri": "https://localhost:8080/"
        },
        "id": "Q18s5NDtUGcx",
        "outputId": "4ea2384d-6835-421e-b33c-16642d4b781c"
      },
      "execution_count": 48,
      "outputs": [
        {
          "output_type": "stream",
          "name": "stdout",
          "text": [
            "Original list is: ['apple', 'banana', 'cherry']\n",
            "Copied list is: ['apple', 'banana', 'cherry']\n"
          ]
        }
      ]
    },
    {
      "cell_type": "markdown",
      "source": [
        "# **clear():**\n",
        "Removes all elements from a list."
      ],
      "metadata": {
        "id": "2Ywk3oOcUlNg"
      }
    },
    {
      "cell_type": "code",
      "source": [
        "# use clear function in list \n",
        "# create an existing list\n",
        "my_list = [10, 50, 30, 20, 40]\n",
        "# clear the list using clear function\n",
        "my_list.clear()\n",
        "print(\"Cleared list is:\", my_list)"
      ],
      "metadata": {
        "colab": {
          "base_uri": "https://localhost:8080/"
        },
        "id": "pc2DJ90QUkSv",
        "outputId": "3d1b0575-0c0c-466c-f505-86acc3ed70b2"
      },
      "execution_count": 49,
      "outputs": [
        {
          "output_type": "stream",
          "name": "stdout",
          "text": [
            "Cleared list is: []\n"
          ]
        }
      ]
    },
    {
      "cell_type": "markdown",
      "source": [
        "There are several other built-in functions for lists in Python. Here are a few more examples:\n",
        "\n",
        "sorted(): Returns a new sorted list from the items in an iterable (or the items in a list) in ascending order. Unlike the sort() method, sorted() does not modify the original list.\n",
        "\n",
        "max(): Returns the largest item in a list (or an iterable).\n",
        "\n",
        "min(): Returns the smallest item in a list (or an iterable).\n",
        "\n",
        "sum(): Returns the sum of all items in a list (or an iterable).\n",
        "\n",
        "len(): Returns the number of items in a list."
      ],
      "metadata": {
        "id": "yVOjkG-7VYR1"
      }
    },
    {
      "cell_type": "code",
      "source": [
        "my_list = [4, 7, 1, 8, 3, 9, 2]\n",
        "\n",
        "sorted_list = sorted(my_list)\n",
        "print(sorted_list)  # prints [1, 2, 3, 4, 7, 8, 9]\n",
        "\n",
        "max_value = max(my_list)\n",
        "print(\"max is \",max_value)  # prints 9\n",
        "\n",
        "min_value = min(my_list)\n",
        "print(\"MIN is \",min_value)  # prints 1\n",
        "\n",
        "sum_value = sum(my_list)\n",
        "print(\"SUM is \",sum_value)  # prints 34\n",
        "\n",
        "length = len(my_list)\n",
        "print(\"lenght is \",length)  # prints 7\n"
      ],
      "metadata": {
        "colab": {
          "base_uri": "https://localhost:8080/"
        },
        "id": "bZUsLA2KVfZA",
        "outputId": "865e1862-ac41-439e-f279-760bc2919b12"
      },
      "execution_count": 52,
      "outputs": [
        {
          "output_type": "stream",
          "name": "stdout",
          "text": [
            "[1, 2, 3, 4, 7, 8, 9]\n",
            "max is  9\n",
            "MIN is  1\n",
            "SUM is  34\n",
            "lenght is  7\n"
          ]
        }
      ]
    },
    {
      "cell_type": "code",
      "source": [
        "# use 2X3 list \n",
        "# create a 2x3 list\n",
        "my_list = [[1, 2, 3], [4, 5, 6]]\n",
        "print(my_list)  # prints [[1, 2, 3], [4, 5, 6]]"
      ],
      "metadata": {
        "colab": {
          "base_uri": "https://localhost:8080/"
        },
        "id": "MtRADPzD8KZH",
        "outputId": "ed821e31-c93d-4695-be72-2aed5f4332a8"
      },
      "execution_count": 53,
      "outputs": [
        {
          "output_type": "stream",
          "name": "stdout",
          "text": [
            "[[1, 2, 3], [4, 5, 6]]\n"
          ]
        }
      ]
    },
    {
      "cell_type": "code",
      "source": [
        "# access the element of 2X3 list\n",
        "print(my_list[0][1])  # prints 2\n",
        "print(my_list[1][2])  # prints 6"
      ],
      "metadata": {
        "colab": {
          "base_uri": "https://localhost:8080/"
        },
        "id": "lvOr_8rc8TfB",
        "outputId": "d26170d9-0ee4-4970-99b7-28bdd22ebf49"
      },
      "execution_count": 54,
      "outputs": [
        {
          "output_type": "stream",
          "name": "stdout",
          "text": [
            "2\n",
            "6\n"
          ]
        }
      ]
    },
    {
      "cell_type": "code",
      "source": [
        "# itrate 2 X 3 list # iterate 2 X 3 list\n",
        "for i in range(len(my_list)):\n",
        "    for j in range(len(my_list[i])):\n",
        "        print(my_list[i][j], end=\" \")\n",
        "    print()"
      ],
      "metadata": {
        "colab": {
          "base_uri": "https://localhost:8080/"
        },
        "id": "aEvv9IvR8WRr",
        "outputId": "1f9e7d69-7155-4ddf-8cac-34d8488919cb"
      },
      "execution_count": 55,
      "outputs": [
        {
          "output_type": "stream",
          "name": "stdout",
          "text": [
            "1 2 3 \n",
            "4 5 6 \n"
          ]
        }
      ]
    },
    {
      "cell_type": "code",
      "source": [],
      "metadata": {
        "id": "Z4jNbPnH8pL2"
      },
      "execution_count": null,
      "outputs": []
    }
  ]
}